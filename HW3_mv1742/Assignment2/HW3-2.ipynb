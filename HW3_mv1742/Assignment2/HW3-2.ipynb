{
 "cells": [
  {
   "cell_type": "code",
   "execution_count": 1,
   "metadata": {},
   "outputs": [],
   "source": [
    "from __future__ import print_function #for compatibility beteen python2 and python3\n",
    "import os\n",
    "import pandas as pd"
   ]
  },
  {
   "cell_type": "code",
   "execution_count": 2,
   "metadata": {},
   "outputs": [
    {
     "name": "stdout",
     "output_type": "stream",
     "text": [
      "  % Total    % Received % Xferd  Average Speed   Time    Time     Time  Current\n",
      "                                 Dload  Upload   Total   Spent    Left  Speed\n",
      "100  2501    0  2501    0     0  12239      0 --:--:-- --:--:-- --:--:-- 12259\n"
     ]
    }
   ],
   "source": [
    "!curl https://data.cityofnewyork.us/api/views/fcau-jc6k/rows.csv?accessType=DOWNLOAD > dhsdaily.csv\n",
    "#Data regarding Infant_Mortality"
   ]
  },
  {
   "cell_type": "code",
   "execution_count": 3,
   "metadata": {},
   "outputs": [
    {
     "name": "stdout",
     "output_type": "stream",
     "text": [
      "PUIdata None\n"
     ]
    }
   ],
   "source": [
    "#create the env variable if missing\n",
    "os.environ[\"PUIDATA\"] = \"%s/PUIDATA\"%os.getenv(\"HOME\")\n",
    "print(\"PUIdata\", os.getenv(\"PUIdata\"))"
   ]
  },
  {
   "cell_type": "code",
   "execution_count": 4,
   "metadata": {
    "scrolled": true
   },
   "outputs": [],
   "source": [
    "# move the data\n",
    "!mv dhsdaily.csv $PUIDATA"
   ]
  },
  {
   "cell_type": "code",
   "execution_count": 5,
   "metadata": {
    "scrolled": true
   },
   "outputs": [
    {
     "name": "stdout",
     "output_type": "stream",
     "text": [
      "dhsdaily.csv  dhsdailyy.json\r\n"
     ]
    }
   ],
   "source": [
    "!ls $PUIDATA"
   ]
  },
  {
   "cell_type": "code",
   "execution_count": 6,
   "metadata": {},
   "outputs": [],
   "source": [
    "dhs = pd.read_csv(\"%s/dhsdaily.csv\"%os.getenv(\"PUIDATA\"))"
   ]
  },
  {
   "cell_type": "code",
   "execution_count": 7,
   "metadata": {},
   "outputs": [
    {
     "data": {
      "text/html": [
       "<div>\n",
       "<table border=\"1\" class=\"dataframe\">\n",
       "  <thead>\n",
       "    <tr style=\"text-align: right;\">\n",
       "      <th></th>\n",
       "      <th>Year</th>\n",
       "      <th>Materal Race or Ethnicity</th>\n",
       "      <th>Infant Mortality Rate</th>\n",
       "      <th>Neonatal Mortality Rate</th>\n",
       "      <th>Postneonatal Mortality Rate</th>\n",
       "      <th>Infant Deaths</th>\n",
       "      <th>Neonatal Infant Deaths</th>\n",
       "      <th>Postneonatal Infant Deaths</th>\n",
       "      <th>Number of Live Births</th>\n",
       "    </tr>\n",
       "  </thead>\n",
       "  <tbody>\n",
       "    <tr>\n",
       "      <th>0</th>\n",
       "      <td>2007</td>\n",
       "      <td>Black Non-Hispanic</td>\n",
       "      <td>9.8</td>\n",
       "      <td>6.0</td>\n",
       "      <td>3.8</td>\n",
       "      <td>287.0</td>\n",
       "      <td>177.0</td>\n",
       "      <td>110.0</td>\n",
       "      <td>29268</td>\n",
       "    </tr>\n",
       "    <tr>\n",
       "      <th>1</th>\n",
       "      <td>2013</td>\n",
       "      <td>Other Hispanic</td>\n",
       "      <td>4.3</td>\n",
       "      <td>2.6</td>\n",
       "      <td>1.7</td>\n",
       "      <td>120.0</td>\n",
       "      <td>72.0</td>\n",
       "      <td>48.0</td>\n",
       "      <td>27621</td>\n",
       "    </tr>\n",
       "    <tr>\n",
       "      <th>2</th>\n",
       "      <td>2013</td>\n",
       "      <td>Black Non-Hispanic</td>\n",
       "      <td>8.3</td>\n",
       "      <td>5.5</td>\n",
       "      <td>2.9</td>\n",
       "      <td>201.0</td>\n",
       "      <td>132.0</td>\n",
       "      <td>69.0</td>\n",
       "      <td>24108</td>\n",
       "    </tr>\n",
       "    <tr>\n",
       "      <th>3</th>\n",
       "      <td>2008</td>\n",
       "      <td>White Non-Hispanic</td>\n",
       "      <td>3.3</td>\n",
       "      <td>2.1</td>\n",
       "      <td>1.1</td>\n",
       "      <td>125.0</td>\n",
       "      <td>82.0</td>\n",
       "      <td>43.0</td>\n",
       "      <td>38383</td>\n",
       "    </tr>\n",
       "    <tr>\n",
       "      <th>4</th>\n",
       "      <td>2009</td>\n",
       "      <td>Black Non-Hispanic</td>\n",
       "      <td>9.5</td>\n",
       "      <td>5.8</td>\n",
       "      <td>3.7</td>\n",
       "      <td>259.0</td>\n",
       "      <td>158.0</td>\n",
       "      <td>101.0</td>\n",
       "      <td>27405</td>\n",
       "    </tr>\n",
       "    <tr>\n",
       "      <th>5</th>\n",
       "      <td>2010</td>\n",
       "      <td>Black Non-Hispanic</td>\n",
       "      <td>8.6</td>\n",
       "      <td>5.6</td>\n",
       "      <td>3.1</td>\n",
       "      <td>230.0</td>\n",
       "      <td>148.0</td>\n",
       "      <td>82.0</td>\n",
       "      <td>26635</td>\n",
       "    </tr>\n",
       "    <tr>\n",
       "      <th>6</th>\n",
       "      <td>2010</td>\n",
       "      <td>White Non-Hispanic</td>\n",
       "      <td>2.8</td>\n",
       "      <td>2.0</td>\n",
       "      <td>0.8</td>\n",
       "      <td>104.0</td>\n",
       "      <td>75.0</td>\n",
       "      <td>29.0</td>\n",
       "      <td>37780</td>\n",
       "    </tr>\n",
       "  </tbody>\n",
       "</table>\n",
       "</div>"
      ],
      "text/plain": [
       "   Year Materal Race or Ethnicity  Infant Mortality Rate  \\\n",
       "0  2007        Black Non-Hispanic                    9.8   \n",
       "1  2013            Other Hispanic                    4.3   \n",
       "2  2013        Black Non-Hispanic                    8.3   \n",
       "3  2008        White Non-Hispanic                    3.3   \n",
       "4  2009        Black Non-Hispanic                    9.5   \n",
       "5  2010        Black Non-Hispanic                    8.6   \n",
       "6  2010        White Non-Hispanic                    2.8   \n",
       "\n",
       "   Neonatal Mortality Rate  Postneonatal Mortality Rate  Infant Deaths  \\\n",
       "0                      6.0                          3.8          287.0   \n",
       "1                      2.6                          1.7          120.0   \n",
       "2                      5.5                          2.9          201.0   \n",
       "3                      2.1                          1.1          125.0   \n",
       "4                      5.8                          3.7          259.0   \n",
       "5                      5.6                          3.1          230.0   \n",
       "6                      2.0                          0.8          104.0   \n",
       "\n",
       "   Neonatal Infant Deaths  Postneonatal Infant Deaths  Number of Live Births  \n",
       "0                   177.0                       110.0                  29268  \n",
       "1                    72.0                        48.0                  27621  \n",
       "2                   132.0                        69.0                  24108  \n",
       "3                    82.0                        43.0                  38383  \n",
       "4                   158.0                       101.0                  27405  \n",
       "5                   148.0                        82.0                  26635  \n",
       "6                    75.0                        29.0                  37780  "
      ]
     },
     "execution_count": 7,
     "metadata": {},
     "output_type": "execute_result"
    }
   ],
   "source": [
    "#print the fist 8 lines out\n",
    "dhs.head(7)"
   ]
  },
  {
   "cell_type": "code",
   "execution_count": 8,
   "metadata": {},
   "outputs": [
    {
     "data": {
      "text/plain": [
       "Index(['Year', 'Materal Race or Ethnicity', 'Infant Mortality Rate',\n",
       "       'Neonatal Mortality Rate', 'Postneonatal Mortality Rate',\n",
       "       'Infant Deaths', 'Neonatal Infant Deaths', 'Postneonatal Infant Deaths',\n",
       "       'Number of Live Births'],\n",
       "      dtype='object')"
      ]
     },
     "execution_count": 8,
     "metadata": {},
     "output_type": "execute_result"
    }
   ],
   "source": [
    "#look at the columns available, those are the variables\n",
    "dhs.columns    "
   ]
  },
  {
   "cell_type": "code",
   "execution_count": 9,
   "metadata": {},
   "outputs": [
    {
     "data": {
      "text/plain": [
       "432"
      ]
     },
     "execution_count": 9,
     "metadata": {},
     "output_type": "execute_result"
    }
   ],
   "source": [
    "dhs.size"
   ]
  },
  {
   "cell_type": "code",
   "execution_count": 10,
   "metadata": {},
   "outputs": [],
   "source": [
    "dhs_2c = dhs[['Neonatal Mortality Rate', 'Infant Deaths']]"
   ]
  },
  {
   "cell_type": "code",
   "execution_count": 11,
   "metadata": {},
   "outputs": [
    {
     "data": {
      "text/html": [
       "<div>\n",
       "<table border=\"1\" class=\"dataframe\">\n",
       "  <thead>\n",
       "    <tr style=\"text-align: right;\">\n",
       "      <th></th>\n",
       "      <th>Neonatal Mortality Rate</th>\n",
       "      <th>Infant Deaths</th>\n",
       "    </tr>\n",
       "  </thead>\n",
       "  <tbody>\n",
       "    <tr>\n",
       "      <th>0</th>\n",
       "      <td>6.0</td>\n",
       "      <td>287.0</td>\n",
       "    </tr>\n",
       "    <tr>\n",
       "      <th>1</th>\n",
       "      <td>2.6</td>\n",
       "      <td>120.0</td>\n",
       "    </tr>\n",
       "    <tr>\n",
       "      <th>2</th>\n",
       "      <td>5.5</td>\n",
       "      <td>201.0</td>\n",
       "    </tr>\n",
       "    <tr>\n",
       "      <th>3</th>\n",
       "      <td>2.1</td>\n",
       "      <td>125.0</td>\n",
       "    </tr>\n",
       "    <tr>\n",
       "      <th>4</th>\n",
       "      <td>5.8</td>\n",
       "      <td>259.0</td>\n",
       "    </tr>\n",
       "    <tr>\n",
       "      <th>5</th>\n",
       "      <td>5.6</td>\n",
       "      <td>230.0</td>\n",
       "    </tr>\n",
       "    <tr>\n",
       "      <th>6</th>\n",
       "      <td>2.0</td>\n",
       "      <td>104.0</td>\n",
       "    </tr>\n",
       "  </tbody>\n",
       "</table>\n",
       "</div>"
      ],
      "text/plain": [
       "   Neonatal Mortality Rate  Infant Deaths\n",
       "0                      6.0          287.0\n",
       "1                      2.6          120.0\n",
       "2                      5.5          201.0\n",
       "3                      2.1          125.0\n",
       "4                      5.8          259.0\n",
       "5                      5.6          230.0\n",
       "6                      2.0          104.0"
      ]
     },
     "execution_count": 11,
     "metadata": {},
     "output_type": "execute_result"
    }
   ],
   "source": [
    "dhs_2c.head(7)"
   ]
  },
  {
   "cell_type": "code",
   "execution_count": 12,
   "metadata": {},
   "outputs": [
    {
     "name": "stdout",
     "output_type": "stream",
     "text": [
      "Populating the interactive namespace from numpy and matplotlib\n"
     ]
    }
   ],
   "source": [
    "%pylab inline"
   ]
  },
  {
   "cell_type": "code",
   "execution_count": 14,
   "metadata": {},
   "outputs": [
    {
     "data": {
      "text/plain": [
       "Text(0.5,1,'Figure 1')"
      ]
     },
     "execution_count": 14,
     "metadata": {},
     "output_type": "execute_result"
    },
    {
     "data": {
      "image/png": "[encoded data removed]",
      "text/plain": [
       "<matplotlib.figure.Figure at 0x7fc40d148240>"
      ]
     },
     "metadata": {},
     "output_type": "display_data"
    }
   ],
   "source": [
    "dhs_2c.plot(x='Neonatal Mortality Rate', y='Infant Deaths', kind='scatter');\n",
    "plt.title('Figure 1', loc='center')"
   ]
  },
  {
   "cell_type": "markdown",
   "metadata": {},
   "source": [
    "Figure 1: Plot showing the relationship of neonatal mortality rate against infant mortality"
   ]
  }
 ],
 "metadata": {
  "kernelspec": {
   "display_name": "PUI2016_Python3",
   "language": "python",
   "name": "pui2016_python3"
  },
  "language_info": {
   "codemirror_mode": {
    "name": "ipython",
    "version": 3
   },
   "file_extension": ".py",
   "mimetype": "text/x-python",
   "name": "python",
   "nbconvert_exporter": "python",
   "pygments_lexer": "ipython3",
   "version": "3.5.4"
  }
 },
 "nbformat": 4,
 "nbformat_minor": 2
}
