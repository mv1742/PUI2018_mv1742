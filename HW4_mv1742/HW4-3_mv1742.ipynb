{
 "cells": [
  {
   "cell_type": "code",
   "execution_count": 29,
   "metadata": {},
   "outputs": [],
   "source": [
    "from __future__  import print_function, division\n",
    "import pylab as pl\n",
    "import pandas as pd\n",
    "import numpy as np\n",
    "import os"
   ]
  },
  {
   "cell_type": "code",
   "execution_count": 30,
   "metadata": {},
   "outputs": [
    {
     "name": "stdout",
     "output_type": "stream",
     "text": [
      "PUIdata /nfshome/mv1742/PUIDATA\n",
      "201402-citibike-tripdata.csv  dhsdailyy.json\r\n",
      "201402-citibike-tripdata.zip  get_bus_info_mv1742.ipynb\r\n",
      "Assignment1[1].ipynb\t      PUI2018_mv1742\r\n",
      "chisq1.png\t\t      Screen_Shot_2018-09-26_at_1.14.09_PM[1].png\r\n",
      "chisq2.png\t\t      show_bus_locations_mv1742.ipynb\r\n",
      "citibikes_gender[1].ipynb     times.txt\r\n",
      "dhsdaily.csv\r\n"
     ]
    }
   ],
   "source": [
    "#create the env variable if missing\n",
    "os.environ[\"PUIDATA\"] = \"%s/PUIDATA\"%os.getenv(\"HOME\")\n",
    "print(\"PUIdata\", os.getenv(\"PUIDATA\"))\n",
    "!ls $PUIDATA"
   ]
  },
  {
   "cell_type": "code",
   "execution_count": 32,
   "metadata": {},
   "outputs": [],
   "source": [
    "os.system(\"mv \" \"times.txt \" + os.getenv(\"PUIDATA\"))\n",
    "data = pd.read_csv(os.getenv(\"PUIDATA\") + '/' + \"times.txt\", sep='\\t', \n",
    "                  names = [\"values\"])"
   ]
  },
  {
   "cell_type": "code",
   "execution_count": 33,
   "metadata": {},
   "outputs": [],
   "source": [
    "data = pd.DataFrame(data)\n",
    "data.head()\n",
    "n = len(data)"
   ]
  },
  {
   "cell_type": "code",
   "execution_count": 34,
   "metadata": {
    "scrolled": true
   },
   "outputs": [
    {
     "name": "stdout",
     "output_type": "stream",
     "text": [
      "The Sample mean is:  34.4661616883\n",
      "The Sample standard deviation is:  7.13728013375\n"
     ]
    }
   ],
   "source": [
    "SamMean = data['values'].mean()\n",
    "SamStd = data['values'].std()\n",
    "print (\"The Sample mean is: \", SamMean)\n",
    "print (\"The Sample standard deviation is: \", SamStd)"
   ]
  },
  {
   "cell_type": "markdown",
   "metadata": {},
   "source": [
    "# Null hypothesis:\n",
    "H0:  the commute time is the same or longer with the new bus route as it was beforeTold ~ N(μ=36, σ=6)\n",
    "\n",
    "# Alternative\n",
    "Ha:  the commute time is shorter with the new bus route than it was before: Tnew < ToldTold ~ N(μ=36, σ=6)α = 0.05"
   ]
  },
  {
   "cell_type": "code",
   "execution_count": 35,
   "metadata": {},
   "outputs": [],
   "source": [
    "PopMean = 36.0\n",
    "PopStd = 6.0"
   ]
  },
  {
   "cell_type": "code",
   "execution_count": 36,
   "metadata": {},
   "outputs": [
    {
     "name": "stdout",
     "output_type": "stream",
     "text": [
      "10.0\n"
     ]
    }
   ],
   "source": [
    "s = np.sqrt(n)\n",
    "print (s)"
   ]
  },
  {
   "cell_type": "code",
   "execution_count": 37,
   "metadata": {},
   "outputs": [
    {
     "name": "stdout",
     "output_type": "stream",
     "text": [
      "0.6\n"
     ]
    }
   ],
   "source": [
    "stdErr = PopStd/s\n",
    "print (stdErr)"
   ]
  },
  {
   "cell_type": "code",
   "execution_count": 38,
   "metadata": {},
   "outputs": [
    {
     "name": "stdout",
     "output_type": "stream",
     "text": [
      "The z value is:  2.55639718617\n"
     ]
    }
   ],
   "source": [
    "z = (PopMean-SamMean)/stdErr\n",
    "print (\"The z value is: \", z)"
   ]
  },
  {
   "cell_type": "markdown",
   "metadata": {},
   "source": [
    "# Z-test\n",
    "This is 2.5 sigma away from the mean, which means it is sufficient given that we have a 2 sigma threshold."
   ]
  }
 ],
 "metadata": {
  "kernelspec": {
   "display_name": "PUI2016_Python3",
   "language": "python",
   "name": "pui2016_python3"
  },
  "language_info": {
   "codemirror_mode": {
    "name": "ipython",
    "version": 3
   },
   "file_extension": ".py",
   "mimetype": "text/x-python",
   "name": "python",
   "nbconvert_exporter": "python",
   "pygments_lexer": "ipython3",
   "version": "3.5.4"
  }
 },
 "nbformat": 4,
 "nbformat_minor": 2
}
