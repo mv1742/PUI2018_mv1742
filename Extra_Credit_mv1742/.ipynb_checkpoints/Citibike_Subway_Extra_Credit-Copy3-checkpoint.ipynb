{
 "cells": [
  {
   "cell_type": "markdown",
   "metadata": {
    "run_control": {
     "frozen": false,
     "read_only": false
    }
   },
   "source": [
    "## Effect of Subway Closure on Citibike trips"
   ]
  },
  {
   "cell_type": "markdown",
   "metadata": {
    "run_control": {
     "frozen": false,
     "read_only": false
    }
   },
   "source": [
    "## Objective: assessing impact on NYC transportation by relating citibike trips by population"
   ]
  },
  {
   "cell_type": "code",
   "execution_count": 32,
   "metadata": {
    "ExecuteTime": {
     "end_time": "2018-11-15T19:47:18.261836Z",
     "start_time": "2018-11-15T19:47:17.032442Z"
    },
    "run_control": {
     "frozen": false,
     "read_only": false
    }
   },
   "outputs": [],
   "source": [
    "from __future__ import print_function, division\n",
    "import pandas as pd\n",
    "import os\n",
    "import requests\n",
    "import shapely\n",
    "import json\n",
    "import urllib\n",
    "from fiona.crs import from_epsg\n",
    "import scipy as sp\n",
    "from scipy import stats\n",
    "import geopy.distance\n",
    "from getCitiBikeCSV import getCitiBikeCSV # must have this function locally or in path\n",
    "pd.options.display.max_columns = None\n",
    "DEVELOPING = True\n",
    "from get_jsonparsed_data import get_jsonparsed_data # must have this function locally or in path"
   ]
  },
  {
   "cell_type": "code",
   "execution_count": 33,
   "metadata": {
    "ExecuteTime": {
     "end_time": "2018-11-15T19:47:18.636560Z",
     "start_time": "2018-11-15T19:47:18.286295Z"
    },
    "run_control": {
     "frozen": false,
     "read_only": false
    },
    "scrolled": true
   },
   "outputs": [
    {
     "name": "stdout",
     "output_type": "stream",
     "text": [
      "Populating the interactive namespace from numpy and matplotlib\n"
     ]
    }
   ],
   "source": [
    "import geopandas as gpd\n",
    "import pylab as pl\n",
    "import io\n",
    "import pylab as pl\n",
    "\n",
    "from geopandas import GeoDataFrame\n",
    "from geopandas.tools import sjoin\n",
    "try:\n",
    "    import ipywidgets as widgets\n",
    "    hasWidgets = True\n",
    "except ImportError:\n",
    "    hasWidgets = False\n",
    "%pylab inline"
   ]
  },
  {
   "cell_type": "markdown",
   "metadata": {},
   "source": [
    "# 1. Data Loading/Wrangling/Jujitsu\n",
    "\n",
    "## 1.1 Load SUBWAY DATA"
   ]
  },
  {
   "cell_type": "code",
   "execution_count": 88,
   "metadata": {
    "ExecuteTime": {
     "end_time": "2018-11-15T19:47:18.654643Z",
     "start_time": "2018-11-15T19:47:18.641246Z"
    },
    "run_control": {
     "frozen": false,
     "read_only": false
    }
   },
   "outputs": [],
   "source": [
    "subway = urllib.request.urlretrieve(\"https://data.cityofnewyork.us/api/geospatial/arq3-7z49?method=export&format=Shapefile\",\"file.gz\")"
   ]
  },
  {
   "cell_type": "code",
   "execution_count": 89,
   "metadata": {
    "ExecuteTime": {
     "end_time": "2018-11-15T20:23:11.051329Z",
     "start_time": "2018-11-15T20:23:11.038688Z"
    }
   },
   "outputs": [
    {
     "name": "stdout",
     "output_type": "stream",
     "text": [
      "Archive:  file.gz\r\n",
      "  inflating: geo_export_6ccdb30a-e689-4855-9bc9-47fa2b4855c0.dbf  \r\n",
      "  inflating: geo_export_6ccdb30a-e689-4855-9bc9-47fa2b4855c0.shp  \r\n",
      "  inflating: geo_export_6ccdb30a-e689-4855-9bc9-47fa2b4855c0.shx  \r\n",
      "  inflating: geo_export_6ccdb30a-e689-4855-9bc9-47fa2b4855c0.prj  \r\n"
     ]
    }
   ],
   "source": [
    "!unzip file.gz"
   ]
  },
  {
   "cell_type": "code",
   "execution_count": 92,
   "metadata": {},
   "outputs": [],
   "source": [
    "subshp = GeoDataFrame.from_file(\"geo_export_6ccdb30a-e689-4855-9bc9-47fa2b4855c0.shp\")"
   ]
  },
  {
   "cell_type": "code",
   "execution_count": 93,
   "metadata": {
    "scrolled": true
   },
   "outputs": [
    {
     "data": {
      "text/html": [
       "<div>\n",
       "<table border=\"1\" class=\"dataframe\">\n",
       "  <thead>\n",
       "    <tr style=\"text-align: right;\">\n",
       "      <th></th>\n",
       "      <th>line</th>\n",
       "      <th>name</th>\n",
       "      <th>notes</th>\n",
       "      <th>objectid</th>\n",
       "      <th>url</th>\n",
       "      <th>geometry</th>\n",
       "    </tr>\n",
       "  </thead>\n",
       "  <tbody>\n",
       "    <tr>\n",
       "      <th>0</th>\n",
       "      <td>4-6-6 Express</td>\n",
       "      <td>Astor Pl</td>\n",
       "      <td>4 nights, 6-all times, 6 Express-weekdays AM s...</td>\n",
       "      <td>1.0</td>\n",
       "      <td>http://web.mta.info/nyct/service/</td>\n",
       "      <td>POINT (-73.99106999861966 40.73005400028978)</td>\n",
       "    </tr>\n",
       "    <tr>\n",
       "      <th>1</th>\n",
       "      <td>4-6-6 Express</td>\n",
       "      <td>Canal St</td>\n",
       "      <td>4 nights, 6-all times, 6 Express-weekdays AM s...</td>\n",
       "      <td>2.0</td>\n",
       "      <td>http://web.mta.info/nyct/service/</td>\n",
       "      <td>POINT (-74.00019299927328 40.71880300107709)</td>\n",
       "    </tr>\n",
       "  </tbody>\n",
       "</table>\n",
       "</div>"
      ],
      "text/plain": [
       "            line      name                                              notes  \\\n",
       "0  4-6-6 Express  Astor Pl  4 nights, 6-all times, 6 Express-weekdays AM s...   \n",
       "1  4-6-6 Express  Canal St  4 nights, 6-all times, 6 Express-weekdays AM s...   \n",
       "\n",
       "   objectid                                url  \\\n",
       "0       1.0  http://web.mta.info/nyct/service/   \n",
       "1       2.0  http://web.mta.info/nyct/service/   \n",
       "\n",
       "                                       geometry  \n",
       "0  POINT (-73.99106999861966 40.73005400028978)  \n",
       "1  POINT (-74.00019299927328 40.71880300107709)  "
      ]
     },
     "execution_count": 93,
     "metadata": {},
     "output_type": "execute_result"
    }
   ],
   "source": [
    "subshp.head(2)"
   ]
  },
  {
   "cell_type": "code",
   "execution_count": 94,
   "metadata": {
    "scrolled": true
   },
   "outputs": [
    {
     "data": {
      "text/plain": [
       "<matplotlib.axes._subplots.AxesSubplot at 0x7f1737bb6a20>"
      ]
     },
     "execution_count": 94,
     "metadata": {},
     "output_type": "execute_result"
    },
    {
     "data": {
      "image/png": "[encoded data removed]",
      "text/plain": [
       "<matplotlib.figure.Figure at 0x7f1737cd6b00>"
      ]
     },
     "metadata": {},
     "output_type": "display_data"
    }
   ],
   "source": [
    "subshp.plot()"
   ]
  },
  {
   "cell_type": "markdown",
   "metadata": {},
   "source": [
    "### Geopandas geometry _ DONE"
   ]
  },
  {
   "cell_type": "markdown",
   "metadata": {},
   "source": [
    "## 1.2 Load CITIBIKE_DATA_STATIONS"
   ]
  },
  {
   "cell_type": "code",
   "execution_count": 59,
   "metadata": {},
   "outputs": [],
   "source": [
    "citibike = pd.read_csv('Clean_Data/citibike_station.csv')"
   ]
  },
  {
   "cell_type": "code",
   "execution_count": 61,
   "metadata": {},
   "outputs": [],
   "source": [
    "citibike['lonlat'] = list(zip(citibike.lon, citibike.lat))"
   ]
  },
  {
   "cell_type": "markdown",
   "metadata": {},
   "source": [
    "# 2. Data Processing"
   ]
  },
  {
   "cell_type": "code",
   "execution_count": 62,
   "metadata": {
    "scrolled": true
   },
   "outputs": [
    {
     "name": "stdout",
     "output_type": "stream",
     "text": [
      "(818, 8)\n"
     ]
    },
    {
     "data": {
      "text/html": [
       "<div>\n",
       "<table border=\"1\" class=\"dataframe\">\n",
       "  <thead>\n",
       "    <tr style=\"text-align: right;\">\n",
       "      <th></th>\n",
       "      <th>capacity</th>\n",
       "      <th>lat</th>\n",
       "      <th>lon</th>\n",
       "      <th>name</th>\n",
       "      <th>short_name</th>\n",
       "      <th>station_id</th>\n",
       "      <th>latlon</th>\n",
       "      <th>lonlat</th>\n",
       "    </tr>\n",
       "  </thead>\n",
       "  <tbody>\n",
       "    <tr>\n",
       "      <th>0</th>\n",
       "      <td>37</td>\n",
       "      <td>40.722174</td>\n",
       "      <td>-73.983688</td>\n",
       "      <td>E 2 St &amp; Avenue B</td>\n",
       "      <td>5515.02</td>\n",
       "      <td>301</td>\n",
       "      <td>(-73.98368779, 40.72217444)</td>\n",
       "      <td>(-73.98368779, 40.72217444)</td>\n",
       "    </tr>\n",
       "    <tr>\n",
       "      <th>1</th>\n",
       "      <td>52</td>\n",
       "      <td>40.727408</td>\n",
       "      <td>-73.981420</td>\n",
       "      <td>E 10 St &amp; Avenue A</td>\n",
       "      <td>5659.05</td>\n",
       "      <td>445</td>\n",
       "      <td>(-73.98142006, 40.72740794)</td>\n",
       "      <td>(-73.98142006, 40.72740794)</td>\n",
       "    </tr>\n",
       "    <tr>\n",
       "      <th>2</th>\n",
       "      <td>34</td>\n",
       "      <td>40.733143</td>\n",
       "      <td>-73.975739</td>\n",
       "      <td>E 20 St &amp; FDR Drive</td>\n",
       "      <td>5886.02</td>\n",
       "      <td>487</td>\n",
       "      <td>(-73.97573881, 40.73314259)</td>\n",
       "      <td>(-73.97573881, 40.73314259)</td>\n",
       "    </tr>\n",
       "    <tr>\n",
       "      <th>3</th>\n",
       "      <td>44</td>\n",
       "      <td>40.732219</td>\n",
       "      <td>-73.981656</td>\n",
       "      <td>1 Ave &amp; E 16 St</td>\n",
       "      <td>5779.08</td>\n",
       "      <td>504</td>\n",
       "      <td>(-73.98165557, 40.73221853)</td>\n",
       "      <td>(-73.98165557, 40.73221853)</td>\n",
       "    </tr>\n",
       "    <tr>\n",
       "      <th>4</th>\n",
       "      <td>39</td>\n",
       "      <td>40.767272</td>\n",
       "      <td>-73.993929</td>\n",
       "      <td>W 52 St &amp; 11 Ave</td>\n",
       "      <td>6926.01</td>\n",
       "      <td>72</td>\n",
       "      <td>(-73.99392888, 40.76727216)</td>\n",
       "      <td>(-73.99392888, 40.76727216)</td>\n",
       "    </tr>\n",
       "  </tbody>\n",
       "</table>\n",
       "</div>"
      ],
      "text/plain": [
       "   capacity        lat        lon                 name short_name  station_id  \\\n",
       "0        37  40.722174 -73.983688    E 2 St & Avenue B    5515.02         301   \n",
       "1        52  40.727408 -73.981420   E 10 St & Avenue A    5659.05         445   \n",
       "2        34  40.733143 -73.975739  E 20 St & FDR Drive    5886.02         487   \n",
       "3        44  40.732219 -73.981656      1 Ave & E 16 St    5779.08         504   \n",
       "4        39  40.767272 -73.993929     W 52 St & 11 Ave    6926.01          72   \n",
       "\n",
       "                        latlon                       lonlat  \n",
       "0  (-73.98368779, 40.72217444)  (-73.98368779, 40.72217444)  \n",
       "1  (-73.98142006, 40.72740794)  (-73.98142006, 40.72740794)  \n",
       "2  (-73.97573881, 40.73314259)  (-73.97573881, 40.73314259)  \n",
       "3  (-73.98165557, 40.73221853)  (-73.98165557, 40.73221853)  \n",
       "4  (-73.99392888, 40.76727216)  (-73.99392888, 40.76727216)  "
      ]
     },
     "execution_count": 62,
     "metadata": {},
     "output_type": "execute_result"
    }
   ],
   "source": [
    "print(citibike.shape)\n",
    "citibike.head()"
   ]
  },
  {
   "cell_type": "code",
   "execution_count": 287,
   "metadata": {},
   "outputs": [],
   "source": [
    "citibikegpd = gpd.GeoDataFrame(citibike)"
   ]
  },
  {
   "cell_type": "code",
   "execution_count": 289,
   "metadata": {},
   "outputs": [],
   "source": [
    "citibikegpd['geometry'] = citibike[['lonlat']].applymap(lambda x:shapely.geometry.Point(x))"
   ]
  },
  {
   "cell_type": "code",
   "execution_count": 290,
   "metadata": {},
   "outputs": [],
   "source": [
    "citibikegpd.crs = from_epsg(4326)"
   ]
  },
  {
   "cell_type": "code",
   "execution_count": 291,
   "metadata": {
    "scrolled": false
   },
   "outputs": [],
   "source": [
    "citibikegpd.to_crs(epsg=2263, inplace = True)"
   ]
  },
  {
   "cell_type": "markdown",
   "metadata": {},
   "source": [
    "### Geopandas geometry _ DONE"
   ]
  },
  {
   "cell_type": "markdown",
   "metadata": {},
   "source": [
    "# Extract Manhattan Stations"
   ]
  },
  {
   "cell_type": "code",
   "execution_count": 81,
   "metadata": {},
   "outputs": [],
   "source": [
    "# Getting the Boroughs shape file from NYC Open Data"
   ]
  },
  {
   "cell_type": "code",
   "execution_count": 82,
   "metadata": {},
   "outputs": [
    {
     "data": {
      "text/plain": [
       "('file.gz', <http.client.HTTPMessage at 0x7f1737cb6f60>)"
      ]
     },
     "execution_count": 82,
     "metadata": {},
     "output_type": "execute_result"
    }
   ],
   "source": [
    "url = \"https://data.cityofnewyork.us/api/geospatial/tqmj-j8zm?method=export&format=Shapefile\"\n",
    "urllib.request.urlretrieve(url, \"file.gz\")\n",
    "\n"
   ]
  },
  {
   "cell_type": "code",
   "execution_count": 83,
   "metadata": {},
   "outputs": [
    {
     "name": "stdout",
     "output_type": "stream",
     "text": [
      "Archive:  file.gz\r\n",
      "  inflating: /nfshome/mv1742/PUIdata/geo_export_f6966406-ca6e-45f8-853a-e673c3975e16.dbf  \r\n",
      "  inflating: /nfshome/mv1742/PUIdata/geo_export_f6966406-ca6e-45f8-853a-e673c3975e16.shp  \r\n",
      "  inflating: /nfshome/mv1742/PUIdata/geo_export_f6966406-ca6e-45f8-853a-e673c3975e16.shx  \r\n",
      "  inflating: /nfshome/mv1742/PUIdata/geo_export_f6966406-ca6e-45f8-853a-e673c3975e16.prj  \r\n"
     ]
    }
   ],
   "source": [
    "!unzip -d $PUIDATA file.gz"
   ]
  },
  {
   "cell_type": "code",
   "execution_count": 791,
   "metadata": {},
   "outputs": [],
   "source": [
    "boro = gpd.GeoDataFrame.from_file(os.getenv(\"PUIDATA\") + \n",
    "                                 \"/geo_export_f6966406-ca6e-45f8-853a-e673c3975e16.shp\")"
   ]
  },
  {
   "cell_type": "code",
   "execution_count": 792,
   "metadata": {},
   "outputs": [
    {
     "data": {
      "text/plain": [
       "{'init': 'epsg:4326'}"
      ]
     },
     "execution_count": 792,
     "metadata": {},
     "output_type": "execute_result"
    }
   ],
   "source": [
    "boro.crs"
   ]
  },
  {
   "cell_type": "code",
   "execution_count": 793,
   "metadata": {},
   "outputs": [],
   "source": [
    "boro.to_crs(epsg=2263, inplace=True)"
   ]
  },
  {
   "cell_type": "code",
   "execution_count": 794,
   "metadata": {},
   "outputs": [],
   "source": [
    "subshp.to_crs(epsg=2263, inplace=True)"
   ]
  },
  {
   "cell_type": "code",
   "execution_count": 795,
   "metadata": {},
   "outputs": [
    {
     "data": {
      "text/plain": [
       "(905464.73903808615,\n",
       " 1075092.8783935562,\n",
       " 112485.76063499099,\n",
       " 280480.41425937973)"
      ]
     },
     "execution_count": 795,
     "metadata": {},
     "output_type": "execute_result"
    },
    {
     "data": {
      "image/png": "[encoded data removed]",
      "text/plain": [
       "<matplotlib.figure.Figure at 0x7f171b6ae6d8>"
      ]
     },
     "metadata": {},
     "output_type": "display_data"
    }
   ],
   "source": [
    "ax = boro.plot(facecolor=\"w\", edgecolor=\"k\",figsize=(10,10))\n",
    "citibikegpd.plot(ax=ax)\n",
    "subshp.plot(ax=ax)\n",
    "ax.axis('off')"
   ]
  },
  {
   "cell_type": "code",
   "execution_count": 107,
   "metadata": {},
   "outputs": [],
   "source": [
    "### Citibike stations in Manhattan?"
   ]
  },
  {
   "cell_type": "code",
   "execution_count": 112,
   "metadata": {},
   "outputs": [],
   "source": [
    "boro_citi = gpd.sjoin(boro, citibikegpd, op=\"contains\")"
   ]
  },
  {
   "cell_type": "code",
   "execution_count": 210,
   "metadata": {},
   "outputs": [
    {
     "data": {
      "text/plain": [
       "(768, 14)"
      ]
     },
     "execution_count": 210,
     "metadata": {},
     "output_type": "execute_result"
    }
   ],
   "source": [
    "boro_citi.shape"
   ]
  },
  {
   "cell_type": "code",
   "execution_count": 211,
   "metadata": {},
   "outputs": [
    {
     "name": "stdout",
     "output_type": "stream",
     "text": [
      "(267, 14)\n"
     ]
    },
    {
     "data": {
      "text/html": [
       "<div>\n",
       "<table border=\"1\" class=\"dataframe\">\n",
       "  <thead>\n",
       "    <tr style=\"text-align: right;\">\n",
       "      <th></th>\n",
       "      <th>boro_code</th>\n",
       "      <th>boro_name</th>\n",
       "      <th>shape_area</th>\n",
       "      <th>shape_leng</th>\n",
       "      <th>geometry</th>\n",
       "      <th>index_right</th>\n",
       "      <th>capacity</th>\n",
       "      <th>lat</th>\n",
       "      <th>lon</th>\n",
       "      <th>name</th>\n",
       "      <th>short_name</th>\n",
       "      <th>station_id</th>\n",
       "      <th>latlon</th>\n",
       "      <th>lonlat</th>\n",
       "    </tr>\n",
       "  </thead>\n",
       "  <tbody>\n",
       "    <tr>\n",
       "      <th>3</th>\n",
       "      <td>3.0</td>\n",
       "      <td>Brooklyn</td>\n",
       "      <td>1.937567e+09</td>\n",
       "      <td>739945.437431</td>\n",
       "      <td>(POLYGON ((1021176.479003908 151374.7969970215...</td>\n",
       "      <td>327</td>\n",
       "      <td>31</td>\n",
       "      <td>40.717746</td>\n",
       "      <td>-73.956001</td>\n",
       "      <td>N 8 St &amp; Driggs Ave</td>\n",
       "      <td>5340.05</td>\n",
       "      <td>3090</td>\n",
       "      <td>(-73.95600096, 40.71774592)</td>\n",
       "      <td>(-73.95600096, 40.71774592)</td>\n",
       "    </tr>\n",
       "    <tr>\n",
       "      <th>3</th>\n",
       "      <td>3.0</td>\n",
       "      <td>Brooklyn</td>\n",
       "      <td>1.937567e+09</td>\n",
       "      <td>739945.437431</td>\n",
       "      <td>(POLYGON ((1021176.479003908 151374.7969970215...</td>\n",
       "      <td>329</td>\n",
       "      <td>27</td>\n",
       "      <td>40.719009</td>\n",
       "      <td>-73.958525</td>\n",
       "      <td>Berry St &amp; N 8 St</td>\n",
       "      <td>5379.09</td>\n",
       "      <td>3092</td>\n",
       "      <td>(-73.95852515, 40.7190095)</td>\n",
       "      <td>(-73.95852515, 40.7190095)</td>\n",
       "    </tr>\n",
       "  </tbody>\n",
       "</table>\n",
       "</div>"
      ],
      "text/plain": [
       "   boro_code boro_name    shape_area     shape_leng  \\\n",
       "3        3.0  Brooklyn  1.937567e+09  739945.437431   \n",
       "3        3.0  Brooklyn  1.937567e+09  739945.437431   \n",
       "\n",
       "                                            geometry  index_right  capacity  \\\n",
       "3  (POLYGON ((1021176.479003908 151374.7969970215...          327        31   \n",
       "3  (POLYGON ((1021176.479003908 151374.7969970215...          329        27   \n",
       "\n",
       "         lat        lon                 name short_name  station_id  \\\n",
       "3  40.717746 -73.956001  N 8 St & Driggs Ave    5340.05        3090   \n",
       "3  40.719009 -73.958525    Berry St & N 8 St    5379.09        3092   \n",
       "\n",
       "                        latlon                       lonlat  \n",
       "3  (-73.95600096, 40.71774592)  (-73.95600096, 40.71774592)  \n",
       "3   (-73.95852515, 40.7190095)   (-73.95852515, 40.7190095)  "
      ]
     },
     "execution_count": 211,
     "metadata": {},
     "output_type": "execute_result"
    }
   ],
   "source": [
    "man_brstations = boro_citi[boro_citi.boro_name=='Brooklyn']\n",
    "print(man_brstations.shape)\n",
    "man_brstations.head(2)"
   ]
  },
  {
   "cell_type": "code",
   "execution_count": 119,
   "metadata": {
    "scrolled": true
   },
   "outputs": [
    {
     "name": "stdout",
     "output_type": "stream",
     "text": [
      "(418, 14)\n"
     ]
    },
    {
     "data": {
      "text/html": [
       "<div>\n",
       "<table border=\"1\" class=\"dataframe\">\n",
       "  <thead>\n",
       "    <tr style=\"text-align: right;\">\n",
       "      <th></th>\n",
       "      <th>boro_code</th>\n",
       "      <th>boro_name</th>\n",
       "      <th>shape_area</th>\n",
       "      <th>shape_leng</th>\n",
       "      <th>geometry</th>\n",
       "      <th>index_right</th>\n",
       "      <th>capacity</th>\n",
       "      <th>lat</th>\n",
       "      <th>lon</th>\n",
       "      <th>name</th>\n",
       "      <th>short_name</th>\n",
       "      <th>station_id</th>\n",
       "      <th>latlon</th>\n",
       "      <th>lonlat</th>\n",
       "    </tr>\n",
       "  </thead>\n",
       "  <tbody>\n",
       "    <tr>\n",
       "      <th>0</th>\n",
       "      <td>1.0</td>\n",
       "      <td>Manhattan</td>\n",
       "      <td>6.366006e+08</td>\n",
       "      <td>361649.881587</td>\n",
       "      <td>(POLYGON ((981219.0557861336 188655.3157958444...</td>\n",
       "      <td>369</td>\n",
       "      <td>59</td>\n",
       "      <td>40.765005</td>\n",
       "      <td>-73.958185</td>\n",
       "      <td>1 Ave &amp; E 68 St</td>\n",
       "      <td>6822.09</td>\n",
       "      <td>3141</td>\n",
       "      <td>(-73.95818491, 40.76500525)</td>\n",
       "      <td>(-73.95818491, 40.76500525)</td>\n",
       "    </tr>\n",
       "    <tr>\n",
       "      <th>0</th>\n",
       "      <td>1.0</td>\n",
       "      <td>Manhattan</td>\n",
       "      <td>6.366006e+08</td>\n",
       "      <td>361649.881587</td>\n",
       "      <td>(POLYGON ((981219.0557861336 188655.3157958444...</td>\n",
       "      <td>383</td>\n",
       "      <td>37</td>\n",
       "      <td>40.766638</td>\n",
       "      <td>-73.953483</td>\n",
       "      <td>E 72 St &amp; York Ave</td>\n",
       "      <td>6889.12</td>\n",
       "      <td>3156</td>\n",
       "      <td>(-73.95348296, 40.76663814)</td>\n",
       "      <td>(-73.95348296, 40.76663814)</td>\n",
       "    </tr>\n",
       "  </tbody>\n",
       "</table>\n",
       "</div>"
      ],
      "text/plain": [
       "   boro_code  boro_name    shape_area     shape_leng  \\\n",
       "0        1.0  Manhattan  6.366006e+08  361649.881587   \n",
       "0        1.0  Manhattan  6.366006e+08  361649.881587   \n",
       "\n",
       "                                            geometry  index_right  capacity  \\\n",
       "0  (POLYGON ((981219.0557861336 188655.3157958444...          369        59   \n",
       "0  (POLYGON ((981219.0557861336 188655.3157958444...          383        37   \n",
       "\n",
       "         lat        lon                name short_name  station_id  \\\n",
       "0  40.765005 -73.958185     1 Ave & E 68 St    6822.09        3141   \n",
       "0  40.766638 -73.953483  E 72 St & York Ave    6889.12        3156   \n",
       "\n",
       "                        latlon                       lonlat  \n",
       "0  (-73.95818491, 40.76500525)  (-73.95818491, 40.76500525)  \n",
       "0  (-73.95348296, 40.76663814)  (-73.95348296, 40.76663814)  "
      ]
     },
     "execution_count": 119,
     "metadata": {},
     "output_type": "execute_result"
    }
   ],
   "source": [
    "man_citistations = boro_citi[boro_citi.boro_code==1]\n",
    "print(man_citistations.shape)\n",
    "man_citistations.head(2)"
   ]
  },
  {
   "cell_type": "code",
   "execution_count": null,
   "metadata": {},
   "outputs": [],
   "source": [
    "ax = boro.plot(facecolor=\"w\", edgecolor=\"k\",figsize=(5,5))\n",
    "#man_citistations.plot(ax=ax)\n",
    "man_brstations.plot(ax=ax,colors='r')\n",
    "#subshp.plot(ax=ax)\n",
    "ax.axis('off')"
   ]
  },
  {
   "cell_type": "code",
   "execution_count": 120,
   "metadata": {},
   "outputs": [],
   "source": [
    "# Manhanttan_stations_done"
   ]
  },
  {
   "cell_type": "markdown",
   "metadata": {},
   "source": [
    "## 1.3 CITIBIKE_DATA_TRIPS"
   ]
  },
  {
   "cell_type": "code",
   "execution_count": 8,
   "metadata": {},
   "outputs": [
    {
     "name": "stdout",
     "output_type": "stream",
     "text": [
      "Downloading 201612\n",
      "file in place, you can continue\n"
     ]
    }
   ],
   "source": [
    "# download data: a dataset from January \n",
    "datestring01 = '201612'\n",
    "getCitiBikeCSV(datestring01)\n"
   ]
  },
  {
   "cell_type": "code",
   "execution_count": 134,
   "metadata": {
    "scrolled": false
   },
   "outputs": [
    {
     "data": {
      "text/html": [
       "<div>\n",
       "<table border=\"1\" class=\"dataframe\">\n",
       "  <thead>\n",
       "    <tr style=\"text-align: right;\">\n",
       "      <th></th>\n",
       "      <th>Trip Duration</th>\n",
       "      <th>Start Time</th>\n",
       "      <th>Stop Time</th>\n",
       "      <th>Start Station ID</th>\n",
       "      <th>Start Station Name</th>\n",
       "      <th>Start Station Latitude</th>\n",
       "      <th>Start Station Longitude</th>\n",
       "      <th>End Station ID</th>\n",
       "      <th>End Station Name</th>\n",
       "      <th>End Station Latitude</th>\n",
       "      <th>End Station Longitude</th>\n",
       "      <th>Bike ID</th>\n",
       "      <th>User Type</th>\n",
       "      <th>Birth Year</th>\n",
       "      <th>Gender</th>\n",
       "    </tr>\n",
       "  </thead>\n",
       "  <tbody>\n",
       "    <tr>\n",
       "      <th>812190</th>\n",
       "      <td>951</td>\n",
       "      <td>2016-12-31 23:59:31</td>\n",
       "      <td>2017-01-01 00:15:23</td>\n",
       "      <td>3158</td>\n",
       "      <td>W 63 St &amp; Broadway</td>\n",
       "      <td>40.771639</td>\n",
       "      <td>-73.982614</td>\n",
       "      <td>3169</td>\n",
       "      <td>Riverside Dr &amp; W 82 St</td>\n",
       "      <td>40.787209</td>\n",
       "      <td>-73.981281</td>\n",
       "      <td>16866</td>\n",
       "      <td>Subscriber</td>\n",
       "      <td>1961.0</td>\n",
       "      <td>1</td>\n",
       "    </tr>\n",
       "    <tr>\n",
       "      <th>812191</th>\n",
       "      <td>1322</td>\n",
       "      <td>2016-12-31 23:59:56</td>\n",
       "      <td>2017-01-01 00:21:58</td>\n",
       "      <td>3263</td>\n",
       "      <td>Cooper Square &amp; E 7 St</td>\n",
       "      <td>40.729236</td>\n",
       "      <td>-73.990868</td>\n",
       "      <td>498</td>\n",
       "      <td>Broadway &amp; W 32 St</td>\n",
       "      <td>40.748549</td>\n",
       "      <td>-73.988084</td>\n",
       "      <td>25793</td>\n",
       "      <td>Subscriber</td>\n",
       "      <td>1985.0</td>\n",
       "      <td>1</td>\n",
       "    </tr>\n",
       "  </tbody>\n",
       "</table>\n",
       "</div>"
      ],
      "text/plain": [
       "        Trip Duration           Start Time            Stop Time  \\\n",
       "812190            951  2016-12-31 23:59:31  2017-01-01 00:15:23   \n",
       "812191           1322  2016-12-31 23:59:56  2017-01-01 00:21:58   \n",
       "\n",
       "        Start Station ID      Start Station Name  Start Station Latitude  \\\n",
       "812190              3158      W 63 St & Broadway               40.771639   \n",
       "812191              3263  Cooper Square & E 7 St               40.729236   \n",
       "\n",
       "        Start Station Longitude  End Station ID        End Station Name  \\\n",
       "812190               -73.982614            3169  Riverside Dr & W 82 St   \n",
       "812191               -73.990868             498      Broadway & W 32 St   \n",
       "\n",
       "        End Station Latitude  End Station Longitude  Bike ID   User Type  \\\n",
       "812190             40.787209             -73.981281    16866  Subscriber   \n",
       "812191             40.748549             -73.988084    25793  Subscriber   \n",
       "\n",
       "        Birth Year  Gender  \n",
       "812190      1961.0       1  \n",
       "812191      1985.0       1  "
      ]
     },
     "execution_count": 134,
     "metadata": {},
     "output_type": "execute_result"
    }
   ],
   "source": [
    "# read in data Jan\n",
    "cb201612 = pd.read_csv(os.getenv(\"PUIDATA\") + \"/\" + datestring01 + '-citibike-tripdata.csv')\n",
    "cb201612.tail(2)"
   ]
  },
  {
   "cell_type": "code",
   "execution_count": 167,
   "metadata": {},
   "outputs": [],
   "source": [
    "if DEVELOPING:\n",
    "    cb2016 = cb201612[::1000]\n",
    "else:\n",
    "    cb2016 = pd.concat([cb201612, cb201612])"
   ]
  },
  {
   "cell_type": "code",
   "execution_count": 168,
   "metadata": {
    "scrolled": true
   },
   "outputs": [
    {
     "name": "stderr",
     "output_type": "stream",
     "text": [
      "/usr/local/Anaconda3-5.0.0-Linux-x86_64/envs/PUI2016_Python3/lib/python3.5/site-packages/ipykernel/__main__.py:1: SettingWithCopyWarning: \n",
      "A value is trying to be set on a copy of a slice from a DataFrame.\n",
      "Try using .loc[row_indexer,col_indexer] = value instead\n",
      "\n",
      "See the caveats in the documentation: http://pandas.pydata.org/pandas-docs/stable/indexing.html#indexing-view-versus-copy\n",
      "  if __name__ == '__main__':\n",
      "/usr/local/Anaconda3-5.0.0-Linux-x86_64/envs/PUI2016_Python3/lib/python3.5/site-packages/numpy/lib/function_base.py:3403: RuntimeWarning: Invalid value encountered in median\n",
      "  RuntimeWarning)\n"
     ]
    },
    {
     "data": {
      "text/html": [
       "<div>\n",
       "<table border=\"1\" class=\"dataframe\">\n",
       "  <thead>\n",
       "    <tr style=\"text-align: right;\">\n",
       "      <th></th>\n",
       "      <th>Trip Duration</th>\n",
       "      <th>Start Station ID</th>\n",
       "      <th>Start Station Latitude</th>\n",
       "      <th>Start Station Longitude</th>\n",
       "      <th>End Station ID</th>\n",
       "      <th>End Station Latitude</th>\n",
       "      <th>End Station Longitude</th>\n",
       "      <th>Bike ID</th>\n",
       "      <th>Birth Year</th>\n",
       "      <th>Gender</th>\n",
       "    </tr>\n",
       "  </thead>\n",
       "  <tbody>\n",
       "    <tr>\n",
       "      <th>count</th>\n",
       "      <td>813.000000</td>\n",
       "      <td>813.000000</td>\n",
       "      <td>813.000000</td>\n",
       "      <td>813.000000</td>\n",
       "      <td>813.000000</td>\n",
       "      <td>813.000000</td>\n",
       "      <td>813.000000</td>\n",
       "      <td>813.000000</td>\n",
       "      <td>764.000000</td>\n",
       "      <td>813.000000</td>\n",
       "    </tr>\n",
       "    <tr>\n",
       "      <th>mean</th>\n",
       "      <td>680.573186</td>\n",
       "      <td>1182.321033</td>\n",
       "      <td>40.738075</td>\n",
       "      <td>-73.984401</td>\n",
       "      <td>1211.753998</td>\n",
       "      <td>40.737234</td>\n",
       "      <td>-73.985555</td>\n",
       "      <td>21853.023370</td>\n",
       "      <td>1976.688482</td>\n",
       "      <td>1.140221</td>\n",
       "    </tr>\n",
       "    <tr>\n",
       "      <th>std</th>\n",
       "      <td>498.388871</td>\n",
       "      <td>1250.108478</td>\n",
       "      <td>0.026813</td>\n",
       "      <td>0.015585</td>\n",
       "      <td>1285.578708</td>\n",
       "      <td>0.026285</td>\n",
       "      <td>0.015834</td>\n",
       "      <td>4049.876909</td>\n",
       "      <td>11.825393</td>\n",
       "      <td>0.496310</td>\n",
       "    </tr>\n",
       "    <tr>\n",
       "      <th>min</th>\n",
       "      <td>61.000000</td>\n",
       "      <td>72.000000</td>\n",
       "      <td>40.661063</td>\n",
       "      <td>-74.017134</td>\n",
       "      <td>72.000000</td>\n",
       "      <td>40.661063</td>\n",
       "      <td>-74.016777</td>\n",
       "      <td>14550.000000</td>\n",
       "      <td>1934.000000</td>\n",
       "      <td>0.000000</td>\n",
       "    </tr>\n",
       "    <tr>\n",
       "      <th>25%</th>\n",
       "      <td>331.000000</td>\n",
       "      <td>351.000000</td>\n",
       "      <td>40.720368</td>\n",
       "      <td>-73.994539</td>\n",
       "      <td>349.000000</td>\n",
       "      <td>40.721101</td>\n",
       "      <td>-73.995960</td>\n",
       "      <td>18036.000000</td>\n",
       "      <td>NaN</td>\n",
       "      <td>1.000000</td>\n",
       "    </tr>\n",
       "    <tr>\n",
       "      <th>50%</th>\n",
       "      <td>535.000000</td>\n",
       "      <td>478.000000</td>\n",
       "      <td>40.739126</td>\n",
       "      <td>-73.986022</td>\n",
       "      <td>479.000000</td>\n",
       "      <td>40.739017</td>\n",
       "      <td>-73.987834</td>\n",
       "      <td>22557.000000</td>\n",
       "      <td>NaN</td>\n",
       "      <td>1.000000</td>\n",
       "    </tr>\n",
       "    <tr>\n",
       "      <th>75%</th>\n",
       "      <td>879.000000</td>\n",
       "      <td>3055.000000</td>\n",
       "      <td>40.756800</td>\n",
       "      <td>-73.976485</td>\n",
       "      <td>3092.000000</td>\n",
       "      <td>40.755273</td>\n",
       "      <td>-73.977706</td>\n",
       "      <td>25675.000000</td>\n",
       "      <td>NaN</td>\n",
       "      <td>1.000000</td>\n",
       "    </tr>\n",
       "    <tr>\n",
       "      <th>max</th>\n",
       "      <td>3249.000000</td>\n",
       "      <td>3436.000000</td>\n",
       "      <td>40.802117</td>\n",
       "      <td>-73.935775</td>\n",
       "      <td>3440.000000</td>\n",
       "      <td>40.804213</td>\n",
       "      <td>-73.929891</td>\n",
       "      <td>27310.000000</td>\n",
       "      <td>2000.000000</td>\n",
       "      <td>2.000000</td>\n",
       "    </tr>\n",
       "  </tbody>\n",
       "</table>\n",
       "</div>"
      ],
      "text/plain": [
       "       Trip Duration  Start Station ID  Start Station Latitude  \\\n",
       "count     813.000000        813.000000              813.000000   \n",
       "mean      680.573186       1182.321033               40.738075   \n",
       "std       498.388871       1250.108478                0.026813   \n",
       "min        61.000000         72.000000               40.661063   \n",
       "25%       331.000000        351.000000               40.720368   \n",
       "50%       535.000000        478.000000               40.739126   \n",
       "75%       879.000000       3055.000000               40.756800   \n",
       "max      3249.000000       3436.000000               40.802117   \n",
       "\n",
       "       Start Station Longitude  End Station ID  End Station Latitude  \\\n",
       "count               813.000000      813.000000            813.000000   \n",
       "mean                -73.984401     1211.753998             40.737234   \n",
       "std                   0.015585     1285.578708              0.026285   \n",
       "min                 -74.017134       72.000000             40.661063   \n",
       "25%                 -73.994539      349.000000             40.721101   \n",
       "50%                 -73.986022      479.000000             40.739017   \n",
       "75%                 -73.976485     3092.000000             40.755273   \n",
       "max                 -73.935775     3440.000000             40.804213   \n",
       "\n",
       "       End Station Longitude       Bike ID   Birth Year      Gender  \n",
       "count             813.000000    813.000000   764.000000  813.000000  \n",
       "mean              -73.985555  21853.023370  1976.688482    1.140221  \n",
       "std                 0.015834   4049.876909    11.825393    0.496310  \n",
       "min               -74.016777  14550.000000  1934.000000    0.000000  \n",
       "25%               -73.995960  18036.000000          NaN    1.000000  \n",
       "50%               -73.987834  22557.000000          NaN    1.000000  \n",
       "75%               -73.977706  25675.000000          NaN    1.000000  \n",
       "max               -73.929891  27310.000000  2000.000000    2.000000  "
      ]
     },
     "execution_count": 168,
     "metadata": {},
     "output_type": "execute_result"
    }
   ],
   "source": [
    "cb2016['date'] = pd.to_datetime(cb2016['Start Time'])\n",
    "# note that with dataframes I can refer to variables as dictionary keys, \n",
    "# i.e. df['starttime'] or as attributes: df.starttime. \n",
    "cb2016.describe()"
   ]
  },
  {
   "cell_type": "code",
   "execution_count": 169,
   "metadata": {},
   "outputs": [
    {
     "name": "stderr",
     "output_type": "stream",
     "text": [
      "/usr/local/Anaconda3-5.0.0-Linux-x86_64/envs/PUI2016_Python3/lib/python3.5/site-packages/ipykernel/__main__.py:1: SettingWithCopyWarning: \n",
      "A value is trying to be set on a copy of a slice from a DataFrame.\n",
      "Try using .loc[row_indexer,col_indexer] = value instead\n",
      "\n",
      "See the caveats in the documentation: http://pandas.pydata.org/pandas-docs/stable/indexing.html#indexing-view-versus-copy\n",
      "  if __name__ == '__main__':\n",
      "/usr/local/Anaconda3-5.0.0-Linux-x86_64/envs/PUI2016_Python3/lib/python3.5/site-packages/ipykernel/__main__.py:2: SettingWithCopyWarning: \n",
      "A value is trying to be set on a copy of a slice from a DataFrame.\n",
      "Try using .loc[row_indexer,col_indexer] = value instead\n",
      "\n",
      "See the caveats in the documentation: http://pandas.pydata.org/pandas-docs/stable/indexing.html#indexing-view-versus-copy\n",
      "  from ipykernel import kernelapp as app\n"
     ]
    }
   ],
   "source": [
    "cb2016['End Station ID'] = cb2016['End Station ID'].values.astype(int)\n",
    "cb2016['Start Station ID'] = cb2016['Start Station ID'].values.astype(int)"
   ]
  },
  {
   "cell_type": "code",
   "execution_count": 170,
   "metadata": {},
   "outputs": [
    {
     "data": {
      "text/html": [
       "<div>\n",
       "<table border=\"1\" class=\"dataframe\">\n",
       "  <thead>\n",
       "    <tr style=\"text-align: right;\">\n",
       "      <th></th>\n",
       "      <th>Trip Duration</th>\n",
       "      <th>Start Time</th>\n",
       "      <th>Stop Time</th>\n",
       "      <th>Start Station ID</th>\n",
       "      <th>Start Station Name</th>\n",
       "      <th>Start Station Latitude</th>\n",
       "      <th>Start Station Longitude</th>\n",
       "      <th>End Station ID</th>\n",
       "      <th>End Station Name</th>\n",
       "      <th>End Station Latitude</th>\n",
       "      <th>End Station Longitude</th>\n",
       "      <th>Bike ID</th>\n",
       "      <th>User Type</th>\n",
       "      <th>Birth Year</th>\n",
       "      <th>Gender</th>\n",
       "      <th>date</th>\n",
       "    </tr>\n",
       "  </thead>\n",
       "  <tbody>\n",
       "    <tr>\n",
       "      <th>0</th>\n",
       "      <td>528</td>\n",
       "      <td>2016-12-01 00:00:04</td>\n",
       "      <td>2016-12-01 00:08:52</td>\n",
       "      <td>499</td>\n",
       "      <td>Broadway &amp; W 60 St</td>\n",
       "      <td>40.769155</td>\n",
       "      <td>-73.981918</td>\n",
       "      <td>228</td>\n",
       "      <td>E 48 St &amp; 3 Ave</td>\n",
       "      <td>40.754601</td>\n",
       "      <td>-73.971879</td>\n",
       "      <td>26931</td>\n",
       "      <td>Subscriber</td>\n",
       "      <td>1964.0</td>\n",
       "      <td>1</td>\n",
       "      <td>2016-12-01 00:00:04</td>\n",
       "    </tr>\n",
       "    <tr>\n",
       "      <th>1000</th>\n",
       "      <td>1622</td>\n",
       "      <td>2016-12-01 06:23:06</td>\n",
       "      <td>2016-12-01 06:50:09</td>\n",
       "      <td>342</td>\n",
       "      <td>Columbia St &amp; Rivington St</td>\n",
       "      <td>40.717400</td>\n",
       "      <td>-73.980166</td>\n",
       "      <td>484</td>\n",
       "      <td>W 44 St &amp; 5 Ave</td>\n",
       "      <td>40.755003</td>\n",
       "      <td>-73.980144</td>\n",
       "      <td>24134</td>\n",
       "      <td>Subscriber</td>\n",
       "      <td>1953.0</td>\n",
       "      <td>2</td>\n",
       "      <td>2016-12-01 06:23:06</td>\n",
       "    </tr>\n",
       "  </tbody>\n",
       "</table>\n",
       "</div>"
      ],
      "text/plain": [
       "      Trip Duration           Start Time            Stop Time  \\\n",
       "0               528  2016-12-01 00:00:04  2016-12-01 00:08:52   \n",
       "1000           1622  2016-12-01 06:23:06  2016-12-01 06:50:09   \n",
       "\n",
       "      Start Station ID          Start Station Name  Start Station Latitude  \\\n",
       "0                  499          Broadway & W 60 St               40.769155   \n",
       "1000               342  Columbia St & Rivington St               40.717400   \n",
       "\n",
       "      Start Station Longitude  End Station ID End Station Name  \\\n",
       "0                  -73.981918             228  E 48 St & 3 Ave   \n",
       "1000               -73.980166             484  W 44 St & 5 Ave   \n",
       "\n",
       "      End Station Latitude  End Station Longitude  Bike ID   User Type  \\\n",
       "0                40.754601             -73.971879    26931  Subscriber   \n",
       "1000             40.755003             -73.980144    24134  Subscriber   \n",
       "\n",
       "      Birth Year  Gender                date  \n",
       "0         1964.0       1 2016-12-01 00:00:04  \n",
       "1000      1953.0       2 2016-12-01 06:23:06  "
      ]
     },
     "execution_count": 170,
     "metadata": {},
     "output_type": "execute_result"
    }
   ],
   "source": [
    "cb2016.head(2)"
   ]
  },
  {
   "cell_type": "code",
   "execution_count": 171,
   "metadata": {},
   "outputs": [
    {
     "name": "stderr",
     "output_type": "stream",
     "text": [
      "/usr/local/Anaconda3-5.0.0-Linux-x86_64/envs/PUI2016_Python3/lib/python3.5/site-packages/ipykernel/__main__.py:1: SettingWithCopyWarning: \n",
      "A value is trying to be set on a copy of a slice from a DataFrame.\n",
      "Try using .loc[row_indexer,col_indexer] = value instead\n",
      "\n",
      "See the caveats in the documentation: http://pandas.pydata.org/pandas-docs/stable/indexing.html#indexing-view-versus-copy\n",
      "  if __name__ == '__main__':\n"
     ]
    }
   ],
   "source": [
    "cb2016['date'] = pd.to_datetime(cb2016['Start Time'])"
   ]
  },
  {
   "cell_type": "code",
   "execution_count": 172,
   "metadata": {
    "scrolled": false
   },
   "outputs": [
    {
     "name": "stdout",
     "output_type": "stream",
     "text": [
      "The number of rows in the 2016 citibike dataset is 813\n"
     ]
    }
   ],
   "source": [
    "#collecting latitude and longitude for later splitting borroughs\n",
    "latlon = (cb2016[['Start Station Latitude', \n",
    "                'Start Station Longitude']].values.astype(float))\n",
    "print(\"The number of rows in the 2016 citibike dataset is\", len(latlon))\n",
    "#dropping not needed columns to lighten memory load\n",
    "#b2016 = cb2016.drop(cb2016.columns[5:-1], axis=1).drop(cb2016.columns[1:3], axis=1)\n",
    "#cb2016.head()"
   ]
  },
  {
   "cell_type": "code",
   "execution_count": 173,
   "metadata": {},
   "outputs": [
    {
     "data": {
      "text/plain": [
       "(813, 2)"
      ]
     },
     "execution_count": 173,
     "metadata": {},
     "output_type": "execute_result"
    }
   ],
   "source": [
    "latlon.shape"
   ]
  },
  {
   "cell_type": "code",
   "execution_count": 174,
   "metadata": {
    "scrolled": false
   },
   "outputs": [
    {
     "name": "stdout",
     "output_type": "stream",
     "text": [
      "number of stations:  362\n"
     ]
    }
   ],
   "source": [
    "nstations = pd.DataFrame(latlon).drop_duplicates().shape[0]\n",
    "print (\"number of stations: \", nstations)"
   ]
  },
  {
   "cell_type": "markdown",
   "metadata": {},
   "source": [
    "# 2. Data Processing\n",
    "## 2.3.1 Filter trips going to Manhattan"
   ]
  },
  {
   "cell_type": "code",
   "execution_count": 175,
   "metadata": {
    "scrolled": true
   },
   "outputs": [
    {
     "data": {
      "text/html": [
       "<div>\n",
       "<table border=\"1\" class=\"dataframe\">\n",
       "  <thead>\n",
       "    <tr style=\"text-align: right;\">\n",
       "      <th></th>\n",
       "      <th>boro_code</th>\n",
       "      <th>boro_name</th>\n",
       "      <th>shape_area</th>\n",
       "      <th>shape_leng</th>\n",
       "      <th>geometry</th>\n",
       "      <th>index_right</th>\n",
       "      <th>capacity</th>\n",
       "      <th>lat</th>\n",
       "      <th>lon</th>\n",
       "      <th>name</th>\n",
       "      <th>short_name</th>\n",
       "      <th>station_id</th>\n",
       "      <th>latlon</th>\n",
       "      <th>lonlat</th>\n",
       "    </tr>\n",
       "  </thead>\n",
       "  <tbody>\n",
       "    <tr>\n",
       "      <th>0</th>\n",
       "      <td>1.0</td>\n",
       "      <td>Manhattan</td>\n",
       "      <td>6.366006e+08</td>\n",
       "      <td>361649.881587</td>\n",
       "      <td>(POLYGON ((981219.0557861336 188655.3157958444...</td>\n",
       "      <td>369</td>\n",
       "      <td>59</td>\n",
       "      <td>40.765005</td>\n",
       "      <td>-73.958185</td>\n",
       "      <td>1 Ave &amp; E 68 St</td>\n",
       "      <td>6822.09</td>\n",
       "      <td>3141</td>\n",
       "      <td>(-73.95818491, 40.76500525)</td>\n",
       "      <td>(-73.95818491, 40.76500525)</td>\n",
       "    </tr>\n",
       "    <tr>\n",
       "      <th>0</th>\n",
       "      <td>1.0</td>\n",
       "      <td>Manhattan</td>\n",
       "      <td>6.366006e+08</td>\n",
       "      <td>361649.881587</td>\n",
       "      <td>(POLYGON ((981219.0557861336 188655.3157958444...</td>\n",
       "      <td>383</td>\n",
       "      <td>37</td>\n",
       "      <td>40.766638</td>\n",
       "      <td>-73.953483</td>\n",
       "      <td>E 72 St &amp; York Ave</td>\n",
       "      <td>6889.12</td>\n",
       "      <td>3156</td>\n",
       "      <td>(-73.95348296, 40.76663814)</td>\n",
       "      <td>(-73.95348296, 40.76663814)</td>\n",
       "    </tr>\n",
       "  </tbody>\n",
       "</table>\n",
       "</div>"
      ],
      "text/plain": [
       "   boro_code  boro_name    shape_area     shape_leng  \\\n",
       "0        1.0  Manhattan  6.366006e+08  361649.881587   \n",
       "0        1.0  Manhattan  6.366006e+08  361649.881587   \n",
       "\n",
       "                                            geometry  index_right  capacity  \\\n",
       "0  (POLYGON ((981219.0557861336 188655.3157958444...          369        59   \n",
       "0  (POLYGON ((981219.0557861336 188655.3157958444...          383        37   \n",
       "\n",
       "         lat        lon                name short_name  station_id  \\\n",
       "0  40.765005 -73.958185     1 Ave & E 68 St    6822.09        3141   \n",
       "0  40.766638 -73.953483  E 72 St & York Ave    6889.12        3156   \n",
       "\n",
       "                        latlon                       lonlat  \n",
       "0  (-73.95818491, 40.76500525)  (-73.95818491, 40.76500525)  \n",
       "0  (-73.95348296, 40.76663814)  (-73.95348296, 40.76663814)  "
      ]
     },
     "execution_count": 175,
     "metadata": {},
     "output_type": "execute_result"
    }
   ],
   "source": [
    "man_citistations.head(2)"
   ]
  },
  {
   "cell_type": "code",
   "execution_count": 176,
   "metadata": {
    "scrolled": true
   },
   "outputs": [
    {
     "name": "stderr",
     "output_type": "stream",
     "text": [
      "/usr/local/Anaconda3-5.0.0-Linux-x86_64/envs/PUI2016_Python3/lib/python3.5/site-packages/ipykernel/__main__.py:1: SettingWithCopyWarning: \n",
      "A value is trying to be set on a copy of a slice from a DataFrame.\n",
      "Try using .loc[row_indexer,col_indexer] = value instead\n",
      "\n",
      "See the caveats in the documentation: http://pandas.pydata.org/pandas-docs/stable/indexing.html#indexing-view-versus-copy\n",
      "  if __name__ == '__main__':\n"
     ]
    }
   ],
   "source": [
    "cb2016['To_Man']=cb2016['End Station ID'].isin(man_citistations.station_id)"
   ]
  },
  {
   "cell_type": "code",
   "execution_count": 191,
   "metadata": {
    "scrolled": true
   },
   "outputs": [
    {
     "data": {
      "text/plain": [
       "(813, 17)"
      ]
     },
     "execution_count": 191,
     "metadata": {},
     "output_type": "execute_result"
    }
   ],
   "source": [
    "#print(cb2016)\n",
    "cb2016.shape"
   ]
  },
  {
   "cell_type": "code",
   "execution_count": 193,
   "metadata": {},
   "outputs": [
    {
     "name": "stdout",
     "output_type": "stream",
     "text": [
      "dataset cb2016 was reduced from  813  trips to  619\n"
     ]
    }
   ],
   "source": [
    "#cb2016[cb2016['to_Man?']==True]\n",
    "cb2016_Man=cb2016[cb2016.iloc[:,-1]==True]\n",
    "print(\"dataset cb2016 was reduced from \",cb2016.shape[0],\" trips to \",cb2016_Man.shape[0])"
   ]
  },
  {
   "cell_type": "code",
   "execution_count": 194,
   "metadata": {
    "scrolled": true
   },
   "outputs": [
    {
     "name": "stdout",
     "output_type": "stream",
     "text": [
      "dataset cb2016 was reduced from  813  trips to  619\n"
     ]
    },
    {
     "data": {
      "text/html": [
       "<div>\n",
       "<table border=\"1\" class=\"dataframe\">\n",
       "  <thead>\n",
       "    <tr style=\"text-align: right;\">\n",
       "      <th></th>\n",
       "      <th>Trip Duration</th>\n",
       "      <th>Start Time</th>\n",
       "      <th>Stop Time</th>\n",
       "      <th>Start Station ID</th>\n",
       "      <th>Start Station Name</th>\n",
       "      <th>Start Station Latitude</th>\n",
       "      <th>Start Station Longitude</th>\n",
       "      <th>End Station ID</th>\n",
       "      <th>End Station Name</th>\n",
       "      <th>End Station Latitude</th>\n",
       "      <th>End Station Longitude</th>\n",
       "      <th>Bike ID</th>\n",
       "      <th>User Type</th>\n",
       "      <th>Birth Year</th>\n",
       "      <th>Gender</th>\n",
       "      <th>date</th>\n",
       "      <th>To_Man</th>\n",
       "    </tr>\n",
       "  </thead>\n",
       "  <tbody>\n",
       "    <tr>\n",
       "      <th>0</th>\n",
       "      <td>528</td>\n",
       "      <td>2016-12-01 00:00:04</td>\n",
       "      <td>2016-12-01 00:08:52</td>\n",
       "      <td>499</td>\n",
       "      <td>Broadway &amp; W 60 St</td>\n",
       "      <td>40.769155</td>\n",
       "      <td>-73.981918</td>\n",
       "      <td>228</td>\n",
       "      <td>E 48 St &amp; 3 Ave</td>\n",
       "      <td>40.754601</td>\n",
       "      <td>-73.971879</td>\n",
       "      <td>26931</td>\n",
       "      <td>Subscriber</td>\n",
       "      <td>1964.0</td>\n",
       "      <td>1</td>\n",
       "      <td>2016-12-01 00:00:04</td>\n",
       "      <td>True</td>\n",
       "    </tr>\n",
       "    <tr>\n",
       "      <th>1000</th>\n",
       "      <td>1622</td>\n",
       "      <td>2016-12-01 06:23:06</td>\n",
       "      <td>2016-12-01 06:50:09</td>\n",
       "      <td>342</td>\n",
       "      <td>Columbia St &amp; Rivington St</td>\n",
       "      <td>40.717400</td>\n",
       "      <td>-73.980166</td>\n",
       "      <td>484</td>\n",
       "      <td>W 44 St &amp; 5 Ave</td>\n",
       "      <td>40.755003</td>\n",
       "      <td>-73.980144</td>\n",
       "      <td>24134</td>\n",
       "      <td>Subscriber</td>\n",
       "      <td>1953.0</td>\n",
       "      <td>2</td>\n",
       "      <td>2016-12-01 06:23:06</td>\n",
       "      <td>True</td>\n",
       "    </tr>\n",
       "  </tbody>\n",
       "</table>\n",
       "</div>"
      ],
      "text/plain": [
       "      Trip Duration           Start Time            Stop Time  \\\n",
       "0               528  2016-12-01 00:00:04  2016-12-01 00:08:52   \n",
       "1000           1622  2016-12-01 06:23:06  2016-12-01 06:50:09   \n",
       "\n",
       "      Start Station ID          Start Station Name  Start Station Latitude  \\\n",
       "0                  499          Broadway & W 60 St               40.769155   \n",
       "1000               342  Columbia St & Rivington St               40.717400   \n",
       "\n",
       "      Start Station Longitude  End Station ID End Station Name  \\\n",
       "0                  -73.981918             228  E 48 St & 3 Ave   \n",
       "1000               -73.980166             484  W 44 St & 5 Ave   \n",
       "\n",
       "      End Station Latitude  End Station Longitude  Bike ID   User Type  \\\n",
       "0                40.754601             -73.971879    26931  Subscriber   \n",
       "1000             40.755003             -73.980144    24134  Subscriber   \n",
       "\n",
       "      Birth Year  Gender                date To_Man  \n",
       "0         1964.0       1 2016-12-01 00:00:04   True  \n",
       "1000      1953.0       2 2016-12-01 06:23:06   True  "
      ]
     },
     "execution_count": 194,
     "metadata": {},
     "output_type": "execute_result"
    }
   ],
   "source": [
    "# Sanity check\n",
    "cb2016_to_Manhattan = cb2016.loc[cb2016['End Station ID'].isin(man_citistations.station_id)]\n",
    "\n",
    "print(\"dataset cb2016 was reduced from \",cb2016.shape[0],\" trips to \",cb2016_to_Manhattan.shape[0])\n",
    "cb2016_to_Manhattan.head(2)"
   ]
  },
  {
   "cell_type": "code",
   "execution_count": 212,
   "metadata": {},
   "outputs": [],
   "source": [
    "## DO SPATIAL JOIN WITH TAXI ZONE!!"
   ]
  },
  {
   "cell_type": "markdown",
   "metadata": {},
   "source": [
    "## 1.4 Census data by Census Tract"
   ]
  },
  {
   "cell_type": "code",
   "execution_count": 592,
   "metadata": {},
   "outputs": [],
   "source": [
    "ctszn = GeoDataFrame.from_file(\"data/ct_shape.shp\")"
   ]
  },
  {
   "cell_type": "code",
   "execution_count": 593,
   "metadata": {},
   "outputs": [
    {
     "data": {
      "text/plain": [
       "<matplotlib.axes._subplots.AxesSubplot at 0x7f1720a62240>"
      ]
     },
     "execution_count": 593,
     "metadata": {},
     "output_type": "execute_result"
    },
    {
     "data": {
      "image/png": "[encoded data removed]",
      "text/plain": [
       "<matplotlib.figure.Figure at 0x7f1720a55048>"
      ]
     },
     "metadata": {},
     "output_type": "display_data"
    }
   ],
   "source": [
    "ctszn.plot()"
   ]
  },
  {
   "cell_type": "code",
   "execution_count": 594,
   "metadata": {},
   "outputs": [
    {
     "data": {
      "text/plain": [
       "{'init': 'epsg:4326'}"
      ]
     },
     "execution_count": 594,
     "metadata": {},
     "output_type": "execute_result"
    }
   ],
   "source": []
  },
  {
   "cell_type": "code",
   "execution_count": 595,
   "metadata": {},
   "outputs": [
    {
     "data": {
      "text/html": [
       "<div>\n",
       "<table border=\"1\" class=\"dataframe\">\n",
       "  <thead>\n",
       "    <tr style=\"text-align: right;\">\n",
       "      <th></th>\n",
       "      <th>BoroCT2010</th>\n",
       "      <th>BoroCode</th>\n",
       "      <th>BoroName</th>\n",
       "      <th>CDEligibil</th>\n",
       "      <th>CT2010</th>\n",
       "      <th>CTLabel</th>\n",
       "      <th>NTACode</th>\n",
       "      <th>NTAName</th>\n",
       "      <th>PUMA</th>\n",
       "      <th>Shape_Area</th>\n",
       "      <th>Shape_Leng</th>\n",
       "      <th>geometry</th>\n",
       "    </tr>\n",
       "  </thead>\n",
       "  <tbody>\n",
       "    <tr>\n",
       "      <th>2164</th>\n",
       "      <td>1023300</td>\n",
       "      <td>1</td>\n",
       "      <td>Manhattan</td>\n",
       "      <td>E</td>\n",
       "      <td>023300</td>\n",
       "      <td>233</td>\n",
       "      <td>MN04</td>\n",
       "      <td>Hamilton Heights</td>\n",
       "      <td>3802</td>\n",
       "      <td>2.535724e+06</td>\n",
       "      <td>7136.778935</td>\n",
       "      <td>POLYGON ((999389.0635986326 241090.4204101001,...</td>\n",
       "    </tr>\n",
       "    <tr>\n",
       "      <th>2165</th>\n",
       "      <td>1023700</td>\n",
       "      <td>1</td>\n",
       "      <td>Manhattan</td>\n",
       "      <td>E</td>\n",
       "      <td>023700</td>\n",
       "      <td>237</td>\n",
       "      <td>MN04</td>\n",
       "      <td>Hamilton Heights</td>\n",
       "      <td>3802</td>\n",
       "      <td>2.897558e+06</td>\n",
       "      <td>7073.400099</td>\n",
       "      <td>POLYGON ((1000029.442993163 242245.04919428, 9...</td>\n",
       "    </tr>\n",
       "  </tbody>\n",
       "</table>\n",
       "</div>"
      ],
      "text/plain": [
       "     BoroCT2010 BoroCode   BoroName CDEligibil  CT2010 CTLabel NTACode  \\\n",
       "2164    1023300        1  Manhattan          E  023300     233    MN04   \n",
       "2165    1023700        1  Manhattan          E  023700     237    MN04   \n",
       "\n",
       "               NTAName  PUMA    Shape_Area   Shape_Leng  \\\n",
       "2164  Hamilton Heights  3802  2.535724e+06  7136.778935   \n",
       "2165  Hamilton Heights  3802  2.897558e+06  7073.400099   \n",
       "\n",
       "                                               geometry  \n",
       "2164  POLYGON ((999389.0635986326 241090.4204101001,...  \n",
       "2165  POLYGON ((1000029.442993163 242245.04919428, 9...  "
      ]
     },
     "execution_count": 595,
     "metadata": {},
     "output_type": "execute_result"
    }
   ],
   "source": []
  },
  {
   "cell_type": "code",
   "execution_count": 340,
   "metadata": {},
   "outputs": [
    {
     "data": {
      "text/html": [
       "<div>\n",
       "<table border=\"1\" class=\"dataframe\">\n",
       "  <thead>\n",
       "    <tr style=\"text-align: right;\">\n",
       "      <th></th>\n",
       "      <th>line</th>\n",
       "      <th>name</th>\n",
       "      <th>notes</th>\n",
       "      <th>objectid</th>\n",
       "      <th>url</th>\n",
       "      <th>geometry</th>\n",
       "    </tr>\n",
       "  </thead>\n",
       "  <tbody>\n",
       "    <tr>\n",
       "      <th>0</th>\n",
       "      <td>4-6-6 Express</td>\n",
       "      <td>Astor Pl</td>\n",
       "      <td>4 nights, 6-all times, 6 Express-weekdays AM s...</td>\n",
       "      <td>1.0</td>\n",
       "      <td>http://web.mta.info/nyct/service/</td>\n",
       "      <td>POINT (986725.0019278985 205255.0527942391)</td>\n",
       "    </tr>\n",
       "    <tr>\n",
       "      <th>1</th>\n",
       "      <td>4-6-6 Express</td>\n",
       "      <td>Canal St</td>\n",
       "      <td>4 nights, 6-all times, 6 Express-weekdays AM s...</td>\n",
       "      <td>2.0</td>\n",
       "      <td>http://web.mta.info/nyct/service/</td>\n",
       "      <td>POINT (984196.5000951464 201155.8398640769)</td>\n",
       "    </tr>\n",
       "  </tbody>\n",
       "</table>\n",
       "</div>"
      ],
      "text/plain": [
       "            line      name                                              notes  \\\n",
       "0  4-6-6 Express  Astor Pl  4 nights, 6-all times, 6 Express-weekdays AM s...   \n",
       "1  4-6-6 Express  Canal St  4 nights, 6-all times, 6 Express-weekdays AM s...   \n",
       "\n",
       "   objectid                                url  \\\n",
       "0       1.0  http://web.mta.info/nyct/service/   \n",
       "1       2.0  http://web.mta.info/nyct/service/   \n",
       "\n",
       "                                      geometry  \n",
       "0  POINT (986725.0019278985 205255.0527942391)  \n",
       "1  POINT (984196.5000951464 201155.8398640769)  "
      ]
     },
     "execution_count": 340,
     "metadata": {},
     "output_type": "execute_result"
    }
   ],
   "source": []
  },
  {
   "cell_type": "code",
   "execution_count": 341,
   "metadata": {},
   "outputs": [
    {
     "data": {
      "text/plain": [
       "{'init': 'epsg:2263', 'no_defs': True}"
      ]
     },
     "execution_count": 341,
     "metadata": {},
     "output_type": "execute_result"
    }
   ],
   "source": []
  },
  {
   "cell_type": "code",
   "execution_count": 342,
   "metadata": {
    "scrolled": false
   },
   "outputs": [
    {
     "data": {
      "text/html": [
       "<div>\n",
       "<table border=\"1\" class=\"dataframe\">\n",
       "  <thead>\n",
       "    <tr style=\"text-align: right;\">\n",
       "      <th></th>\n",
       "      <th>capacity</th>\n",
       "      <th>lat</th>\n",
       "      <th>lon</th>\n",
       "      <th>name</th>\n",
       "      <th>short_name</th>\n",
       "      <th>station_id</th>\n",
       "      <th>latlon</th>\n",
       "      <th>lonlat</th>\n",
       "      <th>geometry</th>\n",
       "    </tr>\n",
       "    <tr>\n",
       "      <th>index_right</th>\n",
       "      <th></th>\n",
       "      <th></th>\n",
       "      <th></th>\n",
       "      <th></th>\n",
       "      <th></th>\n",
       "      <th></th>\n",
       "      <th></th>\n",
       "      <th></th>\n",
       "      <th></th>\n",
       "    </tr>\n",
       "  </thead>\n",
       "  <tbody>\n",
       "    <tr>\n",
       "      <th>0</th>\n",
       "      <td>37</td>\n",
       "      <td>40.722174</td>\n",
       "      <td>-73.983688</td>\n",
       "      <td>E 2 St &amp; Avenue B</td>\n",
       "      <td>5515.02</td>\n",
       "      <td>301</td>\n",
       "      <td>(-73.98368779, 40.72217444)</td>\n",
       "      <td>(-73.98368779, 40.72217444)</td>\n",
       "      <td>POINT (988771.5586427487 202384.5795743875)</td>\n",
       "    </tr>\n",
       "    <tr>\n",
       "      <th>1</th>\n",
       "      <td>52</td>\n",
       "      <td>40.727408</td>\n",
       "      <td>-73.981420</td>\n",
       "      <td>E 10 St &amp; Avenue A</td>\n",
       "      <td>5659.05</td>\n",
       "      <td>445</td>\n",
       "      <td>(-73.98142006, 40.72740794)</td>\n",
       "      <td>(-73.98142006, 40.72740794)</td>\n",
       "      <td>POINT (989399.7431074582 204291.4306558817)</td>\n",
       "    </tr>\n",
       "  </tbody>\n",
       "</table>\n",
       "</div>"
      ],
      "text/plain": [
       "             capacity        lat        lon                name short_name  \\\n",
       "index_right                                                                  \n",
       "0                  37  40.722174 -73.983688   E 2 St & Avenue B    5515.02   \n",
       "1                  52  40.727408 -73.981420  E 10 St & Avenue A    5659.05   \n",
       "\n",
       "             station_id                       latlon  \\\n",
       "index_right                                            \n",
       "0                   301  (-73.98368779, 40.72217444)   \n",
       "1                   445  (-73.98142006, 40.72740794)   \n",
       "\n",
       "                                  lonlat  \\\n",
       "index_right                                \n",
       "0            (-73.98368779, 40.72217444)   \n",
       "1            (-73.98142006, 40.72740794)   \n",
       "\n",
       "                                                geometry  \n",
       "index_right                                               \n",
       "0            POINT (988771.5586427487 202384.5795743875)  \n",
       "1            POINT (989399.7431074582 204291.4306558817)  "
      ]
     },
     "execution_count": 342,
     "metadata": {},
     "output_type": "execute_result"
    }
   ],
   "source": []
  },
  {
   "cell_type": "code",
   "execution_count": 343,
   "metadata": {},
   "outputs": [
    {
     "data": {
      "text/plain": [
       "{'init': 'epsg:2263', 'no_defs': True}"
      ]
     },
     "execution_count": 343,
     "metadata": {},
     "output_type": "execute_result"
    }
   ],
   "source": []
  },
  {
   "cell_type": "code",
   "execution_count": 368,
   "metadata": {},
   "outputs": [
    {
     "name": "stdout",
     "output_type": "stream",
     "text": [
      "subshp shape (473, 6) ctszn increased from (2166, 12)  to  (473, 18)\n"
     ]
    }
   ],
   "source": []
  },
  {
   "cell_type": "code",
   "execution_count": 715,
   "metadata": {},
   "outputs": [
    {
     "name": "stdout",
     "output_type": "stream",
     "text": [
      "citibikegpd shape (818, 9) ctszn increased from (2166, 12)  to  (768, 21)\n"
     ]
    }
   ],
   "source": []
  },
  {
   "cell_type": "code",
   "execution_count": 716,
   "metadata": {},
   "outputs": [
    {
     "data": {
      "text/plain": [
       "geopandas.geodataframe.GeoDataFrame"
      ]
     },
     "execution_count": 716,
     "metadata": {},
     "output_type": "execute_result"
    }
   ],
   "source": []
  },
  {
   "cell_type": "code",
   "execution_count": 717,
   "metadata": {},
   "outputs": [
    {
     "data": {
      "text/html": [
       "<div>\n",
       "<table border=\"1\" class=\"dataframe\">\n",
       "  <thead>\n",
       "    <tr style=\"text-align: right;\">\n",
       "      <th></th>\n",
       "      <th>BoroCT2010</th>\n",
       "      <th>BoroCode</th>\n",
       "      <th>BoroName</th>\n",
       "      <th>CDEligibil</th>\n",
       "      <th>CT2010</th>\n",
       "      <th>CTLabel</th>\n",
       "      <th>NTACode</th>\n",
       "      <th>NTAName</th>\n",
       "      <th>PUMA</th>\n",
       "      <th>Shape_Area</th>\n",
       "      <th>Shape_Leng</th>\n",
       "      <th>geometry</th>\n",
       "      <th>index_right</th>\n",
       "      <th>capacity</th>\n",
       "      <th>lat</th>\n",
       "      <th>lon</th>\n",
       "      <th>name</th>\n",
       "      <th>short_name</th>\n",
       "      <th>station_id</th>\n",
       "      <th>latlon</th>\n",
       "      <th>lonlat</th>\n",
       "    </tr>\n",
       "  </thead>\n",
       "  <tbody>\n",
       "    <tr>\n",
       "      <th>8</th>\n",
       "      <td>1002202</td>\n",
       "      <td>1</td>\n",
       "      <td>Manhattan</td>\n",
       "      <td>I</td>\n",
       "      <td>002202</td>\n",
       "      <td>22.02</td>\n",
       "      <td>MN28</td>\n",
       "      <td>Lower East Side</td>\n",
       "      <td>3809</td>\n",
       "      <td>6.039223e+05</td>\n",
       "      <td>3817.391631</td>\n",
       "      <td>POLYGON ((990284.3284301723 201838.3563842234,...</td>\n",
       "      <td>15</td>\n",
       "      <td>29</td>\n",
       "      <td>40.720874</td>\n",
       "      <td>-73.980858</td>\n",
       "      <td>E 2 St &amp; Avenue C</td>\n",
       "      <td>5476.03</td>\n",
       "      <td>150</td>\n",
       "      <td>(-73.98085795, 40.7208736)</td>\n",
       "      <td>(-73.98085795, 40.7208736)</td>\n",
       "    </tr>\n",
       "    <tr>\n",
       "      <th>9</th>\n",
       "      <td>1003200</td>\n",
       "      <td>1</td>\n",
       "      <td>Manhattan</td>\n",
       "      <td>I</td>\n",
       "      <td>003200</td>\n",
       "      <td>32</td>\n",
       "      <td>MN22</td>\n",
       "      <td>East Village</td>\n",
       "      <td>3809</td>\n",
       "      <td>2.334190e+06</td>\n",
       "      <td>6358.386684</td>\n",
       "      <td>POLYGON ((989819.2963867191 204093.9949950601,...</td>\n",
       "      <td>89</td>\n",
       "      <td>27</td>\n",
       "      <td>40.724537</td>\n",
       "      <td>-73.981854</td>\n",
       "      <td>E 6 St &amp; Avenue B</td>\n",
       "      <td>5584.04</td>\n",
       "      <td>317</td>\n",
       "      <td>(-73.98185424, 40.72453734)</td>\n",
       "      <td>(-73.98185424, 40.72453734)</td>\n",
       "    </tr>\n",
       "  </tbody>\n",
       "</table>\n",
       "</div>"
      ],
      "text/plain": [
       "   BoroCT2010 BoroCode   BoroName CDEligibil  CT2010 CTLabel NTACode  \\\n",
       "8     1002202        1  Manhattan          I  002202   22.02    MN28   \n",
       "9     1003200        1  Manhattan          I  003200      32    MN22   \n",
       "\n",
       "           NTAName  PUMA    Shape_Area   Shape_Leng  \\\n",
       "8  Lower East Side  3809  6.039223e+05  3817.391631   \n",
       "9     East Village  3809  2.334190e+06  6358.386684   \n",
       "\n",
       "                                            geometry  index_right  capacity  \\\n",
       "8  POLYGON ((990284.3284301723 201838.3563842234,...           15        29   \n",
       "9  POLYGON ((989819.2963867191 204093.9949950601,...           89        27   \n",
       "\n",
       "         lat        lon               name short_name  station_id  \\\n",
       "8  40.720874 -73.980858  E 2 St & Avenue C    5476.03         150   \n",
       "9  40.724537 -73.981854  E 6 St & Avenue B    5584.04         317   \n",
       "\n",
       "                        latlon                       lonlat  \n",
       "8   (-73.98085795, 40.7208736)   (-73.98085795, 40.7208736)  \n",
       "9  (-73.98185424, 40.72453734)  (-73.98185424, 40.72453734)  "
      ]
     },
     "execution_count": 717,
     "metadata": {},
     "output_type": "execute_result"
    }
   ],
   "source": []
  },
  {
   "cell_type": "code",
   "execution_count": null,
   "metadata": {},
   "outputs": [],
   "source": []
  },
  {
   "cell_type": "code",
   "execution_count": 718,
   "metadata": {
    "scrolled": true
   },
   "outputs": [
    {
     "name": "stdout",
     "output_type": "stream",
     "text": [
      "(2167, 1)\n"
     ]
    },
    {
     "data": {
      "text/html": [
       "<div>\n",
       "<table border=\"1\" class=\"dataframe\">\n",
       "  <thead>\n",
       "    <tr style=\"text-align: right;\">\n",
       "      <th></th>\n",
       "      <th>TotalPop</th>\n",
       "    </tr>\n",
       "    <tr>\n",
       "      <th>CensusTract</th>\n",
       "      <th></th>\n",
       "    </tr>\n",
       "  </thead>\n",
       "  <tbody>\n",
       "    <tr>\n",
       "      <th>36005000100</th>\n",
       "      <td>7703</td>\n",
       "    </tr>\n",
       "    <tr>\n",
       "      <th>36005000200</th>\n",
       "      <td>5403</td>\n",
       "    </tr>\n",
       "  </tbody>\n",
       "</table>\n",
       "</div>"
      ],
      "text/plain": [
       "             TotalPop\n",
       "CensusTract          \n",
       "36005000100      7703\n",
       "36005000200      5403"
      ]
     },
     "execution_count": 718,
     "metadata": {},
     "output_type": "execute_result"
    }
   ],
   "source": [
    "#Upload the main dataset\n",
    "Census_tracts1=pd.read_csv(\"data/nyc_census_tracts.csv\",index_col=0)\n",
    "#replace NaN's with zeros\n",
    "Census_tracts1.fillna(0,inplace=True); SMdata.head()\n",
    "Census_tracts = Census_tracts1[['TotalPop']]\n",
    "print(Census_tracts.shape)\n",
    "Census_tracts.head(2)"
   ]
  },
  {
   "cell_type": "code",
   "execution_count": 719,
   "metadata": {},
   "outputs": [],
   "source": [
    "#Census_tracts['BoroCT2010']"
   ]
  },
  {
   "cell_type": "code",
   "execution_count": 720,
   "metadata": {},
   "outputs": [
    {
     "name": "stderr",
     "output_type": "stream",
     "text": [
      "/usr/local/Anaconda3-5.0.0-Linux-x86_64/envs/PUI2016_Python3/lib/python3.5/site-packages/ipykernel/__main__.py:1: SettingWithCopyWarning: \n",
      "A value is trying to be set on a copy of a slice from a DataFrame.\n",
      "Try using .loc[row_indexer,col_indexer] = value instead\n",
      "\n",
      "See the caveats in the documentation: http://pandas.pydata.org/pandas-docs/stable/indexing.html#indexing-view-versus-copy\n",
      "  if __name__ == '__main__':\n"
     ]
    }
   ],
   "source": [
    "Census_tracts['BoroCT2010']=Census_tracts.index.values"
   ]
  },
  {
   "cell_type": "code",
   "execution_count": 721,
   "metadata": {},
   "outputs": [
    {
     "data": {
      "text/plain": [
       "(2167, 2)"
      ]
     },
     "execution_count": 721,
     "metadata": {},
     "output_type": "execute_result"
    }
   ],
   "source": [
    "Census_tracts.shape"
   ]
  },
  {
   "cell_type": "code",
   "execution_count": 722,
   "metadata": {},
   "outputs": [
    {
     "data": {
      "text/html": [
       "<div>\n",
       "<table border=\"1\" class=\"dataframe\">\n",
       "  <thead>\n",
       "    <tr style=\"text-align: right;\">\n",
       "      <th></th>\n",
       "      <th>CensusTract</th>\n",
       "      <th>TotalPop</th>\n",
       "      <th>BoroCT2010</th>\n",
       "    </tr>\n",
       "  </thead>\n",
       "  <tbody>\n",
       "    <tr>\n",
       "      <th>0</th>\n",
       "      <td>36005000100</td>\n",
       "      <td>7703</td>\n",
       "      <td>36005000100</td>\n",
       "    </tr>\n",
       "    <tr>\n",
       "      <th>1</th>\n",
       "      <td>36005000200</td>\n",
       "      <td>5403</td>\n",
       "      <td>36005000200</td>\n",
       "    </tr>\n",
       "  </tbody>\n",
       "</table>\n",
       "</div>"
      ],
      "text/plain": [
       "   CensusTract  TotalPop   BoroCT2010\n",
       "0  36005000100      7703  36005000100\n",
       "1  36005000200      5403  36005000200"
      ]
     },
     "execution_count": 722,
     "metadata": {},
     "output_type": "execute_result"
    }
   ],
   "source": [
    "Census_tracts.reset_index(inplace=True)\n",
    "Census_tracts.head(2) \n",
    "#type(Census_tracts.BoroCT2010)"
   ]
  },
  {
   "cell_type": "code",
   "execution_count": 764,
   "metadata": {
    "scrolled": true
   },
   "outputs": [
    {
     "data": {
      "text/html": [
       "<div>\n",
       "<table border=\"1\" class=\"dataframe\">\n",
       "  <thead>\n",
       "    <tr style=\"text-align: right;\">\n",
       "      <th></th>\n",
       "      <th>BoroCT2010</th>\n",
       "      <th>BoroCode</th>\n",
       "      <th>BoroName</th>\n",
       "      <th>CDEligibil</th>\n",
       "      <th>CT2010</th>\n",
       "      <th>CTLabel</th>\n",
       "      <th>NTACode</th>\n",
       "      <th>NTAName</th>\n",
       "      <th>PUMA</th>\n",
       "      <th>Shape_Area</th>\n",
       "      <th>Shape_Leng</th>\n",
       "      <th>geometry</th>\n",
       "    </tr>\n",
       "    <tr>\n",
       "      <th>index_left</th>\n",
       "      <th></th>\n",
       "      <th></th>\n",
       "      <th></th>\n",
       "      <th></th>\n",
       "      <th></th>\n",
       "      <th></th>\n",
       "      <th></th>\n",
       "      <th></th>\n",
       "      <th></th>\n",
       "      <th></th>\n",
       "      <th></th>\n",
       "      <th></th>\n",
       "    </tr>\n",
       "  </thead>\n",
       "  <tbody>\n",
       "    <tr>\n",
       "      <th>2163</th>\n",
       "      <td>3000301</td>\n",
       "      <td>3</td>\n",
       "      <td>Brooklyn</td>\n",
       "      <td>I</td>\n",
       "      <td>000301</td>\n",
       "      <td>3.01</td>\n",
       "      <td>BK09</td>\n",
       "      <td>Brooklyn Heights-Cobble Hill</td>\n",
       "      <td>4004</td>\n",
       "      <td>2.142139e+06</td>\n",
       "      <td>6466.952122</td>\n",
       "      <td>POLYGON ((985832.723205568 193771.6766356827, ...</td>\n",
       "    </tr>\n",
       "  </tbody>\n",
       "</table>\n",
       "</div>"
      ],
      "text/plain": [
       "            BoroCT2010 BoroCode  BoroName CDEligibil  CT2010 CTLabel NTACode  \\\n",
       "index_left                                                                     \n",
       "2163           3000301        3  Brooklyn          I  000301    3.01    BK09   \n",
       "\n",
       "                                 NTAName  PUMA    Shape_Area   Shape_Leng  \\\n",
       "index_left                                                                  \n",
       "2163        Brooklyn Heights-Cobble Hill  4004  2.142139e+06  6466.952122   \n",
       "\n",
       "                                                     geometry  \n",
       "index_left                                                     \n",
       "2163        POLYGON ((985832.723205568 193771.6766356827, ...  "
      ]
     },
     "execution_count": 764,
     "metadata": {},
     "output_type": "execute_result"
    }
   ],
   "source": [
    "# Find Brooklyn Codes (760 neighbourhoods)\n",
    "ctszn[ctszn['BoroName']=='Brooklyn'].tail(1)"
   ]
  },
  {
   "cell_type": "code",
   "execution_count": 763,
   "metadata": {
    "scrolled": false
   },
   "outputs": [
    {
     "data": {
      "text/html": [
       "<div>\n",
       "<table border=\"1\" class=\"dataframe\">\n",
       "  <thead>\n",
       "    <tr style=\"text-align: right;\">\n",
       "      <th></th>\n",
       "      <th>CensusTract</th>\n",
       "      <th>TotalPop</th>\n",
       "      <th>BoroCT2010</th>\n",
       "      <th>Borost</th>\n",
       "    </tr>\n",
       "  </thead>\n",
       "  <tbody>\n",
       "    <tr>\n",
       "      <th>339</th>\n",
       "      <td>36047000100</td>\n",
       "      <td>4304</td>\n",
       "      <td>36047000100</td>\n",
       "      <td>36047000100</td>\n",
       "    </tr>\n",
       "    <tr>\n",
       "      <th>340</th>\n",
       "      <td>36047000200</td>\n",
       "      <td>1868</td>\n",
       "      <td>36047000200</td>\n",
       "      <td>36047000200</td>\n",
       "    </tr>\n",
       "  </tbody>\n",
       "</table>\n",
       "</div>"
      ],
      "text/plain": [
       "     CensusTract  TotalPop   BoroCT2010       Borost\n",
       "339  36047000100      4304  36047000100  36047000100\n",
       "340  36047000200      1868  36047000200  36047000200"
      ]
     },
     "execution_count": 763,
     "metadata": {},
     "output_type": "execute_result"
    }
   ],
   "source": [
    "Census_tracts[(Census_tracts['CensusTract']<36061000100) & (Census_tracts['CensusTract']>36040000000)].head(2)"
   ]
  },
  {
   "cell_type": "code",
   "execution_count": 725,
   "metadata": {},
   "outputs": [],
   "source": [
    "### NOTE THAT THE SIZE IS THE SAME SO THEY CORRESPOND TO THE SAME SET OF CENSUS TRACT"
   ]
  },
  {
   "cell_type": "code",
   "execution_count": null,
   "metadata": {},
   "outputs": [],
   "source": []
  },
  {
   "cell_type": "code",
   "execution_count": 726,
   "metadata": {
    "scrolled": true
   },
   "outputs": [
    {
     "data": {
      "text/plain": [
       "<matplotlib.collections.PathCollection at 0x7f171bfb0cc0>"
      ]
     },
     "execution_count": 726,
     "metadata": {},
     "output_type": "execute_result"
    },
    {
     "data": {
      "image/png": "[encoded data removed]",
      "text/plain": [
       "<matplotlib.figure.Figure at 0x7f171bfc0550>"
      ]
     },
     "metadata": {},
     "output_type": "display_data"
    }
   ],
   "source": [
    "pl.scatter(x=Census_tracts.index.values,y=Census_tracts['CensusTract'].values)"
   ]
  },
  {
   "cell_type": "code",
   "execution_count": null,
   "metadata": {},
   "outputs": [],
   "source": []
  },
  {
   "cell_type": "code",
   "execution_count": 745,
   "metadata": {},
   "outputs": [],
   "source": [
    "# Understand Census Track Records"
   ]
  },
  {
   "cell_type": "code",
   "execution_count": 746,
   "metadata": {},
   "outputs": [
    {
     "data": {
      "text/html": [
       "<div>\n",
       "<table border=\"1\" class=\"dataframe\">\n",
       "  <thead>\n",
       "    <tr style=\"text-align: right;\">\n",
       "      <th></th>\n",
       "      <th>index</th>\n",
       "      <th>CensusTract</th>\n",
       "      <th>TotalPop</th>\n",
       "      <th>BoroCT2010</th>\n",
       "      <th>Borost</th>\n",
       "    </tr>\n",
       "  </thead>\n",
       "  <tbody>\n",
       "    <tr>\n",
       "      <th>0</th>\n",
       "      <td>339</td>\n",
       "      <td>36047000100</td>\n",
       "      <td>4304</td>\n",
       "      <td>36047000100</td>\n",
       "      <td>36047000100</td>\n",
       "    </tr>\n",
       "    <tr>\n",
       "      <th>1</th>\n",
       "      <td>340</td>\n",
       "      <td>36047000200</td>\n",
       "      <td>1868</td>\n",
       "      <td>36047000200</td>\n",
       "      <td>36047000200</td>\n",
       "    </tr>\n",
       "  </tbody>\n",
       "</table>\n",
       "</div>"
      ],
      "text/plain": [
       "   index  CensusTract  TotalPop   BoroCT2010       Borost\n",
       "0    339  36047000100      4304  36047000100  36047000100\n",
       "1    340  36047000200      1868  36047000200  36047000200"
      ]
     },
     "execution_count": 746,
     "metadata": {},
     "output_type": "execute_result"
    }
   ],
   "source": [
    "\n",
    "Census_Br = Census_tracts[(Census_tracts['CensusTract']<36047420100) & (Census_tracts['CensusTract']>36040000000)]\n",
    "Census_Br=Census_Br.reset_index()\n",
    "Census_Br.head(2)"
   ]
  },
  {
   "cell_type": "code",
   "execution_count": 747,
   "metadata": {
    "scrolled": true
   },
   "outputs": [
    {
     "data": {
      "text/plain": [
       "<matplotlib.collections.PathCollection at 0x7f173123d630>"
      ]
     },
     "execution_count": 747,
     "metadata": {},
     "output_type": "execute_result"
    },
    {
     "data": {
      "image/png": "[encoded data removed]",
      "text/plain": [
       "<matplotlib.figure.Figure at 0x7f1721d41390>"
      ]
     },
     "metadata": {},
     "output_type": "display_data"
    }
   ],
   "source": [
    "pl.scatter(x=Census_Br.index.values,y=Census_Br['CensusTract'].values)"
   ]
  },
  {
   "cell_type": "code",
   "execution_count": 748,
   "metadata": {},
   "outputs": [],
   "source": [
    "ctszn['BoroCT2010']= ctszn['BoroCT2010'].astype(int)"
   ]
  },
  {
   "cell_type": "code",
   "execution_count": 750,
   "metadata": {},
   "outputs": [
    {
     "data": {
      "text/plain": [
       "<matplotlib.collections.PathCollection at 0x7f1720711da0>"
      ]
     },
     "execution_count": 750,
     "metadata": {},
     "output_type": "execute_result"
    },
    {
     "data": {
      "image/png": "[encoded data removed]",
      "text/plain": [
       "<matplotlib.figure.Figure at 0x7f1731753be0>"
      ]
     },
     "metadata": {},
     "output_type": "display_data"
    }
   ],
   "source": [
    "pl.scatter(x=ctszn.index.values,y=ctszn['BoroCT2010'].values)"
   ]
  },
  {
   "cell_type": "code",
   "execution_count": 751,
   "metadata": {},
   "outputs": [
    {
     "data": {
      "text/plain": [
       "(760,)"
      ]
     },
     "execution_count": 751,
     "metadata": {},
     "output_type": "execute_result"
    }
   ],
   "source": [
    "ctszn['BoroCT2010'][(ctszn['BoroCT2010']<4000000) & (ctszn['BoroCT2010']>3000000)].shape"
   ]
  },
  {
   "cell_type": "code",
   "execution_count": 752,
   "metadata": {
    "scrolled": true
   },
   "outputs": [
    {
     "data": {
      "text/html": [
       "<div>\n",
       "<table border=\"1\" class=\"dataframe\">\n",
       "  <thead>\n",
       "    <tr style=\"text-align: right;\">\n",
       "      <th></th>\n",
       "      <th>BoroCT2010</th>\n",
       "      <th>BoroCode</th>\n",
       "      <th>BoroName</th>\n",
       "      <th>CDEligibil</th>\n",
       "      <th>CT2010</th>\n",
       "      <th>CTLabel</th>\n",
       "      <th>NTACode</th>\n",
       "      <th>NTAName</th>\n",
       "      <th>PUMA</th>\n",
       "      <th>Shape_Area</th>\n",
       "      <th>Shape_Leng</th>\n",
       "      <th>geometry</th>\n",
       "    </tr>\n",
       "    <tr>\n",
       "      <th>index_left</th>\n",
       "      <th></th>\n",
       "      <th></th>\n",
       "      <th></th>\n",
       "      <th></th>\n",
       "      <th></th>\n",
       "      <th></th>\n",
       "      <th></th>\n",
       "      <th></th>\n",
       "      <th></th>\n",
       "      <th></th>\n",
       "      <th></th>\n",
       "      <th></th>\n",
       "    </tr>\n",
       "  </thead>\n",
       "  <tbody>\n",
       "    <tr>\n",
       "      <th>2162</th>\n",
       "      <td>3000100</td>\n",
       "      <td>3</td>\n",
       "      <td>Brooklyn</td>\n",
       "      <td>I</td>\n",
       "      <td>000100</td>\n",
       "      <td>1</td>\n",
       "      <td>BK09</td>\n",
       "      <td>Brooklyn Heights-Cobble Hill</td>\n",
       "      <td>4004</td>\n",
       "      <td>2.237282e+06</td>\n",
       "      <td>6527.281839</td>\n",
       "      <td>POLYGON ((986764.3486328113 194584.624389593, ...</td>\n",
       "    </tr>\n",
       "    <tr>\n",
       "      <th>2163</th>\n",
       "      <td>3000301</td>\n",
       "      <td>3</td>\n",
       "      <td>Brooklyn</td>\n",
       "      <td>I</td>\n",
       "      <td>000301</td>\n",
       "      <td>3.01</td>\n",
       "      <td>BK09</td>\n",
       "      <td>Brooklyn Heights-Cobble Hill</td>\n",
       "      <td>4004</td>\n",
       "      <td>2.142139e+06</td>\n",
       "      <td>6466.952122</td>\n",
       "      <td>POLYGON ((985832.723205568 193771.6766356827, ...</td>\n",
       "    </tr>\n",
       "  </tbody>\n",
       "</table>\n",
       "</div>"
      ],
      "text/plain": [
       "            BoroCT2010 BoroCode  BoroName CDEligibil  CT2010 CTLabel NTACode  \\\n",
       "index_left                                                                     \n",
       "2162           3000100        3  Brooklyn          I  000100       1    BK09   \n",
       "2163           3000301        3  Brooklyn          I  000301    3.01    BK09   \n",
       "\n",
       "                                 NTAName  PUMA    Shape_Area   Shape_Leng  \\\n",
       "index_left                                                                  \n",
       "2162        Brooklyn Heights-Cobble Hill  4004  2.237282e+06  6527.281839   \n",
       "2163        Brooklyn Heights-Cobble Hill  4004  2.142139e+06  6466.952122   \n",
       "\n",
       "                                                     geometry  \n",
       "index_left                                                     \n",
       "2162        POLYGON ((986764.3486328113 194584.624389593, ...  \n",
       "2163        POLYGON ((985832.723205568 193771.6766356827, ...  "
      ]
     },
     "execution_count": 752,
     "metadata": {},
     "output_type": "execute_result"
    }
   ],
   "source": [
    "ctszn_Br = ctszn[(ctszn['BoroCT2010']<4000000) & (ctszn['BoroCT2010']>3000000)]\n",
    "ctszn_Br.tail(2)"
   ]
  },
  {
   "cell_type": "code",
   "execution_count": 744,
   "metadata": {
    "scrolled": true
   },
   "outputs": [
    {
     "data": {
      "text/plain": [
       "<matplotlib.collections.PathCollection at 0x7f17315cb6a0>"
      ]
     },
     "execution_count": 744,
     "metadata": {},
     "output_type": "execute_result"
    },
    {
     "data": {
      "image/png": "[encoded data removed]",
      "text/plain": [
       "<matplotlib.figure.Figure at 0x7f17312abb00>"
      ]
     },
     "metadata": {},
     "output_type": "display_data"
    }
   ],
   "source": [
    "pl.scatter(x=ctszn_Br.index.values,y=ctszn_Br['BoroCT2010'].values)"
   ]
  },
  {
   "cell_type": "code",
   "execution_count": 753,
   "metadata": {},
   "outputs": [],
   "source": [
    "# Note that Census tracks for Brooklyn are the same"
   ]
  },
  {
   "cell_type": "code",
   "execution_count": 755,
   "metadata": {},
   "outputs": [
    {
     "name": "stderr",
     "output_type": "stream",
     "text": [
      "/usr/local/Anaconda3-5.0.0-Linux-x86_64/envs/PUI2016_Python3/lib/python3.5/site-packages/ipykernel/__main__.py:2: SettingWithCopyWarning: \n",
      "A value is trying to be set on a copy of a slice from a DataFrame.\n",
      "Try using .loc[row_indexer,col_indexer] = value instead\n",
      "\n",
      "See the caveats in the documentation: http://pandas.pydata.org/pandas-docs/stable/indexing.html#indexing-view-versus-copy\n",
      "  from ipykernel import kernelapp as app\n",
      "/usr/local/Anaconda3-5.0.0-Linux-x86_64/envs/PUI2016_Python3/lib/python3.5/site-packages/ipykernel/__main__.py:3: SettingWithCopyWarning: \n",
      "A value is trying to be set on a copy of a slice from a DataFrame.\n",
      "Try using .loc[row_indexer,col_indexer] = value instead\n",
      "\n",
      "See the caveats in the documentation: http://pandas.pydata.org/pandas-docs/stable/indexing.html#indexing-view-versus-copy\n",
      "  app.launch_new_instance()\n",
      "/usr/local/Anaconda3-5.0.0-Linux-x86_64/envs/PUI2016_Python3/lib/python3.5/site-packages/ipykernel/__main__.py:4: SettingWithCopyWarning: \n",
      "A value is trying to be set on a copy of a slice from a DataFrame.\n",
      "Try using .loc[row_indexer,col_indexer] = value instead\n",
      "\n",
      "See the caveats in the documentation: http://pandas.pydata.org/pandas-docs/stable/indexing.html#indexing-view-versus-copy\n"
     ]
    },
    {
     "data": {
      "text/html": [
       "<div>\n",
       "<table border=\"1\" class=\"dataframe\">\n",
       "  <thead>\n",
       "    <tr style=\"text-align: right;\">\n",
       "      <th></th>\n",
       "      <th>BoroCT2010</th>\n",
       "      <th>BoroCode</th>\n",
       "      <th>BoroName</th>\n",
       "      <th>CDEligibil</th>\n",
       "      <th>CT2010</th>\n",
       "      <th>CTLabel</th>\n",
       "      <th>NTACode</th>\n",
       "      <th>NTAName</th>\n",
       "      <th>PUMA</th>\n",
       "      <th>Shape_Area</th>\n",
       "      <th>Shape_Leng</th>\n",
       "      <th>geometry</th>\n",
       "      <th>Borost</th>\n",
       "    </tr>\n",
       "    <tr>\n",
       "      <th>index_left</th>\n",
       "      <th></th>\n",
       "      <th></th>\n",
       "      <th></th>\n",
       "      <th></th>\n",
       "      <th></th>\n",
       "      <th></th>\n",
       "      <th></th>\n",
       "      <th></th>\n",
       "      <th></th>\n",
       "      <th></th>\n",
       "      <th></th>\n",
       "      <th></th>\n",
       "      <th></th>\n",
       "    </tr>\n",
       "  </thead>\n",
       "  <tbody>\n",
       "    <tr>\n",
       "      <th>52</th>\n",
       "      <td>200</td>\n",
       "      <td>3</td>\n",
       "      <td>Brooklyn</td>\n",
       "      <td>I</td>\n",
       "      <td>000200</td>\n",
       "      <td>2</td>\n",
       "      <td>BK32</td>\n",
       "      <td>Sunset Park West</td>\n",
       "      <td>4012</td>\n",
       "      <td>2.952085e+06</td>\n",
       "      <td>9075.285177</td>\n",
       "      <td>POLYGON ((982507.2609863298 178067.0924071751,...</td>\n",
       "      <td>000200</td>\n",
       "    </tr>\n",
       "    <tr>\n",
       "      <th>53</th>\n",
       "      <td>501</td>\n",
       "      <td>3</td>\n",
       "      <td>Brooklyn</td>\n",
       "      <td>I</td>\n",
       "      <td>000501</td>\n",
       "      <td>5.01</td>\n",
       "      <td>BK09</td>\n",
       "      <td>Brooklyn Heights-Cobble Hill</td>\n",
       "      <td>4004</td>\n",
       "      <td>9.015070e+05</td>\n",
       "      <td>4828.170042</td>\n",
       "      <td>POLYGON ((986185.9869995115 193380.8801879325,...</td>\n",
       "      <td>000501</td>\n",
       "    </tr>\n",
       "  </tbody>\n",
       "</table>\n",
       "</div>"
      ],
      "text/plain": [
       "            BoroCT2010 BoroCode  BoroName CDEligibil  CT2010 CTLabel NTACode  \\\n",
       "index_left                                                                     \n",
       "52                 200        3  Brooklyn          I  000200       2    BK32   \n",
       "53                 501        3  Brooklyn          I  000501    5.01    BK09   \n",
       "\n",
       "                                 NTAName  PUMA    Shape_Area   Shape_Leng  \\\n",
       "index_left                                                                  \n",
       "52                      Sunset Park West  4012  2.952085e+06  9075.285177   \n",
       "53          Brooklyn Heights-Cobble Hill  4004  9.015070e+05  4828.170042   \n",
       "\n",
       "                                                     geometry  Borost  \n",
       "index_left                                                             \n",
       "52          POLYGON ((982507.2609863298 178067.0924071751,...  000200  \n",
       "53          POLYGON ((986185.9869995115 193380.8801879325,...  000501  "
      ]
     },
     "execution_count": 755,
     "metadata": {},
     "output_type": "execute_result"
    }
   ],
   "source": [
    "#df['col1'] = df['col'].str[0:2]\n",
    "ctszn_Br['Borost'] = ctszn_Br['BoroCT2010'].astype(str)\n",
    "ctszn_Br['Borost'] = ctszn_Br['Borost'].str[-6:]\n",
    "ctszn_Br['BoroCT2010'] = ctszn_Br['Borost'].astype(int)\n",
    "#Census_Br.drop('Borost',axis=1,inplace=True)\n",
    "ctszn_Br.head(2)"
   ]
  },
  {
   "cell_type": "code",
   "execution_count": 756,
   "metadata": {},
   "outputs": [
    {
     "name": "stderr",
     "output_type": "stream",
     "text": [
      "/usr/local/Anaconda3-5.0.0-Linux-x86_64/envs/PUI2016_Python3/lib/python3.5/site-packages/ipykernel/__main__.py:1: SettingWithCopyWarning: \n",
      "A value is trying to be set on a copy of a slice from a DataFrame.\n",
      "Try using .loc[row_indexer,col_indexer] = value instead\n",
      "\n",
      "See the caveats in the documentation: http://pandas.pydata.org/pandas-docs/stable/indexing.html#indexing-view-versus-copy\n",
      "  if __name__ == '__main__':\n"
     ]
    },
    {
     "data": {
      "text/html": [
       "<div>\n",
       "<table border=\"1\" class=\"dataframe\">\n",
       "  <thead>\n",
       "    <tr style=\"text-align: right;\">\n",
       "      <th></th>\n",
       "      <th>index</th>\n",
       "      <th>CensusTract</th>\n",
       "      <th>TotalPop</th>\n",
       "      <th>BoroCT2010</th>\n",
       "      <th>Borost</th>\n",
       "    </tr>\n",
       "  </thead>\n",
       "  <tbody>\n",
       "    <tr>\n",
       "      <th>0</th>\n",
       "      <td>339</td>\n",
       "      <td>36047000100</td>\n",
       "      <td>4304</td>\n",
       "      <td>100</td>\n",
       "      <td>000100</td>\n",
       "    </tr>\n",
       "    <tr>\n",
       "      <th>1</th>\n",
       "      <td>340</td>\n",
       "      <td>36047000200</td>\n",
       "      <td>1868</td>\n",
       "      <td>200</td>\n",
       "      <td>000200</td>\n",
       "    </tr>\n",
       "  </tbody>\n",
       "</table>\n",
       "</div>"
      ],
      "text/plain": [
       "   index  CensusTract  TotalPop  BoroCT2010  Borost\n",
       "0    339  36047000100      4304         100  000100\n",
       "1    340  36047000200      1868         200  000200"
      ]
     },
     "execution_count": 756,
     "metadata": {},
     "output_type": "execute_result"
    }
   ],
   "source": [
    "Census_tracts['Borost'] = Census_tracts['BoroCT2010'].astype(str)\n",
    "#df['col1'] = df['col'].str[0:2]\n",
    "Census_Br['Borost'] = Census_Br['Borost'].str[-6:]\n",
    "Census_Br['BoroCT2010'] = Census_Br['Borost'].astype(int)\n",
    "#Census_Br.drop('Borost',axis=1,inplace=True)\n",
    "Census_Br.head(2)\n"
   ]
  },
  {
   "cell_type": "code",
   "execution_count": 758,
   "metadata": {},
   "outputs": [
    {
     "name": "stdout",
     "output_type": "stream",
     "text": [
      "152200\n"
     ]
    },
    {
     "data": {
      "text/plain": [
       "100"
      ]
     },
     "execution_count": 758,
     "metadata": {},
     "output_type": "execute_result"
    }
   ],
   "source": [
    "print(amax(Census_Br.BoroCT2010))\n",
    "amin(Census_Br.BoroCT2010)"
   ]
  },
  {
   "cell_type": "code",
   "execution_count": 761,
   "metadata": {},
   "outputs": [
    {
     "name": "stdout",
     "output_type": "stream",
     "text": [
      "152200\n"
     ]
    },
    {
     "data": {
      "text/plain": [
       "100"
      ]
     },
     "execution_count": 761,
     "metadata": {},
     "output_type": "execute_result"
    }
   ],
   "source": [
    "print(amax(ctszn_Br.BoroCT2010))\n",
    "amin(ctszn_Br.BoroCT2010)"
   ]
  },
  {
   "cell_type": "markdown",
   "metadata": {},
   "source": [
    "# Merge Census_tracts and ctszn"
   ]
  },
  {
   "cell_type": "code",
   "execution_count": 624,
   "metadata": {},
   "outputs": [],
   "source": [
    "#Census_tracts.BoroCT2010"
   ]
  },
  {
   "cell_type": "code",
   "execution_count": 765,
   "metadata": {},
   "outputs": [],
   "source": [
    "ctszn_=ctszn_Br.merge(Census_Br,on='BoroCT2010')"
   ]
  },
  {
   "cell_type": "code",
   "execution_count": 766,
   "metadata": {},
   "outputs": [
    {
     "name": "stdout",
     "output_type": "stream",
     "text": [
      "ctszn_ reduced from  (2166, 12) to (760, 17)\n"
     ]
    }
   ],
   "source": [
    "print(\"ctszn_ reduced from \",ctszn.shape,\"to\",ctszn_.shape)"
   ]
  },
  {
   "cell_type": "code",
   "execution_count": 769,
   "metadata": {
    "scrolled": true
   },
   "outputs": [
    {
     "data": {
      "text/plain": [
       "<matplotlib.axes._subplots.AxesSubplot at 0x7f173711c7f0>"
      ]
     },
     "execution_count": 769,
     "metadata": {},
     "output_type": "execute_result"
    },
    {
     "data": {
      "image/png": "[encoded data removed]",
      "text/plain": [
       "<matplotlib.figure.Figure at 0x7f171bd048d0>"
      ]
     },
     "metadata": {},
     "output_type": "display_data"
    }
   ],
   "source": [
    "ctszn_.plot(column=\"TotalPop\",figsize=[5,5], legend=True)"
   ]
  },
  {
   "cell_type": "code",
   "execution_count": 776,
   "metadata": {},
   "outputs": [
    {
     "data": {
      "text/html": [
       "<div>\n",
       "<table border=\"1\" class=\"dataframe\">\n",
       "  <thead>\n",
       "    <tr style=\"text-align: right;\">\n",
       "      <th></th>\n",
       "      <th>line</th>\n",
       "      <th>name</th>\n",
       "      <th>notes</th>\n",
       "      <th>objectid</th>\n",
       "      <th>url</th>\n",
       "      <th>geometry</th>\n",
       "    </tr>\n",
       "    <tr>\n",
       "      <th>index_right</th>\n",
       "      <th></th>\n",
       "      <th></th>\n",
       "      <th></th>\n",
       "      <th></th>\n",
       "      <th></th>\n",
       "      <th></th>\n",
       "    </tr>\n",
       "  </thead>\n",
       "  <tbody>\n",
       "    <tr>\n",
       "      <th>0</th>\n",
       "      <td>4-6-6 Express</td>\n",
       "      <td>Astor Pl</td>\n",
       "      <td>4 nights, 6-all times, 6 Express-weekdays AM s...</td>\n",
       "      <td>1.0</td>\n",
       "      <td>http://web.mta.info/nyct/service/</td>\n",
       "      <td>POINT (986725.0019278985 205255.0527942391)</td>\n",
       "    </tr>\n",
       "    <tr>\n",
       "      <th>1</th>\n",
       "      <td>4-6-6 Express</td>\n",
       "      <td>Canal St</td>\n",
       "      <td>4 nights, 6-all times, 6 Express-weekdays AM s...</td>\n",
       "      <td>2.0</td>\n",
       "      <td>http://web.mta.info/nyct/service/</td>\n",
       "      <td>POINT (984196.5000951464 201155.8398640769)</td>\n",
       "    </tr>\n",
       "  </tbody>\n",
       "</table>\n",
       "</div>"
      ],
      "text/plain": [
       "                      line      name  \\\n",
       "index_right                            \n",
       "0            4-6-6 Express  Astor Pl   \n",
       "1            4-6-6 Express  Canal St   \n",
       "\n",
       "                                                         notes  objectid  \\\n",
       "index_right                                                                \n",
       "0            4 nights, 6-all times, 6 Express-weekdays AM s...       1.0   \n",
       "1            4 nights, 6-all times, 6 Express-weekdays AM s...       2.0   \n",
       "\n",
       "                                           url  \\\n",
       "index_right                                      \n",
       "0            http://web.mta.info/nyct/service/   \n",
       "1            http://web.mta.info/nyct/service/   \n",
       "\n",
       "                                                geometry  \n",
       "index_right                                               \n",
       "0            POINT (986725.0019278985 205255.0527942391)  \n",
       "1            POINT (984196.5000951464 201155.8398640769)  "
      ]
     },
     "execution_count": 776,
     "metadata": {},
     "output_type": "execute_result"
    }
   ],
   "source": [
    "subshp.head(2)"
   ]
  },
  {
   "cell_type": "markdown",
   "metadata": {},
   "source": [
    "# Spatial Join with Subway and Citibike Data"
   ]
  },
  {
   "cell_type": "code",
   "execution_count": 802,
   "metadata": {},
   "outputs": [
    {
     "name": "stdout",
     "output_type": "stream",
     "text": [
      "boro increased from (5, 5)  to boro_Br shape (1, 5)\n"
     ]
    }
   ],
   "source": [
    "boro_Br=boro[(boro.boro_code==3)]\n",
    "print(\"boro increased from\", boro.shape,\" to boro_Br shape\",boro_Br.shape)"
   ]
  },
  {
   "cell_type": "code",
   "execution_count": 803,
   "metadata": {},
   "outputs": [
    {
     "name": "stdout",
     "output_type": "stream",
     "text": [
      "ctszn.crs is  {'no_defs': True, 'init': 'epsg:2263'}  ; subshp.crs is  {'no_defs': True, 'init': 'epsg:2263'} \n",
      " citibikegpd.crs {'no_defs': True, 'init': 'epsg:2263'}\n"
     ]
    }
   ],
   "source": [
    "print(\"ctszn.crs is \",ctszn.crs,\" ; subshp.crs is \" , subshp.crs,\\\n",
    "      \"\\n citibikegpd.crs\",citibikegpd.crs)\n",
    "#ctszn.crs = from_epsg(4326)"
   ]
  },
  {
   "cell_type": "code",
   "execution_count": 809,
   "metadata": {},
   "outputs": [
    {
     "name": "stdout",
     "output_type": "stream",
     "text": [
      "subshp shape (473, 6)  to  (169, 11) boro_Br increased from (1, 5)\n"
     ]
    }
   ],
   "source": [
    "subshp_Br = gpd.sjoin(subshp,boro_Br, op=\"intersects\")\n",
    "print(\"subshp shape\",subshp.shape,\" to \", subshp_Br.shape,\"boro_Br increased from\", boro_Br.shape)"
   ]
  },
  {
   "cell_type": "code",
   "execution_count": 811,
   "metadata": {},
   "outputs": [
    {
     "name": "stdout",
     "output_type": "stream",
     "text": [
      "boro shape (5, 5) to boro_Br (1, 5) citibikegpd increased from (818, 9)  to citibikegpd_Br (267, 14)\n"
     ]
    }
   ],
   "source": [
    "citibikegpd_Br = gpd.sjoin(citibikegpd,boro_Br, op=\"intersects\")\n",
    "print(\"boro shape\",boro.shape,\"to boro_Br\",boro_Br.shape,\"citibikegpd increased from\", \\\n",
    "      citibikegpd.shape,\" to citibikegpd_Br\", citibikegpd_Br.shape)"
   ]
  },
  {
   "cell_type": "code",
   "execution_count": 813,
   "metadata": {},
   "outputs": [
    {
     "data": {
      "text/plain": [
       "<matplotlib.axes._subplots.AxesSubplot at 0x7f171b4c0978>"
      ]
     },
     "execution_count": 813,
     "metadata": {},
     "output_type": "execute_result"
    },
    {
     "data": {
      "image/png": "[encoded data removed]",
      "text/plain": [
       "<matplotlib.figure.Figure at 0x7f171b62cd30>"
      ]
     },
     "metadata": {},
     "output_type": "display_data"
    }
   ],
   "source": [
    "subshp_Br.plot()"
   ]
  },
  {
   "cell_type": "code",
   "execution_count": 815,
   "metadata": {
    "scrolled": true
   },
   "outputs": [
    {
     "data": {
      "text/plain": [
       "<matplotlib.axes._subplots.AxesSubplot at 0x7f171b662fd0>"
      ]
     },
     "execution_count": 815,
     "metadata": {},
     "output_type": "execute_result"
    },
    {
     "data": {
      "image/png": "[encoded data removed]",
      "text/plain": [
       "<matplotlib.figure.Figure at 0x7f171b4db588>"
      ]
     },
     "metadata": {},
     "output_type": "display_data"
    }
   ],
   "source": [
    "citibikegpd_Br.plot()"
   ]
  },
  {
   "cell_type": "code",
   "execution_count": 823,
   "metadata": {},
   "outputs": [],
   "source": [
    "citibikegpd_Br2=citibikegpd_Br.drop('index_right', axis=1)"
   ]
  },
  {
   "cell_type": "code",
   "execution_count": 824,
   "metadata": {},
   "outputs": [],
   "source": [
    "subshp_Br2=subshp_Br.drop('index_right', axis=1)"
   ]
  },
  {
   "cell_type": "code",
   "execution_count": 807,
   "metadata": {},
   "outputs": [
    {
     "name": "stdout",
     "output_type": "stream",
     "text": [
      "ctszn.crs is  {'no_defs': True, 'init': 'epsg:2263'}  ; subshp.crs is  {'no_defs': True, 'init': 'epsg:2263'} \n",
      " citibikegpd.crs {'no_defs': True, 'init': 'epsg:2263'}\n"
     ]
    }
   ],
   "source": [
    "print(\"ctszn_Br.crs is \",ctszn_Br.crs,\" ; subshp_Br2.crs is \" , subshp.crs,\\\n",
    "      \"\\n citibikegpd_Br2.crs\",citibikegpd.crs)\n",
    "#ctszn.crs = from_epsg(4326)"
   ]
  },
  {
   "cell_type": "code",
   "execution_count": 825,
   "metadata": {},
   "outputs": [],
   "source": [
    "# ctszn_Br.to_crs(epsg=2263, inplace=True)\n",
    "# citibikegpd_Br.to_crs(epsg=2263, inplace=True)\n",
    "# subshp_Br.to_crs(epsg=2263, inplace=True)"
   ]
  },
  {
   "cell_type": "code",
   "execution_count": 916,
   "metadata": {},
   "outputs": [
    {
     "name": "stdout",
     "output_type": "stream",
     "text": [
      "subshp shape (169, 10) ctszn increased from (760, 13)  to  (169, 23)\n"
     ]
    }
   ],
   "source": [
    "CT_sub_Br = gpd.sjoin(ctszn_Br,subshp_Br2, op=\"contains\")\n",
    "print(\"subshp shape\",subshp_Br2.shape,\"ctszn increased from\", ctszn_Br.shape,\" to \", CT_sub_Br.shape)"
   ]
  },
  {
   "cell_type": "code",
   "execution_count": null,
   "metadata": {},
   "outputs": [],
   "source": []
  },
  {
   "cell_type": "code",
   "execution_count": 917,
   "metadata": {
    "scrolled": true
   },
   "outputs": [
    {
     "name": "stdout",
     "output_type": "stream",
     "text": [
      "citibikegpd shape (267, 13) ctszn increased from (760, 13)  to  (267, 26)\n"
     ]
    }
   ],
   "source": [
    "CT_citi_Br = gpd.sjoin(ctszn_Br, citibikegpd_Br2, op=\"contains\")\n",
    "print(\"citibikegpd shape\",citibikegpd_Br2.shape,\"ctszn increased from\", ctszn_Br.shape,\" to \", CT_citi_Br.shape)"
   ]
  },
  {
   "cell_type": "code",
   "execution_count": 918,
   "metadata": {
    "scrolled": false
   },
   "outputs": [
    {
     "data": {
      "text/plain": [
       "(970450.64396057092,\n",
       " 1025281.7114471457,\n",
       " 145700.66636040731,\n",
       " 211557.60103449671)"
      ]
     },
     "execution_count": 918,
     "metadata": {},
     "output_type": "execute_result"
    },
    {
     "data": {
      "image/png": "[encoded data removed]",
      "text/plain": [
       "<matplotlib.figure.Figure at 0x7f171b216630>"
      ]
     },
     "metadata": {},
     "output_type": "display_data"
    }
   ],
   "source": [
    "ax = CT_sub_Br.plot(cmap=\"viridis\",figsize=(10,10), legend=True)\n",
    "CT_citi_Br.plot(ax=ax, facecolor=None, edgecolor=\"k\")\n",
    "#citibikegpd_Br.plot(ax=ax)\n",
    "subshp_Br.plot(ax=ax)\n",
    "ax.axis('off')"
   ]
  },
  {
   "cell_type": "code",
   "execution_count": 919,
   "metadata": {},
   "outputs": [],
   "source": [
    "## Figure XXX. The Map above shows the neighborhoods with subway and citibike"
   ]
  },
  {
   "cell_type": "code",
   "execution_count": 920,
   "metadata": {},
   "outputs": [
    {
     "data": {
      "text/html": [
       "<div>\n",
       "<table border=\"1\" class=\"dataframe\">\n",
       "  <thead>\n",
       "    <tr style=\"text-align: right;\">\n",
       "      <th></th>\n",
       "      <th>BoroCT2010</th>\n",
       "      <th>BoroCode</th>\n",
       "      <th>BoroName</th>\n",
       "      <th>CDEligibil</th>\n",
       "      <th>CT2010</th>\n",
       "      <th>CTLabel</th>\n",
       "      <th>NTACode</th>\n",
       "      <th>NTAName</th>\n",
       "      <th>PUMA</th>\n",
       "      <th>Shape_Area</th>\n",
       "      <th>Shape_Leng</th>\n",
       "      <th>geometry</th>\n",
       "      <th>Borost</th>\n",
       "      <th>index_right</th>\n",
       "      <th>line</th>\n",
       "      <th>name</th>\n",
       "      <th>notes</th>\n",
       "      <th>objectid</th>\n",
       "      <th>url</th>\n",
       "      <th>boro_code</th>\n",
       "      <th>boro_name</th>\n",
       "      <th>shape_area</th>\n",
       "      <th>shape_leng</th>\n",
       "    </tr>\n",
       "  </thead>\n",
       "  <tbody>\n",
       "    <tr>\n",
       "      <th>53</th>\n",
       "      <td>501</td>\n",
       "      <td>3</td>\n",
       "      <td>Brooklyn</td>\n",
       "      <td>I</td>\n",
       "      <td>000501</td>\n",
       "      <td>5.01</td>\n",
       "      <td>BK09</td>\n",
       "      <td>Brooklyn Heights-Cobble Hill</td>\n",
       "      <td>4004</td>\n",
       "      <td>901506.992481</td>\n",
       "      <td>4828.170042</td>\n",
       "      <td>POLYGON ((986185.9869995115 193380.8801879325,...</td>\n",
       "      <td>000501</td>\n",
       "      <td>445</td>\n",
       "      <td>2-3</td>\n",
       "      <td>Clark St</td>\n",
       "      <td>2-all times, 3-all times exc nights</td>\n",
       "      <td>446.0</td>\n",
       "      <td>http://web.mta.info/nyct/service/</td>\n",
       "      <td>3.0</td>\n",
       "      <td>Brooklyn</td>\n",
       "      <td>1.937567e+09</td>\n",
       "      <td>739945.437431</td>\n",
       "    </tr>\n",
       "  </tbody>\n",
       "</table>\n",
       "</div>"
      ],
      "text/plain": [
       "    BoroCT2010 BoroCode  BoroName CDEligibil  CT2010 CTLabel NTACode  \\\n",
       "53         501        3  Brooklyn          I  000501    5.01    BK09   \n",
       "\n",
       "                         NTAName  PUMA     Shape_Area   Shape_Leng  \\\n",
       "53  Brooklyn Heights-Cobble Hill  4004  901506.992481  4828.170042   \n",
       "\n",
       "                                             geometry  Borost  index_right  \\\n",
       "53  POLYGON ((986185.9869995115 193380.8801879325,...  000501          445   \n",
       "\n",
       "   line      name                                notes  objectid  \\\n",
       "53  2-3  Clark St  2-all times, 3-all times exc nights     446.0   \n",
       "\n",
       "                                  url  boro_code boro_name    shape_area  \\\n",
       "53  http://web.mta.info/nyct/service/        3.0  Brooklyn  1.937567e+09   \n",
       "\n",
       "       shape_leng  \n",
       "53  739945.437431  "
      ]
     },
     "execution_count": 920,
     "metadata": {},
     "output_type": "execute_result"
    }
   ],
   "source": [
    "CT_sub_Br.head(1)"
   ]
  },
  {
   "cell_type": "code",
   "execution_count": 921,
   "metadata": {},
   "outputs": [
    {
     "data": {
      "text/html": [
       "<div>\n",
       "<table border=\"1\" class=\"dataframe\">\n",
       "  <thead>\n",
       "    <tr style=\"text-align: right;\">\n",
       "      <th></th>\n",
       "      <th>BoroCT2010</th>\n",
       "      <th>BoroCode</th>\n",
       "      <th>BoroName</th>\n",
       "      <th>CDEligibil</th>\n",
       "      <th>CT2010</th>\n",
       "      <th>CTLabel</th>\n",
       "      <th>NTACode</th>\n",
       "      <th>NTAName</th>\n",
       "      <th>PUMA</th>\n",
       "      <th>Shape_Area</th>\n",
       "      <th>Shape_Leng</th>\n",
       "      <th>geometry</th>\n",
       "      <th>Borost</th>\n",
       "      <th>index_right</th>\n",
       "      <th>capacity</th>\n",
       "      <th>lat</th>\n",
       "      <th>lon</th>\n",
       "      <th>name</th>\n",
       "      <th>short_name</th>\n",
       "      <th>station_id</th>\n",
       "      <th>latlon</th>\n",
       "      <th>lonlat</th>\n",
       "      <th>boro_code</th>\n",
       "      <th>boro_name</th>\n",
       "      <th>shape_area</th>\n",
       "      <th>shape_leng</th>\n",
       "    </tr>\n",
       "  </thead>\n",
       "  <tbody>\n",
       "    <tr>\n",
       "      <th>53</th>\n",
       "      <td>501</td>\n",
       "      <td>3</td>\n",
       "      <td>Brooklyn</td>\n",
       "      <td>I</td>\n",
       "      <td>000501</td>\n",
       "      <td>5.01</td>\n",
       "      <td>BK09</td>\n",
       "      <td>Brooklyn Heights-Cobble Hill</td>\n",
       "      <td>4004</td>\n",
       "      <td>901506.992481</td>\n",
       "      <td>4828.170042</td>\n",
       "      <td>POLYGON ((986185.9869995115 193380.8801879325,...</td>\n",
       "      <td>000501</td>\n",
       "      <td>148</td>\n",
       "      <td>31</td>\n",
       "      <td>40.697601</td>\n",
       "      <td>-73.993446</td>\n",
       "      <td>Clark St &amp; Henry St</td>\n",
       "      <td>4789.03</td>\n",
       "      <td>391</td>\n",
       "      <td>(-73.99344559, 40.69760127)</td>\n",
       "      <td>(-73.99344559, 40.69760127)</td>\n",
       "      <td>3.0</td>\n",
       "      <td>Brooklyn</td>\n",
       "      <td>1.937567e+09</td>\n",
       "      <td>739945.437431</td>\n",
       "    </tr>\n",
       "  </tbody>\n",
       "</table>\n",
       "</div>"
      ],
      "text/plain": [
       "    BoroCT2010 BoroCode  BoroName CDEligibil  CT2010 CTLabel NTACode  \\\n",
       "53         501        3  Brooklyn          I  000501    5.01    BK09   \n",
       "\n",
       "                         NTAName  PUMA     Shape_Area   Shape_Leng  \\\n",
       "53  Brooklyn Heights-Cobble Hill  4004  901506.992481  4828.170042   \n",
       "\n",
       "                                             geometry  Borost  index_right  \\\n",
       "53  POLYGON ((986185.9869995115 193380.8801879325,...  000501          148   \n",
       "\n",
       "    capacity        lat        lon                 name short_name  \\\n",
       "53        31  40.697601 -73.993446  Clark St & Henry St    4789.03   \n",
       "\n",
       "    station_id                       latlon                       lonlat  \\\n",
       "53         391  (-73.99344559, 40.69760127)  (-73.99344559, 40.69760127)   \n",
       "\n",
       "    boro_code boro_name    shape_area     shape_leng  \n",
       "53        3.0  Brooklyn  1.937567e+09  739945.437431  "
      ]
     },
     "execution_count": 921,
     "metadata": {},
     "output_type": "execute_result"
    }
   ],
   "source": [
    "CT_citi_Br.head(1)"
   ]
  },
  {
   "cell_type": "code",
   "execution_count": 930,
   "metadata": {},
   "outputs": [],
   "source": [
    "CT_sub_Br1 = CT_sub_Br[['BoroCT2010','objectid']]"
   ]
  },
  {
   "cell_type": "code",
   "execution_count": 931,
   "metadata": {},
   "outputs": [
    {
     "name": "stdout",
     "output_type": "stream",
     "text": [
      "CT_citi_Br shape (267, 26) CT_citi_Br increased from (407, 27)  to  (407, 27)\n"
     ]
    }
   ],
   "source": [
    "CT_INTERSECTION_C = CT_citi_Br.merge(CT_sub_Br1, on='BoroCT2010',how='outer')\n",
    "print(\"CT_citi_Br shape\",CT_citi_Br.shape,\"CT_citi_Br increased from\", CT_INTERSECTION_C.shape,\" to \", CT_INTERSECTION_C.shape)"
   ]
  },
  {
   "cell_type": "code",
   "execution_count": 950,
   "metadata": {},
   "outputs": [
    {
     "data": {
      "text/html": [
       "<div>\n",
       "<table border=\"1\" class=\"dataframe\">\n",
       "  <thead>\n",
       "    <tr style=\"text-align: right;\">\n",
       "      <th></th>\n",
       "      <th>BoroCT2010</th>\n",
       "      <th>BoroCode</th>\n",
       "      <th>BoroName</th>\n",
       "      <th>CDEligibil</th>\n",
       "      <th>CT2010</th>\n",
       "      <th>CTLabel</th>\n",
       "      <th>NTACode</th>\n",
       "      <th>NTAName</th>\n",
       "      <th>PUMA</th>\n",
       "      <th>Shape_Area</th>\n",
       "      <th>Shape_Leng</th>\n",
       "      <th>geometry</th>\n",
       "      <th>Borost</th>\n",
       "      <th>index_right</th>\n",
       "      <th>capacity</th>\n",
       "      <th>lat</th>\n",
       "      <th>lon</th>\n",
       "      <th>name</th>\n",
       "      <th>short_name</th>\n",
       "      <th>station_id</th>\n",
       "      <th>latlon</th>\n",
       "      <th>lonlat</th>\n",
       "      <th>boro_code</th>\n",
       "      <th>boro_name</th>\n",
       "      <th>shape_area</th>\n",
       "      <th>shape_leng</th>\n",
       "      <th>objectid</th>\n",
       "    </tr>\n",
       "  </thead>\n",
       "  <tbody>\n",
       "    <tr>\n",
       "      <th>0</th>\n",
       "      <td>501.0</td>\n",
       "      <td>3</td>\n",
       "      <td>Brooklyn</td>\n",
       "      <td>I</td>\n",
       "      <td>000501</td>\n",
       "      <td>5.01</td>\n",
       "      <td>BK09</td>\n",
       "      <td>Brooklyn Heights-Cobble Hill</td>\n",
       "      <td>4004</td>\n",
       "      <td>9.015070e+05</td>\n",
       "      <td>4828.170042</td>\n",
       "      <td>POLYGON ((986185.9869995115 193380.8801879325,...</td>\n",
       "      <td>000501</td>\n",
       "      <td>148.0</td>\n",
       "      <td>31.0</td>\n",
       "      <td>40.697601</td>\n",
       "      <td>-73.993446</td>\n",
       "      <td>Clark St &amp; Henry St</td>\n",
       "      <td>4789.03</td>\n",
       "      <td>391.0</td>\n",
       "      <td>(-73.99344559, 40.69760127)</td>\n",
       "      <td>(-73.99344559, 40.69760127)</td>\n",
       "      <td>3.0</td>\n",
       "      <td>Brooklyn</td>\n",
       "      <td>1.937567e+09</td>\n",
       "      <td>739945.437431</td>\n",
       "      <td>446.0</td>\n",
       "    </tr>\n",
       "    <tr>\n",
       "      <th>1</th>\n",
       "      <td>4100.0</td>\n",
       "      <td>3</td>\n",
       "      <td>Brooklyn</td>\n",
       "      <td>I</td>\n",
       "      <td>004100</td>\n",
       "      <td>41</td>\n",
       "      <td>BK38</td>\n",
       "      <td>DUMBO-Vinegar Hill-Downtown Brooklyn-Boerum Hill</td>\n",
       "      <td>4004</td>\n",
       "      <td>1.744094e+06</td>\n",
       "      <td>5283.856660</td>\n",
       "      <td>POLYGON ((989292.8179931643 189689.73638911, 9...</td>\n",
       "      <td>004100</td>\n",
       "      <td>584.0</td>\n",
       "      <td>31.0</td>\n",
       "      <td>40.686444</td>\n",
       "      <td>-73.987591</td>\n",
       "      <td>Dean St &amp; Hoyt St</td>\n",
       "      <td>4446.05</td>\n",
       "      <td>3410.0</td>\n",
       "      <td>(-73.98759104, 40.6864442)</td>\n",
       "      <td>(-73.98759104, 40.6864442)</td>\n",
       "      <td>3.0</td>\n",
       "      <td>Brooklyn</td>\n",
       "      <td>1.937567e+09</td>\n",
       "      <td>739945.437431</td>\n",
       "      <td>367.0</td>\n",
       "    </tr>\n",
       "    <tr>\n",
       "      <th>2</th>\n",
       "      <td>6500.0</td>\n",
       "      <td>3</td>\n",
       "      <td>Brooklyn</td>\n",
       "      <td>I</td>\n",
       "      <td>006500</td>\n",
       "      <td>65</td>\n",
       "      <td>BK33</td>\n",
       "      <td>Carroll Gardens-Columbia Street-Red Hook</td>\n",
       "      <td>4005</td>\n",
       "      <td>2.685634e+06</td>\n",
       "      <td>7861.136622</td>\n",
       "      <td>POLYGON ((985301.6088256796 187646.6696166366,...</td>\n",
       "      <td>006500</td>\n",
       "      <td>571.0</td>\n",
       "      <td>25.0</td>\n",
       "      <td>40.678356</td>\n",
       "      <td>-74.000145</td>\n",
       "      <td>Clinton St &amp; 4 Place</td>\n",
       "      <td>4119.04</td>\n",
       "      <td>3396.0</td>\n",
       "      <td>(-74.00014502, 40.6783563)</td>\n",
       "      <td>(-74.00014502, 40.6783563)</td>\n",
       "      <td>3.0</td>\n",
       "      <td>Brooklyn</td>\n",
       "      <td>1.937567e+09</td>\n",
       "      <td>739945.437431</td>\n",
       "      <td>NaN</td>\n",
       "    </tr>\n",
       "    <tr>\n",
       "      <th>3</th>\n",
       "      <td>6500.0</td>\n",
       "      <td>3</td>\n",
       "      <td>Brooklyn</td>\n",
       "      <td>I</td>\n",
       "      <td>006500</td>\n",
       "      <td>65</td>\n",
       "      <td>BK33</td>\n",
       "      <td>Carroll Gardens-Columbia Street-Red Hook</td>\n",
       "      <td>4005</td>\n",
       "      <td>2.685634e+06</td>\n",
       "      <td>7861.136622</td>\n",
       "      <td>POLYGON ((985301.6088256796 187646.6696166366,...</td>\n",
       "      <td>006500</td>\n",
       "      <td>562.0</td>\n",
       "      <td>27.0</td>\n",
       "      <td>40.680959</td>\n",
       "      <td>-73.999057</td>\n",
       "      <td>1 Pl &amp; Clinton St</td>\n",
       "      <td>4193.14</td>\n",
       "      <td>3386.0</td>\n",
       "      <td>(-73.99905709, 40.6809591)</td>\n",
       "      <td>(-73.99905709, 40.6809591)</td>\n",
       "      <td>3.0</td>\n",
       "      <td>Brooklyn</td>\n",
       "      <td>1.937567e+09</td>\n",
       "      <td>739945.437431</td>\n",
       "      <td>NaN</td>\n",
       "    </tr>\n",
       "    <tr>\n",
       "      <th>4</th>\n",
       "      <td>6700.0</td>\n",
       "      <td>3</td>\n",
       "      <td>Brooklyn</td>\n",
       "      <td>I</td>\n",
       "      <td>006700</td>\n",
       "      <td>67</td>\n",
       "      <td>BK33</td>\n",
       "      <td>Carroll Gardens-Columbia Street-Red Hook</td>\n",
       "      <td>4005</td>\n",
       "      <td>1.680804e+06</td>\n",
       "      <td>5236.047804</td>\n",
       "      <td>POLYGON ((985800.8859863287 189005.3049926201,...</td>\n",
       "      <td>006700</td>\n",
       "      <td>564.0</td>\n",
       "      <td>25.0</td>\n",
       "      <td>40.682800</td>\n",
       "      <td>-73.999904</td>\n",
       "      <td>President St &amp; Henry St</td>\n",
       "      <td>4307.13</td>\n",
       "      <td>3388.0</td>\n",
       "      <td>(-73.99990419, 40.6828003)</td>\n",
       "      <td>(-73.99990419, 40.6828003)</td>\n",
       "      <td>3.0</td>\n",
       "      <td>Brooklyn</td>\n",
       "      <td>1.937567e+09</td>\n",
       "      <td>739945.437431</td>\n",
       "      <td>NaN</td>\n",
       "    </tr>\n",
       "    <tr>\n",
       "      <th>5</th>\n",
       "      <td>6700.0</td>\n",
       "      <td>3</td>\n",
       "      <td>Brooklyn</td>\n",
       "      <td>I</td>\n",
       "      <td>006700</td>\n",
       "      <td>67</td>\n",
       "      <td>BK33</td>\n",
       "      <td>Carroll Gardens-Columbia Street-Red Hook</td>\n",
       "      <td>4005</td>\n",
       "      <td>1.680804e+06</td>\n",
       "      <td>5236.047804</td>\n",
       "      <td>POLYGON ((985800.8859863287 189005.3049926201,...</td>\n",
       "      <td>006700</td>\n",
       "      <td>502.0</td>\n",
       "      <td>25.0</td>\n",
       "      <td>40.683116</td>\n",
       "      <td>-73.997853</td>\n",
       "      <td>Clinton St &amp; Union St</td>\n",
       "      <td>4266.03</td>\n",
       "      <td>3321.0</td>\n",
       "      <td>(-73.99785267, 40.6831164)</td>\n",
       "      <td>(-73.99785267, 40.6831164)</td>\n",
       "      <td>3.0</td>\n",
       "      <td>Brooklyn</td>\n",
       "      <td>1.937567e+09</td>\n",
       "      <td>739945.437431</td>\n",
       "      <td>NaN</td>\n",
       "    </tr>\n",
       "    <tr>\n",
       "      <th>6</th>\n",
       "      <td>6900.0</td>\n",
       "      <td>3</td>\n",
       "      <td>Brooklyn</td>\n",
       "      <td>I</td>\n",
       "      <td>006900</td>\n",
       "      <td>69</td>\n",
       "      <td>BK38</td>\n",
       "      <td>DUMBO-Vinegar Hill-Downtown Brooklyn-Boerum Hill</td>\n",
       "      <td>4004</td>\n",
       "      <td>1.927678e+06</td>\n",
       "      <td>5563.971321</td>\n",
       "      <td>POLYGON ((987497.9329833998 189157.106201112, ...</td>\n",
       "      <td>006900</td>\n",
       "      <td>485.0</td>\n",
       "      <td>25.0</td>\n",
       "      <td>40.684989</td>\n",
       "      <td>-73.994403</td>\n",
       "      <td>Butler St &amp; Court St</td>\n",
       "      <td>4339.01</td>\n",
       "      <td>3303.0</td>\n",
       "      <td>(-73.99440329, 40.6849894)</td>\n",
       "      <td>(-73.99440329, 40.6849894)</td>\n",
       "      <td>3.0</td>\n",
       "      <td>Brooklyn</td>\n",
       "      <td>1.937567e+09</td>\n",
       "      <td>739945.437431</td>\n",
       "      <td>376.0</td>\n",
       "    </tr>\n",
       "    <tr>\n",
       "      <th>7</th>\n",
       "      <td>6900.0</td>\n",
       "      <td>3</td>\n",
       "      <td>Brooklyn</td>\n",
       "      <td>I</td>\n",
       "      <td>006900</td>\n",
       "      <td>69</td>\n",
       "      <td>BK38</td>\n",
       "      <td>DUMBO-Vinegar Hill-Downtown Brooklyn-Boerum Hill</td>\n",
       "      <td>4004</td>\n",
       "      <td>1.927678e+06</td>\n",
       "      <td>5563.971321</td>\n",
       "      <td>POLYGON ((987497.9329833998 189157.106201112, ...</td>\n",
       "      <td>006900</td>\n",
       "      <td>480.0</td>\n",
       "      <td>23.0</td>\n",
       "      <td>40.686371</td>\n",
       "      <td>-73.993833</td>\n",
       "      <td>Warren St &amp; Court St</td>\n",
       "      <td>4413.08</td>\n",
       "      <td>3298.0</td>\n",
       "      <td>(-73.99383324, 40.686371)</td>\n",
       "      <td>(-73.99383324, 40.686371)</td>\n",
       "      <td>3.0</td>\n",
       "      <td>Brooklyn</td>\n",
       "      <td>1.937567e+09</td>\n",
       "      <td>739945.437431</td>\n",
       "      <td>376.0</td>\n",
       "    </tr>\n",
       "    <tr>\n",
       "      <th>8</th>\n",
       "      <td>6900.0</td>\n",
       "      <td>3</td>\n",
       "      <td>Brooklyn</td>\n",
       "      <td>I</td>\n",
       "      <td>006900</td>\n",
       "      <td>69</td>\n",
       "      <td>BK38</td>\n",
       "      <td>DUMBO-Vinegar Hill-Downtown Brooklyn-Boerum Hill</td>\n",
       "      <td>4004</td>\n",
       "      <td>1.927678e+06</td>\n",
       "      <td>5563.971321</td>\n",
       "      <td>POLYGON ((987497.9329833998 189157.106201112, ...</td>\n",
       "      <td>006900</td>\n",
       "      <td>583.0</td>\n",
       "      <td>35.0</td>\n",
       "      <td>40.686744</td>\n",
       "      <td>-73.990632</td>\n",
       "      <td>Bergen St &amp; Smith St</td>\n",
       "      <td>4446.01</td>\n",
       "      <td>3409.0</td>\n",
       "      <td>(-73.99063168, 40.6867443)</td>\n",
       "      <td>(-73.99063168, 40.6867443)</td>\n",
       "      <td>3.0</td>\n",
       "      <td>Brooklyn</td>\n",
       "      <td>1.937567e+09</td>\n",
       "      <td>739945.437431</td>\n",
       "      <td>376.0</td>\n",
       "    </tr>\n",
       "    <tr>\n",
       "      <th>9</th>\n",
       "      <td>11700.0</td>\n",
       "      <td>3</td>\n",
       "      <td>Brooklyn</td>\n",
       "      <td>I</td>\n",
       "      <td>011700</td>\n",
       "      <td>117</td>\n",
       "      <td>BK37</td>\n",
       "      <td>Park Slope-Gowanus</td>\n",
       "      <td>4005</td>\n",
       "      <td>2.162689e+06</td>\n",
       "      <td>5828.220774</td>\n",
       "      <td>POLYGON ((987101.2015991226 183065.1566161501,...</td>\n",
       "      <td>011700</td>\n",
       "      <td>505.0</td>\n",
       "      <td>25.0</td>\n",
       "      <td>40.668546</td>\n",
       "      <td>-73.993333</td>\n",
       "      <td>3 Ave &amp; 14 St</td>\n",
       "      <td>3850.03</td>\n",
       "      <td>3324.0</td>\n",
       "      <td>(-73.99333264, 40.6685455)</td>\n",
       "      <td>(-73.99333264, 40.6685455)</td>\n",
       "      <td>3.0</td>\n",
       "      <td>Brooklyn</td>\n",
       "      <td>1.937567e+09</td>\n",
       "      <td>739945.437431</td>\n",
       "      <td>NaN</td>\n",
       "    </tr>\n",
       "    <tr>\n",
       "      <th>10</th>\n",
       "      <td>11700.0</td>\n",
       "      <td>3</td>\n",
       "      <td>Brooklyn</td>\n",
       "      <td>I</td>\n",
       "      <td>011700</td>\n",
       "      <td>117</td>\n",
       "      <td>BK37</td>\n",
       "      <td>Park Slope-Gowanus</td>\n",
       "      <td>4005</td>\n",
       "      <td>2.162689e+06</td>\n",
       "      <td>5828.220774</td>\n",
       "      <td>POLYGON ((987101.2015991226 183065.1566161501,...</td>\n",
       "      <td>011700</td>\n",
       "      <td>503.0</td>\n",
       "      <td>25.0</td>\n",
       "      <td>40.668603</td>\n",
       "      <td>-73.990439</td>\n",
       "      <td>12 St &amp; 4 Ave</td>\n",
       "      <td>3882.01</td>\n",
       "      <td>3322.0</td>\n",
       "      <td>(-73.9904394, 40.668603)</td>\n",
       "      <td>(-73.9904394, 40.668603)</td>\n",
       "      <td>3.0</td>\n",
       "      <td>Brooklyn</td>\n",
       "      <td>1.937567e+09</td>\n",
       "      <td>739945.437431</td>\n",
       "      <td>NaN</td>\n",
       "    </tr>\n",
       "    <tr>\n",
       "      <th>11</th>\n",
       "      <td>12100.0</td>\n",
       "      <td>3</td>\n",
       "      <td>Brooklyn</td>\n",
       "      <td>I</td>\n",
       "      <td>012100</td>\n",
       "      <td>121</td>\n",
       "      <td>BK37</td>\n",
       "      <td>Park Slope-Gowanus</td>\n",
       "      <td>4005</td>\n",
       "      <td>1.593259e+06</td>\n",
       "      <td>5142.255127</td>\n",
       "      <td>POLYGON ((987657.6373901374 183942.3757933954,...</td>\n",
       "      <td>012100</td>\n",
       "      <td>578.0</td>\n",
       "      <td>31.0</td>\n",
       "      <td>40.670513</td>\n",
       "      <td>-73.988766</td>\n",
       "      <td>4 Ave &amp; 9 St</td>\n",
       "      <td>3955.05</td>\n",
       "      <td>3403.0</td>\n",
       "      <td>(-73.98876585, 40.6705135)</td>\n",
       "      <td>(-73.98876585, 40.6705135)</td>\n",
       "      <td>3.0</td>\n",
       "      <td>Brooklyn</td>\n",
       "      <td>1.937567e+09</td>\n",
       "      <td>739945.437431</td>\n",
       "      <td>374.0</td>\n",
       "    </tr>\n",
       "    <tr>\n",
       "      <th>12</th>\n",
       "      <td>12100.0</td>\n",
       "      <td>3</td>\n",
       "      <td>Brooklyn</td>\n",
       "      <td>I</td>\n",
       "      <td>012100</td>\n",
       "      <td>121</td>\n",
       "      <td>BK37</td>\n",
       "      <td>Park Slope-Gowanus</td>\n",
       "      <td>4005</td>\n",
       "      <td>1.593259e+06</td>\n",
       "      <td>5142.255127</td>\n",
       "      <td>POLYGON ((987657.6373901374 183942.3757933954,...</td>\n",
       "      <td>012100</td>\n",
       "      <td>576.0</td>\n",
       "      <td>19.0</td>\n",
       "      <td>40.672481</td>\n",
       "      <td>-73.993314</td>\n",
       "      <td>2 Ave &amp; 9 St</td>\n",
       "      <td>3996.04</td>\n",
       "      <td>3401.0</td>\n",
       "      <td>(-73.99331394, 40.6724811)</td>\n",
       "      <td>(-73.99331394, 40.6724811)</td>\n",
       "      <td>3.0</td>\n",
       "      <td>Brooklyn</td>\n",
       "      <td>1.937567e+09</td>\n",
       "      <td>739945.437431</td>\n",
       "      <td>374.0</td>\n",
       "    </tr>\n",
       "    <tr>\n",
       "      <th>13</th>\n",
       "      <td>13300.0</td>\n",
       "      <td>3</td>\n",
       "      <td>Brooklyn</td>\n",
       "      <td>I</td>\n",
       "      <td>013300</td>\n",
       "      <td>133</td>\n",
       "      <td>BK37</td>\n",
       "      <td>Park Slope-Gowanus</td>\n",
       "      <td>4005</td>\n",
       "      <td>1.596011e+06</td>\n",
       "      <td>5175.703270</td>\n",
       "      <td>POLYGON ((990363.5209960934 185357.4616088294,...</td>\n",
       "      <td>013300</td>\n",
       "      <td>542.0</td>\n",
       "      <td>27.0</td>\n",
       "      <td>40.675162</td>\n",
       "      <td>-73.981483</td>\n",
       "      <td>Carroll St &amp; 5 Ave</td>\n",
       "      <td>4060.09</td>\n",
       "      <td>3364.0</td>\n",
       "      <td>(-73.9814832, 40.6751622)</td>\n",
       "      <td>(-73.9814832, 40.6751622)</td>\n",
       "      <td>3.0</td>\n",
       "      <td>Brooklyn</td>\n",
       "      <td>1.937567e+09</td>\n",
       "      <td>739945.437431</td>\n",
       "      <td>NaN</td>\n",
       "    </tr>\n",
       "    <tr>\n",
       "      <th>14</th>\n",
       "      <td>13300.0</td>\n",
       "      <td>3</td>\n",
       "      <td>Brooklyn</td>\n",
       "      <td>I</td>\n",
       "      <td>013300</td>\n",
       "      <td>133</td>\n",
       "      <td>BK37</td>\n",
       "      <td>Park Slope-Gowanus</td>\n",
       "      <td>4005</td>\n",
       "      <td>1.596011e+06</td>\n",
       "      <td>5175.703270</td>\n",
       "      <td>POLYGON ((990363.5209960934 185357.4616088294,...</td>\n",
       "      <td>013300</td>\n",
       "      <td>514.0</td>\n",
       "      <td>28.0</td>\n",
       "      <td>40.677274</td>\n",
       "      <td>-73.982820</td>\n",
       "      <td>Union St &amp; 4 Ave</td>\n",
       "      <td>4175.15</td>\n",
       "      <td>3335.0</td>\n",
       "      <td>(-73.98282002, 40.6772744)</td>\n",
       "      <td>(-73.98282002, 40.6772744)</td>\n",
       "      <td>3.0</td>\n",
       "      <td>Brooklyn</td>\n",
       "      <td>1.937567e+09</td>\n",
       "      <td>739945.437431</td>\n",
       "      <td>NaN</td>\n",
       "    </tr>\n",
       "    <tr>\n",
       "      <th>15</th>\n",
       "      <td>13700.0</td>\n",
       "      <td>3</td>\n",
       "      <td>Brooklyn</td>\n",
       "      <td>I</td>\n",
       "      <td>013700</td>\n",
       "      <td>137</td>\n",
       "      <td>BK37</td>\n",
       "      <td>Park Slope-Gowanus</td>\n",
       "      <td>4005</td>\n",
       "      <td>1.638366e+06</td>\n",
       "      <td>5226.631819</td>\n",
       "      <td>POLYGON ((989263.5462036132 183539.4371947696,...</td>\n",
       "      <td>013700</td>\n",
       "      <td>580.0</td>\n",
       "      <td>23.0</td>\n",
       "      <td>40.670484</td>\n",
       "      <td>-73.982090</td>\n",
       "      <td>5 St &amp; 6 Ave</td>\n",
       "      <td>3874.01</td>\n",
       "      <td>3405.0</td>\n",
       "      <td>(-73.98208968, 40.6704836)</td>\n",
       "      <td>(-73.98208968, 40.6704836)</td>\n",
       "      <td>3.0</td>\n",
       "      <td>Brooklyn</td>\n",
       "      <td>1.937567e+09</td>\n",
       "      <td>739945.437431</td>\n",
       "      <td>382.0</td>\n",
       "    </tr>\n",
       "    <tr>\n",
       "      <th>16</th>\n",
       "      <td>13700.0</td>\n",
       "      <td>3</td>\n",
       "      <td>Brooklyn</td>\n",
       "      <td>I</td>\n",
       "      <td>013700</td>\n",
       "      <td>137</td>\n",
       "      <td>BK37</td>\n",
       "      <td>Park Slope-Gowanus</td>\n",
       "      <td>4005</td>\n",
       "      <td>1.638366e+06</td>\n",
       "      <td>5226.631819</td>\n",
       "      <td>POLYGON ((989263.5462036132 183539.4371947696,...</td>\n",
       "      <td>013700</td>\n",
       "      <td>579.0</td>\n",
       "      <td>27.0</td>\n",
       "      <td>40.670492</td>\n",
       "      <td>-73.985417</td>\n",
       "      <td>7 St &amp; 5 Ave</td>\n",
       "      <td>3914.02</td>\n",
       "      <td>3404.0</td>\n",
       "      <td>(-73.98541675, 40.6704922)</td>\n",
       "      <td>(-73.98541675, 40.6704922)</td>\n",
       "      <td>3.0</td>\n",
       "      <td>Brooklyn</td>\n",
       "      <td>1.937567e+09</td>\n",
       "      <td>739945.437431</td>\n",
       "      <td>382.0</td>\n",
       "    </tr>\n",
       "    <tr>\n",
       "      <th>17</th>\n",
       "      <td>13900.0</td>\n",
       "      <td>3</td>\n",
       "      <td>Brooklyn</td>\n",
       "      <td>E</td>\n",
       "      <td>013900</td>\n",
       "      <td>139</td>\n",
       "      <td>BK37</td>\n",
       "      <td>Park Slope-Gowanus</td>\n",
       "      <td>4005</td>\n",
       "      <td>1.631337e+06</td>\n",
       "      <td>5219.680479</td>\n",
       "      <td>POLYGON ((988704.4266357425 182658.4446410487,...</td>\n",
       "      <td>013900</td>\n",
       "      <td>495.0</td>\n",
       "      <td>29.0</td>\n",
       "      <td>40.666318</td>\n",
       "      <td>-73.985462</td>\n",
       "      <td>6 Ave &amp; 12 St</td>\n",
       "      <td>3803.05</td>\n",
       "      <td>3313.0</td>\n",
       "      <td>(-73.9854617, 40.6663181)</td>\n",
       "      <td>(-73.9854617, 40.6663181)</td>\n",
       "      <td>3.0</td>\n",
       "      <td>Brooklyn</td>\n",
       "      <td>1.937567e+09</td>\n",
       "      <td>739945.437431</td>\n",
       "      <td>NaN</td>\n",
       "    </tr>\n",
       "    <tr>\n",
       "      <th>18</th>\n",
       "      <td>13900.0</td>\n",
       "      <td>3</td>\n",
       "      <td>Brooklyn</td>\n",
       "      <td>E</td>\n",
       "      <td>013900</td>\n",
       "      <td>139</td>\n",
       "      <td>BK37</td>\n",
       "      <td>Park Slope-Gowanus</td>\n",
       "      <td>4005</td>\n",
       "      <td>1.631337e+06</td>\n",
       "      <td>5219.680479</td>\n",
       "      <td>POLYGON ((988704.4266357425 182658.4446410487,...</td>\n",
       "      <td>013900</td>\n",
       "      <td>498.0</td>\n",
       "      <td>24.0</td>\n",
       "      <td>40.668627</td>\n",
       "      <td>-73.987001</td>\n",
       "      <td>10 St &amp; 5 Ave</td>\n",
       "      <td>3842.08</td>\n",
       "      <td>3317.0</td>\n",
       "      <td>(-73.98700053, 40.6686273)</td>\n",
       "      <td>(-73.98700053, 40.6686273)</td>\n",
       "      <td>3.0</td>\n",
       "      <td>Brooklyn</td>\n",
       "      <td>1.937567e+09</td>\n",
       "      <td>739945.437431</td>\n",
       "      <td>NaN</td>\n",
       "    </tr>\n",
       "    <tr>\n",
       "      <th>19</th>\n",
       "      <td>15100.0</td>\n",
       "      <td>3</td>\n",
       "      <td>Brooklyn</td>\n",
       "      <td>I</td>\n",
       "      <td>015100</td>\n",
       "      <td>151</td>\n",
       "      <td>BK37</td>\n",
       "      <td>Park Slope-Gowanus</td>\n",
       "      <td>4005</td>\n",
       "      <td>1.607114e+06</td>\n",
       "      <td>5175.221646</td>\n",
       "      <td>POLYGON ((990013.4956054706 181827.5440062927,...</td>\n",
       "      <td>015100</td>\n",
       "      <td>488.0</td>\n",
       "      <td>23.0</td>\n",
       "      <td>40.666208</td>\n",
       "      <td>-73.981999</td>\n",
       "      <td>10 St &amp; 7 Ave</td>\n",
       "      <td>3762.08</td>\n",
       "      <td>3306.0</td>\n",
       "      <td>(-73.98199886, 40.6662078)</td>\n",
       "      <td>(-73.98199886, 40.6662078)</td>\n",
       "      <td>3.0</td>\n",
       "      <td>Brooklyn</td>\n",
       "      <td>1.937567e+09</td>\n",
       "      <td>739945.437431</td>\n",
       "      <td>108.0</td>\n",
       "    </tr>\n",
       "    <tr>\n",
       "      <th>20</th>\n",
       "      <td>15300.0</td>\n",
       "      <td>3</td>\n",
       "      <td>Brooklyn</td>\n",
       "      <td>I</td>\n",
       "      <td>015300</td>\n",
       "      <td>153</td>\n",
       "      <td>BK37</td>\n",
       "      <td>Park Slope-Gowanus</td>\n",
       "      <td>4005</td>\n",
       "      <td>1.619490e+06</td>\n",
       "      <td>5188.381441</td>\n",
       "      <td>POLYGON ((990572.8842163089 182708.8712157585,...</td>\n",
       "      <td>015300</td>\n",
       "      <td>486.0</td>\n",
       "      <td>27.0</td>\n",
       "      <td>40.668127</td>\n",
       "      <td>-73.983776</td>\n",
       "      <td>6 Ave &amp; 9 St</td>\n",
       "      <td>3803.09</td>\n",
       "      <td>3304.0</td>\n",
       "      <td>(-73.98377641, 40.668127)</td>\n",
       "      <td>(-73.98377641, 40.668127)</td>\n",
       "      <td>3.0</td>\n",
       "      <td>Brooklyn</td>\n",
       "      <td>1.937567e+09</td>\n",
       "      <td>739945.437431</td>\n",
       "      <td>NaN</td>\n",
       "    </tr>\n",
       "    <tr>\n",
       "      <th>21</th>\n",
       "      <td>15300.0</td>\n",
       "      <td>3</td>\n",
       "      <td>Brooklyn</td>\n",
       "      <td>I</td>\n",
       "      <td>015300</td>\n",
       "      <td>153</td>\n",
       "      <td>BK37</td>\n",
       "      <td>Park Slope-Gowanus</td>\n",
       "      <td>4005</td>\n",
       "      <td>1.619490e+06</td>\n",
       "      <td>5188.381441</td>\n",
       "      <td>POLYGON ((990572.8842163089 182708.8712157585,...</td>\n",
       "      <td>015300</td>\n",
       "      <td>479.0</td>\n",
       "      <td>21.0</td>\n",
       "      <td>40.668663</td>\n",
       "      <td>-73.979881</td>\n",
       "      <td>6 St &amp; 7 Ave</td>\n",
       "      <td>3834.10</td>\n",
       "      <td>3297.0</td>\n",
       "      <td>(-73.97988067, 40.6686627)</td>\n",
       "      <td>(-73.97988067, 40.6686627)</td>\n",
       "      <td>3.0</td>\n",
       "      <td>Brooklyn</td>\n",
       "      <td>1.937567e+09</td>\n",
       "      <td>739945.437431</td>\n",
       "      <td>NaN</td>\n",
       "    </tr>\n",
       "    <tr>\n",
       "      <th>22</th>\n",
       "      <td>15500.0</td>\n",
       "      <td>3</td>\n",
       "      <td>Brooklyn</td>\n",
       "      <td>I</td>\n",
       "      <td>015500</td>\n",
       "      <td>155</td>\n",
       "      <td>BK37</td>\n",
       "      <td>Park Slope-Gowanus</td>\n",
       "      <td>4005</td>\n",
       "      <td>1.610815e+06</td>\n",
       "      <td>5181.351516</td>\n",
       "      <td>POLYGON ((991130.6619873033 183586.3461913434,...</td>\n",
       "      <td>015500</td>\n",
       "      <td>543.0</td>\n",
       "      <td>27.0</td>\n",
       "      <td>40.670384</td>\n",
       "      <td>-73.978397</td>\n",
       "      <td>3 St &amp; 7 Ave</td>\n",
       "      <td>3905.15</td>\n",
       "      <td>3365.0</td>\n",
       "      <td>(-73.97839676, 40.6703837)</td>\n",
       "      <td>(-73.97839676, 40.6703837)</td>\n",
       "      <td>3.0</td>\n",
       "      <td>Brooklyn</td>\n",
       "      <td>1.937567e+09</td>\n",
       "      <td>739945.437431</td>\n",
       "      <td>NaN</td>\n",
       "    </tr>\n",
       "    <tr>\n",
       "      <th>23</th>\n",
       "      <td>15700.0</td>\n",
       "      <td>3</td>\n",
       "      <td>Brooklyn</td>\n",
       "      <td>I</td>\n",
       "      <td>015700</td>\n",
       "      <td>157</td>\n",
       "      <td>BK37</td>\n",
       "      <td>Park Slope-Gowanus</td>\n",
       "      <td>4005</td>\n",
       "      <td>1.802056e+06</td>\n",
       "      <td>5427.704575</td>\n",
       "      <td>POLYGON ((991751.9074096682 184647.3677977941,...</td>\n",
       "      <td>015700</td>\n",
       "      <td>536.0</td>\n",
       "      <td>25.0</td>\n",
       "      <td>40.671198</td>\n",
       "      <td>-73.974841</td>\n",
       "      <td>Garfield Pl &amp; 8 Ave</td>\n",
       "      <td>3978.13</td>\n",
       "      <td>3358.0</td>\n",
       "      <td>(-73.97484126, 40.6711978)</td>\n",
       "      <td>(-73.97484126, 40.6711978)</td>\n",
       "      <td>3.0</td>\n",
       "      <td>Brooklyn</td>\n",
       "      <td>1.937567e+09</td>\n",
       "      <td>739945.437431</td>\n",
       "      <td>NaN</td>\n",
       "    </tr>\n",
       "    <tr>\n",
       "      <th>24</th>\n",
       "      <td>15700.0</td>\n",
       "      <td>3</td>\n",
       "      <td>Brooklyn</td>\n",
       "      <td>I</td>\n",
       "      <td>015700</td>\n",
       "      <td>157</td>\n",
       "      <td>BK37</td>\n",
       "      <td>Park Slope-Gowanus</td>\n",
       "      <td>4005</td>\n",
       "      <td>1.802056e+06</td>\n",
       "      <td>5427.704575</td>\n",
       "      <td>POLYGON ((991751.9074096682 184647.3677977941,...</td>\n",
       "      <td>015700</td>\n",
       "      <td>539.0</td>\n",
       "      <td>23.0</td>\n",
       "      <td>40.674089</td>\n",
       "      <td>-73.978728</td>\n",
       "      <td>Carroll St &amp; 6 Ave</td>\n",
       "      <td>4019.06</td>\n",
       "      <td>3361.0</td>\n",
       "      <td>(-73.9787282, 40.6740886)</td>\n",
       "      <td>(-73.9787282, 40.6740886)</td>\n",
       "      <td>3.0</td>\n",
       "      <td>Brooklyn</td>\n",
       "      <td>1.937567e+09</td>\n",
       "      <td>739945.437431</td>\n",
       "      <td>NaN</td>\n",
       "    </tr>\n",
       "    <tr>\n",
       "      <th>25</th>\n",
       "      <td>19700.0</td>\n",
       "      <td>3</td>\n",
       "      <td>Brooklyn</td>\n",
       "      <td>I</td>\n",
       "      <td>019700</td>\n",
       "      <td>197</td>\n",
       "      <td>BK69</td>\n",
       "      <td>Clinton Hill</td>\n",
       "      <td>4004</td>\n",
       "      <td>1.828072e+06</td>\n",
       "      <td>6148.341528</td>\n",
       "      <td>POLYGON ((994556.7476196304 190137.70098871, 9...</td>\n",
       "      <td>019700</td>\n",
       "      <td>174.0</td>\n",
       "      <td>23.0</td>\n",
       "      <td>40.687645</td>\n",
       "      <td>-73.969689</td>\n",
       "      <td>Clermont Ave &amp; Lafayette Ave</td>\n",
       "      <td>4461.01</td>\n",
       "      <td>420.0</td>\n",
       "      <td>(-73.96968902, 40.68764484)</td>\n",
       "      <td>(-73.96968902, 40.68764484)</td>\n",
       "      <td>3.0</td>\n",
       "      <td>Brooklyn</td>\n",
       "      <td>1.937567e+09</td>\n",
       "      <td>739945.437431</td>\n",
       "      <td>119.0</td>\n",
       "    </tr>\n",
       "    <tr>\n",
       "      <th>26</th>\n",
       "      <td>19700.0</td>\n",
       "      <td>3</td>\n",
       "      <td>Brooklyn</td>\n",
       "      <td>I</td>\n",
       "      <td>019700</td>\n",
       "      <td>197</td>\n",
       "      <td>BK69</td>\n",
       "      <td>Clinton Hill</td>\n",
       "      <td>4004</td>\n",
       "      <td>1.828072e+06</td>\n",
       "      <td>6148.341528</td>\n",
       "      <td>POLYGON ((994556.7476196304 190137.70098871, 9...</td>\n",
       "      <td>019700</td>\n",
       "      <td>48.0</td>\n",
       "      <td>23.0</td>\n",
       "      <td>40.689407</td>\n",
       "      <td>-73.968855</td>\n",
       "      <td>DeKalb Ave &amp; Vanderbilt Ave</td>\n",
       "      <td>4461.04</td>\n",
       "      <td>258.0</td>\n",
       "      <td>(-73.96885458, 40.68940747)</td>\n",
       "      <td>(-73.96885458, 40.68940747)</td>\n",
       "      <td>3.0</td>\n",
       "      <td>Brooklyn</td>\n",
       "      <td>1.937567e+09</td>\n",
       "      <td>739945.437431</td>\n",
       "      <td>119.0</td>\n",
       "    </tr>\n",
       "    <tr>\n",
       "      <th>27</th>\n",
       "      <td>20100.0</td>\n",
       "      <td>3</td>\n",
       "      <td>Brooklyn</td>\n",
       "      <td>I</td>\n",
       "      <td>020100</td>\n",
       "      <td>201</td>\n",
       "      <td>BK69</td>\n",
       "      <td>Clinton Hill</td>\n",
       "      <td>4004</td>\n",
       "      <td>1.886003e+06</td>\n",
       "      <td>6243.578554</td>\n",
       "      <td>POLYGON ((994880.6936035159 188001.4553832503,...</td>\n",
       "      <td>020100</td>\n",
       "      <td>290.0</td>\n",
       "      <td>18.0</td>\n",
       "      <td>40.684880</td>\n",
       "      <td>-73.963040</td>\n",
       "      <td>Cambridge Pl &amp; Gates Ave</td>\n",
       "      <td>4377.04</td>\n",
       "      <td>3049.0</td>\n",
       "      <td>(-73.96304, 40.68488)</td>\n",
       "      <td>(-73.96304, 40.68488)</td>\n",
       "      <td>3.0</td>\n",
       "      <td>Brooklyn</td>\n",
       "      <td>1.937567e+09</td>\n",
       "      <td>739945.437431</td>\n",
       "      <td>NaN</td>\n",
       "    </tr>\n",
       "    <tr>\n",
       "      <th>28</th>\n",
       "      <td>21900.0</td>\n",
       "      <td>3</td>\n",
       "      <td>Brooklyn</td>\n",
       "      <td>E</td>\n",
       "      <td>021900</td>\n",
       "      <td>219</td>\n",
       "      <td>BK61</td>\n",
       "      <td>Crown Heights North</td>\n",
       "      <td>4006</td>\n",
       "      <td>1.582742e+06</td>\n",
       "      <td>5031.288126</td>\n",
       "      <td>POLYGON ((997304.9833984366 184680.1661986703,...</td>\n",
       "      <td>021900</td>\n",
       "      <td>722.0</td>\n",
       "      <td>42.0</td>\n",
       "      <td>40.670777</td>\n",
       "      <td>-73.957680</td>\n",
       "      <td>Eastern Pkwy &amp; Franklin Ave</td>\n",
       "      <td>3919.07</td>\n",
       "      <td>3584.0</td>\n",
       "      <td>(-73.9576801, 40.6707767)</td>\n",
       "      <td>(-73.9576801, 40.6707767)</td>\n",
       "      <td>3.0</td>\n",
       "      <td>Brooklyn</td>\n",
       "      <td>1.937567e+09</td>\n",
       "      <td>739945.437431</td>\n",
       "      <td>NaN</td>\n",
       "    </tr>\n",
       "    <tr>\n",
       "      <th>29</th>\n",
       "      <td>21900.0</td>\n",
       "      <td>3</td>\n",
       "      <td>Brooklyn</td>\n",
       "      <td>E</td>\n",
       "      <td>021900</td>\n",
       "      <td>219</td>\n",
       "      <td>BK61</td>\n",
       "      <td>Crown Heights North</td>\n",
       "      <td>4006</td>\n",
       "      <td>1.582742e+06</td>\n",
       "      <td>5031.288126</td>\n",
       "      <td>POLYGON ((997304.9833984366 184680.1661986703,...</td>\n",
       "      <td>021900</td>\n",
       "      <td>717.0</td>\n",
       "      <td>25.0</td>\n",
       "      <td>40.672695</td>\n",
       "      <td>-73.954131</td>\n",
       "      <td>Sterling Pl &amp; Bedford Ave</td>\n",
       "      <td>3993.03</td>\n",
       "      <td>3579.0</td>\n",
       "      <td>(-73.954131, 40.672695)</td>\n",
       "      <td>(-73.954131, 40.672695)</td>\n",
       "      <td>3.0</td>\n",
       "      <td>Brooklyn</td>\n",
       "      <td>1.937567e+09</td>\n",
       "      <td>739945.437431</td>\n",
       "      <td>NaN</td>\n",
       "    </tr>\n",
       "    <tr>\n",
       "      <th>...</th>\n",
       "      <td>...</td>\n",
       "      <td>...</td>\n",
       "      <td>...</td>\n",
       "      <td>...</td>\n",
       "      <td>...</td>\n",
       "      <td>...</td>\n",
       "      <td>...</td>\n",
       "      <td>...</td>\n",
       "      <td>...</td>\n",
       "      <td>...</td>\n",
       "      <td>...</td>\n",
       "      <td>...</td>\n",
       "      <td>...</td>\n",
       "      <td>...</td>\n",
       "      <td>...</td>\n",
       "      <td>...</td>\n",
       "      <td>...</td>\n",
       "      <td>...</td>\n",
       "      <td>...</td>\n",
       "      <td>...</td>\n",
       "      <td>...</td>\n",
       "      <td>...</td>\n",
       "      <td>...</td>\n",
       "      <td>...</td>\n",
       "      <td>...</td>\n",
       "      <td>...</td>\n",
       "      <td>...</td>\n",
       "    </tr>\n",
       "    <tr>\n",
       "      <th>377</th>\n",
       "      <td>14300.0</td>\n",
       "      <td>NaN</td>\n",
       "      <td>NaN</td>\n",
       "      <td>NaN</td>\n",
       "      <td>NaN</td>\n",
       "      <td>NaN</td>\n",
       "      <td>NaN</td>\n",
       "      <td>NaN</td>\n",
       "      <td>NaN</td>\n",
       "      <td>NaN</td>\n",
       "      <td>NaN</td>\n",
       "      <td>NaN</td>\n",
       "      <td>NaN</td>\n",
       "      <td>NaN</td>\n",
       "      <td>NaN</td>\n",
       "      <td>NaN</td>\n",
       "      <td>NaN</td>\n",
       "      <td>NaN</td>\n",
       "      <td>NaN</td>\n",
       "      <td>NaN</td>\n",
       "      <td>NaN</td>\n",
       "      <td>NaN</td>\n",
       "      <td>NaN</td>\n",
       "      <td>NaN</td>\n",
       "      <td>NaN</td>\n",
       "      <td>NaN</td>\n",
       "      <td>381.0</td>\n",
       "    </tr>\n",
       "    <tr>\n",
       "      <th>378</th>\n",
       "      <td>45000.0</td>\n",
       "      <td>NaN</td>\n",
       "      <td>NaN</td>\n",
       "      <td>NaN</td>\n",
       "      <td>NaN</td>\n",
       "      <td>NaN</td>\n",
       "      <td>NaN</td>\n",
       "      <td>NaN</td>\n",
       "      <td>NaN</td>\n",
       "      <td>NaN</td>\n",
       "      <td>NaN</td>\n",
       "      <td>NaN</td>\n",
       "      <td>NaN</td>\n",
       "      <td>NaN</td>\n",
       "      <td>NaN</td>\n",
       "      <td>NaN</td>\n",
       "      <td>NaN</td>\n",
       "      <td>NaN</td>\n",
       "      <td>NaN</td>\n",
       "      <td>NaN</td>\n",
       "      <td>NaN</td>\n",
       "      <td>NaN</td>\n",
       "      <td>NaN</td>\n",
       "      <td>NaN</td>\n",
       "      <td>NaN</td>\n",
       "      <td>NaN</td>\n",
       "      <td>339.0</td>\n",
       "    </tr>\n",
       "    <tr>\n",
       "      <th>379</th>\n",
       "      <td>50600.0</td>\n",
       "      <td>NaN</td>\n",
       "      <td>NaN</td>\n",
       "      <td>NaN</td>\n",
       "      <td>NaN</td>\n",
       "      <td>NaN</td>\n",
       "      <td>NaN</td>\n",
       "      <td>NaN</td>\n",
       "      <td>NaN</td>\n",
       "      <td>NaN</td>\n",
       "      <td>NaN</td>\n",
       "      <td>NaN</td>\n",
       "      <td>NaN</td>\n",
       "      <td>NaN</td>\n",
       "      <td>NaN</td>\n",
       "      <td>NaN</td>\n",
       "      <td>NaN</td>\n",
       "      <td>NaN</td>\n",
       "      <td>NaN</td>\n",
       "      <td>NaN</td>\n",
       "      <td>NaN</td>\n",
       "      <td>NaN</td>\n",
       "      <td>NaN</td>\n",
       "      <td>NaN</td>\n",
       "      <td>NaN</td>\n",
       "      <td>NaN</td>\n",
       "      <td>112.0</td>\n",
       "    </tr>\n",
       "    <tr>\n",
       "      <th>380</th>\n",
       "      <td>11200.0</td>\n",
       "      <td>NaN</td>\n",
       "      <td>NaN</td>\n",
       "      <td>NaN</td>\n",
       "      <td>NaN</td>\n",
       "      <td>NaN</td>\n",
       "      <td>NaN</td>\n",
       "      <td>NaN</td>\n",
       "      <td>NaN</td>\n",
       "      <td>NaN</td>\n",
       "      <td>NaN</td>\n",
       "      <td>NaN</td>\n",
       "      <td>NaN</td>\n",
       "      <td>NaN</td>\n",
       "      <td>NaN</td>\n",
       "      <td>NaN</td>\n",
       "      <td>NaN</td>\n",
       "      <td>NaN</td>\n",
       "      <td>NaN</td>\n",
       "      <td>NaN</td>\n",
       "      <td>NaN</td>\n",
       "      <td>NaN</td>\n",
       "      <td>NaN</td>\n",
       "      <td>NaN</td>\n",
       "      <td>NaN</td>\n",
       "      <td>NaN</td>\n",
       "      <td>392.0</td>\n",
       "    </tr>\n",
       "    <tr>\n",
       "      <th>381</th>\n",
       "      <td>40900.0</td>\n",
       "      <td>NaN</td>\n",
       "      <td>NaN</td>\n",
       "      <td>NaN</td>\n",
       "      <td>NaN</td>\n",
       "      <td>NaN</td>\n",
       "      <td>NaN</td>\n",
       "      <td>NaN</td>\n",
       "      <td>NaN</td>\n",
       "      <td>NaN</td>\n",
       "      <td>NaN</td>\n",
       "      <td>NaN</td>\n",
       "      <td>NaN</td>\n",
       "      <td>NaN</td>\n",
       "      <td>NaN</td>\n",
       "      <td>NaN</td>\n",
       "      <td>NaN</td>\n",
       "      <td>NaN</td>\n",
       "      <td>NaN</td>\n",
       "      <td>NaN</td>\n",
       "      <td>NaN</td>\n",
       "      <td>NaN</td>\n",
       "      <td>NaN</td>\n",
       "      <td>NaN</td>\n",
       "      <td>NaN</td>\n",
       "      <td>NaN</td>\n",
       "      <td>74.0</td>\n",
       "    </tr>\n",
       "    <tr>\n",
       "      <th>382</th>\n",
       "      <td>118000.0</td>\n",
       "      <td>NaN</td>\n",
       "      <td>NaN</td>\n",
       "      <td>NaN</td>\n",
       "      <td>NaN</td>\n",
       "      <td>NaN</td>\n",
       "      <td>NaN</td>\n",
       "      <td>NaN</td>\n",
       "      <td>NaN</td>\n",
       "      <td>NaN</td>\n",
       "      <td>NaN</td>\n",
       "      <td>NaN</td>\n",
       "      <td>NaN</td>\n",
       "      <td>NaN</td>\n",
       "      <td>NaN</td>\n",
       "      <td>NaN</td>\n",
       "      <td>NaN</td>\n",
       "      <td>NaN</td>\n",
       "      <td>NaN</td>\n",
       "      <td>NaN</td>\n",
       "      <td>NaN</td>\n",
       "      <td>NaN</td>\n",
       "      <td>NaN</td>\n",
       "      <td>NaN</td>\n",
       "      <td>NaN</td>\n",
       "      <td>NaN</td>\n",
       "      <td>228.0</td>\n",
       "    </tr>\n",
       "    <tr>\n",
       "      <th>383</th>\n",
       "      <td>91000.0</td>\n",
       "      <td>NaN</td>\n",
       "      <td>NaN</td>\n",
       "      <td>NaN</td>\n",
       "      <td>NaN</td>\n",
       "      <td>NaN</td>\n",
       "      <td>NaN</td>\n",
       "      <td>NaN</td>\n",
       "      <td>NaN</td>\n",
       "      <td>NaN</td>\n",
       "      <td>NaN</td>\n",
       "      <td>NaN</td>\n",
       "      <td>NaN</td>\n",
       "      <td>NaN</td>\n",
       "      <td>NaN</td>\n",
       "      <td>NaN</td>\n",
       "      <td>NaN</td>\n",
       "      <td>NaN</td>\n",
       "      <td>NaN</td>\n",
       "      <td>NaN</td>\n",
       "      <td>NaN</td>\n",
       "      <td>NaN</td>\n",
       "      <td>NaN</td>\n",
       "      <td>NaN</td>\n",
       "      <td>NaN</td>\n",
       "      <td>NaN</td>\n",
       "      <td>217.0</td>\n",
       "    </tr>\n",
       "    <tr>\n",
       "      <th>384</th>\n",
       "      <td>91000.0</td>\n",
       "      <td>NaN</td>\n",
       "      <td>NaN</td>\n",
       "      <td>NaN</td>\n",
       "      <td>NaN</td>\n",
       "      <td>NaN</td>\n",
       "      <td>NaN</td>\n",
       "      <td>NaN</td>\n",
       "      <td>NaN</td>\n",
       "      <td>NaN</td>\n",
       "      <td>NaN</td>\n",
       "      <td>NaN</td>\n",
       "      <td>NaN</td>\n",
       "      <td>NaN</td>\n",
       "      <td>NaN</td>\n",
       "      <td>NaN</td>\n",
       "      <td>NaN</td>\n",
       "      <td>NaN</td>\n",
       "      <td>NaN</td>\n",
       "      <td>NaN</td>\n",
       "      <td>NaN</td>\n",
       "      <td>NaN</td>\n",
       "      <td>NaN</td>\n",
       "      <td>NaN</td>\n",
       "      <td>NaN</td>\n",
       "      <td>NaN</td>\n",
       "      <td>216.0</td>\n",
       "    </tr>\n",
       "    <tr>\n",
       "      <th>385</th>\n",
       "      <td>8400.0</td>\n",
       "      <td>NaN</td>\n",
       "      <td>NaN</td>\n",
       "      <td>NaN</td>\n",
       "      <td>NaN</td>\n",
       "      <td>NaN</td>\n",
       "      <td>NaN</td>\n",
       "      <td>NaN</td>\n",
       "      <td>NaN</td>\n",
       "      <td>NaN</td>\n",
       "      <td>NaN</td>\n",
       "      <td>NaN</td>\n",
       "      <td>NaN</td>\n",
       "      <td>NaN</td>\n",
       "      <td>NaN</td>\n",
       "      <td>NaN</td>\n",
       "      <td>NaN</td>\n",
       "      <td>NaN</td>\n",
       "      <td>NaN</td>\n",
       "      <td>NaN</td>\n",
       "      <td>NaN</td>\n",
       "      <td>NaN</td>\n",
       "      <td>NaN</td>\n",
       "      <td>NaN</td>\n",
       "      <td>NaN</td>\n",
       "      <td>NaN</td>\n",
       "      <td>389.0</td>\n",
       "    </tr>\n",
       "    <tr>\n",
       "      <th>386</th>\n",
       "      <td>36200.0</td>\n",
       "      <td>NaN</td>\n",
       "      <td>NaN</td>\n",
       "      <td>NaN</td>\n",
       "      <td>NaN</td>\n",
       "      <td>NaN</td>\n",
       "      <td>NaN</td>\n",
       "      <td>NaN</td>\n",
       "      <td>NaN</td>\n",
       "      <td>NaN</td>\n",
       "      <td>NaN</td>\n",
       "      <td>NaN</td>\n",
       "      <td>NaN</td>\n",
       "      <td>NaN</td>\n",
       "      <td>NaN</td>\n",
       "      <td>NaN</td>\n",
       "      <td>NaN</td>\n",
       "      <td>NaN</td>\n",
       "      <td>NaN</td>\n",
       "      <td>NaN</td>\n",
       "      <td>NaN</td>\n",
       "      <td>NaN</td>\n",
       "      <td>NaN</td>\n",
       "      <td>NaN</td>\n",
       "      <td>NaN</td>\n",
       "      <td>NaN</td>\n",
       "      <td>100.0</td>\n",
       "    </tr>\n",
       "    <tr>\n",
       "      <th>387</th>\n",
       "      <td>36200.0</td>\n",
       "      <td>NaN</td>\n",
       "      <td>NaN</td>\n",
       "      <td>NaN</td>\n",
       "      <td>NaN</td>\n",
       "      <td>NaN</td>\n",
       "      <td>NaN</td>\n",
       "      <td>NaN</td>\n",
       "      <td>NaN</td>\n",
       "      <td>NaN</td>\n",
       "      <td>NaN</td>\n",
       "      <td>NaN</td>\n",
       "      <td>NaN</td>\n",
       "      <td>NaN</td>\n",
       "      <td>NaN</td>\n",
       "      <td>NaN</td>\n",
       "      <td>NaN</td>\n",
       "      <td>NaN</td>\n",
       "      <td>NaN</td>\n",
       "      <td>NaN</td>\n",
       "      <td>NaN</td>\n",
       "      <td>NaN</td>\n",
       "      <td>NaN</td>\n",
       "      <td>NaN</td>\n",
       "      <td>NaN</td>\n",
       "      <td>NaN</td>\n",
       "      <td>327.0</td>\n",
       "    </tr>\n",
       "    <tr>\n",
       "      <th>388</th>\n",
       "      <td>36900.0</td>\n",
       "      <td>NaN</td>\n",
       "      <td>NaN</td>\n",
       "      <td>NaN</td>\n",
       "      <td>NaN</td>\n",
       "      <td>NaN</td>\n",
       "      <td>NaN</td>\n",
       "      <td>NaN</td>\n",
       "      <td>NaN</td>\n",
       "      <td>NaN</td>\n",
       "      <td>NaN</td>\n",
       "      <td>NaN</td>\n",
       "      <td>NaN</td>\n",
       "      <td>NaN</td>\n",
       "      <td>NaN</td>\n",
       "      <td>NaN</td>\n",
       "      <td>NaN</td>\n",
       "      <td>NaN</td>\n",
       "      <td>NaN</td>\n",
       "      <td>NaN</td>\n",
       "      <td>NaN</td>\n",
       "      <td>NaN</td>\n",
       "      <td>NaN</td>\n",
       "      <td>NaN</td>\n",
       "      <td>NaN</td>\n",
       "      <td>NaN</td>\n",
       "      <td>35.0</td>\n",
       "    </tr>\n",
       "    <tr>\n",
       "      <th>389</th>\n",
       "      <td>50400.0</td>\n",
       "      <td>NaN</td>\n",
       "      <td>NaN</td>\n",
       "      <td>NaN</td>\n",
       "      <td>NaN</td>\n",
       "      <td>NaN</td>\n",
       "      <td>NaN</td>\n",
       "      <td>NaN</td>\n",
       "      <td>NaN</td>\n",
       "      <td>NaN</td>\n",
       "      <td>NaN</td>\n",
       "      <td>NaN</td>\n",
       "      <td>NaN</td>\n",
       "      <td>NaN</td>\n",
       "      <td>NaN</td>\n",
       "      <td>NaN</td>\n",
       "      <td>NaN</td>\n",
       "      <td>NaN</td>\n",
       "      <td>NaN</td>\n",
       "      <td>NaN</td>\n",
       "      <td>NaN</td>\n",
       "      <td>NaN</td>\n",
       "      <td>NaN</td>\n",
       "      <td>NaN</td>\n",
       "      <td>NaN</td>\n",
       "      <td>NaN</td>\n",
       "      <td>109.0</td>\n",
       "    </tr>\n",
       "    <tr>\n",
       "      <th>390</th>\n",
       "      <td>60600.0</td>\n",
       "      <td>NaN</td>\n",
       "      <td>NaN</td>\n",
       "      <td>NaN</td>\n",
       "      <td>NaN</td>\n",
       "      <td>NaN</td>\n",
       "      <td>NaN</td>\n",
       "      <td>NaN</td>\n",
       "      <td>NaN</td>\n",
       "      <td>NaN</td>\n",
       "      <td>NaN</td>\n",
       "      <td>NaN</td>\n",
       "      <td>NaN</td>\n",
       "      <td>NaN</td>\n",
       "      <td>NaN</td>\n",
       "      <td>NaN</td>\n",
       "      <td>NaN</td>\n",
       "      <td>NaN</td>\n",
       "      <td>NaN</td>\n",
       "      <td>NaN</td>\n",
       "      <td>NaN</td>\n",
       "      <td>NaN</td>\n",
       "      <td>NaN</td>\n",
       "      <td>NaN</td>\n",
       "      <td>NaN</td>\n",
       "      <td>NaN</td>\n",
       "      <td>328.0</td>\n",
       "    </tr>\n",
       "    <tr>\n",
       "      <th>391</th>\n",
       "      <td>35000.0</td>\n",
       "      <td>NaN</td>\n",
       "      <td>NaN</td>\n",
       "      <td>NaN</td>\n",
       "      <td>NaN</td>\n",
       "      <td>NaN</td>\n",
       "      <td>NaN</td>\n",
       "      <td>NaN</td>\n",
       "      <td>NaN</td>\n",
       "      <td>NaN</td>\n",
       "      <td>NaN</td>\n",
       "      <td>NaN</td>\n",
       "      <td>NaN</td>\n",
       "      <td>NaN</td>\n",
       "      <td>NaN</td>\n",
       "      <td>NaN</td>\n",
       "      <td>NaN</td>\n",
       "      <td>NaN</td>\n",
       "      <td>NaN</td>\n",
       "      <td>NaN</td>\n",
       "      <td>NaN</td>\n",
       "      <td>NaN</td>\n",
       "      <td>NaN</td>\n",
       "      <td>NaN</td>\n",
       "      <td>NaN</td>\n",
       "      <td>NaN</td>\n",
       "      <td>469.0</td>\n",
       "    </tr>\n",
       "    <tr>\n",
       "      <th>392</th>\n",
       "      <td>35400.0</td>\n",
       "      <td>NaN</td>\n",
       "      <td>NaN</td>\n",
       "      <td>NaN</td>\n",
       "      <td>NaN</td>\n",
       "      <td>NaN</td>\n",
       "      <td>NaN</td>\n",
       "      <td>NaN</td>\n",
       "      <td>NaN</td>\n",
       "      <td>NaN</td>\n",
       "      <td>NaN</td>\n",
       "      <td>NaN</td>\n",
       "      <td>NaN</td>\n",
       "      <td>NaN</td>\n",
       "      <td>NaN</td>\n",
       "      <td>NaN</td>\n",
       "      <td>NaN</td>\n",
       "      <td>NaN</td>\n",
       "      <td>NaN</td>\n",
       "      <td>NaN</td>\n",
       "      <td>NaN</td>\n",
       "      <td>NaN</td>\n",
       "      <td>NaN</td>\n",
       "      <td>NaN</td>\n",
       "      <td>NaN</td>\n",
       "      <td>NaN</td>\n",
       "      <td>198.0</td>\n",
       "    </tr>\n",
       "    <tr>\n",
       "      <th>393</th>\n",
       "      <td>31702.0</td>\n",
       "      <td>NaN</td>\n",
       "      <td>NaN</td>\n",
       "      <td>NaN</td>\n",
       "      <td>NaN</td>\n",
       "      <td>NaN</td>\n",
       "      <td>NaN</td>\n",
       "      <td>NaN</td>\n",
       "      <td>NaN</td>\n",
       "      <td>NaN</td>\n",
       "      <td>NaN</td>\n",
       "      <td>NaN</td>\n",
       "      <td>NaN</td>\n",
       "      <td>NaN</td>\n",
       "      <td>NaN</td>\n",
       "      <td>NaN</td>\n",
       "      <td>NaN</td>\n",
       "      <td>NaN</td>\n",
       "      <td>NaN</td>\n",
       "      <td>NaN</td>\n",
       "      <td>NaN</td>\n",
       "      <td>NaN</td>\n",
       "      <td>NaN</td>\n",
       "      <td>NaN</td>\n",
       "      <td>NaN</td>\n",
       "      <td>NaN</td>\n",
       "      <td>445.0</td>\n",
       "    </tr>\n",
       "    <tr>\n",
       "      <th>394</th>\n",
       "      <td>31900.0</td>\n",
       "      <td>NaN</td>\n",
       "      <td>NaN</td>\n",
       "      <td>NaN</td>\n",
       "      <td>NaN</td>\n",
       "      <td>NaN</td>\n",
       "      <td>NaN</td>\n",
       "      <td>NaN</td>\n",
       "      <td>NaN</td>\n",
       "      <td>NaN</td>\n",
       "      <td>NaN</td>\n",
       "      <td>NaN</td>\n",
       "      <td>NaN</td>\n",
       "      <td>NaN</td>\n",
       "      <td>NaN</td>\n",
       "      <td>NaN</td>\n",
       "      <td>NaN</td>\n",
       "      <td>NaN</td>\n",
       "      <td>NaN</td>\n",
       "      <td>NaN</td>\n",
       "      <td>NaN</td>\n",
       "      <td>NaN</td>\n",
       "      <td>NaN</td>\n",
       "      <td>NaN</td>\n",
       "      <td>NaN</td>\n",
       "      <td>NaN</td>\n",
       "      <td>455.0</td>\n",
       "    </tr>\n",
       "    <tr>\n",
       "      <th>395</th>\n",
       "      <td>45300.0</td>\n",
       "      <td>NaN</td>\n",
       "      <td>NaN</td>\n",
       "      <td>NaN</td>\n",
       "      <td>NaN</td>\n",
       "      <td>NaN</td>\n",
       "      <td>NaN</td>\n",
       "      <td>NaN</td>\n",
       "      <td>NaN</td>\n",
       "      <td>NaN</td>\n",
       "      <td>NaN</td>\n",
       "      <td>NaN</td>\n",
       "      <td>NaN</td>\n",
       "      <td>NaN</td>\n",
       "      <td>NaN</td>\n",
       "      <td>NaN</td>\n",
       "      <td>NaN</td>\n",
       "      <td>NaN</td>\n",
       "      <td>NaN</td>\n",
       "      <td>NaN</td>\n",
       "      <td>NaN</td>\n",
       "      <td>NaN</td>\n",
       "      <td>NaN</td>\n",
       "      <td>NaN</td>\n",
       "      <td>NaN</td>\n",
       "      <td>NaN</td>\n",
       "      <td>306.0</td>\n",
       "    </tr>\n",
       "    <tr>\n",
       "      <th>396</th>\n",
       "      <td>30800.0</td>\n",
       "      <td>NaN</td>\n",
       "      <td>NaN</td>\n",
       "      <td>NaN</td>\n",
       "      <td>NaN</td>\n",
       "      <td>NaN</td>\n",
       "      <td>NaN</td>\n",
       "      <td>NaN</td>\n",
       "      <td>NaN</td>\n",
       "      <td>NaN</td>\n",
       "      <td>NaN</td>\n",
       "      <td>NaN</td>\n",
       "      <td>NaN</td>\n",
       "      <td>NaN</td>\n",
       "      <td>NaN</td>\n",
       "      <td>NaN</td>\n",
       "      <td>NaN</td>\n",
       "      <td>NaN</td>\n",
       "      <td>NaN</td>\n",
       "      <td>NaN</td>\n",
       "      <td>NaN</td>\n",
       "      <td>NaN</td>\n",
       "      <td>NaN</td>\n",
       "      <td>NaN</td>\n",
       "      <td>NaN</td>\n",
       "      <td>NaN</td>\n",
       "      <td>335.0</td>\n",
       "    </tr>\n",
       "    <tr>\n",
       "      <th>397</th>\n",
       "      <td>30800.0</td>\n",
       "      <td>NaN</td>\n",
       "      <td>NaN</td>\n",
       "      <td>NaN</td>\n",
       "      <td>NaN</td>\n",
       "      <td>NaN</td>\n",
       "      <td>NaN</td>\n",
       "      <td>NaN</td>\n",
       "      <td>NaN</td>\n",
       "      <td>NaN</td>\n",
       "      <td>NaN</td>\n",
       "      <td>NaN</td>\n",
       "      <td>NaN</td>\n",
       "      <td>NaN</td>\n",
       "      <td>NaN</td>\n",
       "      <td>NaN</td>\n",
       "      <td>NaN</td>\n",
       "      <td>NaN</td>\n",
       "      <td>NaN</td>\n",
       "      <td>NaN</td>\n",
       "      <td>NaN</td>\n",
       "      <td>NaN</td>\n",
       "      <td>NaN</td>\n",
       "      <td>NaN</td>\n",
       "      <td>NaN</td>\n",
       "      <td>NaN</td>\n",
       "      <td>334.0</td>\n",
       "    </tr>\n",
       "    <tr>\n",
       "      <th>398</th>\n",
       "      <td>120200.0</td>\n",
       "      <td>NaN</td>\n",
       "      <td>NaN</td>\n",
       "      <td>NaN</td>\n",
       "      <td>NaN</td>\n",
       "      <td>NaN</td>\n",
       "      <td>NaN</td>\n",
       "      <td>NaN</td>\n",
       "      <td>NaN</td>\n",
       "      <td>NaN</td>\n",
       "      <td>NaN</td>\n",
       "      <td>NaN</td>\n",
       "      <td>NaN</td>\n",
       "      <td>NaN</td>\n",
       "      <td>NaN</td>\n",
       "      <td>NaN</td>\n",
       "      <td>NaN</td>\n",
       "      <td>NaN</td>\n",
       "      <td>NaN</td>\n",
       "      <td>NaN</td>\n",
       "      <td>NaN</td>\n",
       "      <td>NaN</td>\n",
       "      <td>NaN</td>\n",
       "      <td>NaN</td>\n",
       "      <td>NaN</td>\n",
       "      <td>NaN</td>\n",
       "      <td>192.0</td>\n",
       "    </tr>\n",
       "    <tr>\n",
       "      <th>399</th>\n",
       "      <td>79802.0</td>\n",
       "      <td>NaN</td>\n",
       "      <td>NaN</td>\n",
       "      <td>NaN</td>\n",
       "      <td>NaN</td>\n",
       "      <td>NaN</td>\n",
       "      <td>NaN</td>\n",
       "      <td>NaN</td>\n",
       "      <td>NaN</td>\n",
       "      <td>NaN</td>\n",
       "      <td>NaN</td>\n",
       "      <td>NaN</td>\n",
       "      <td>NaN</td>\n",
       "      <td>NaN</td>\n",
       "      <td>NaN</td>\n",
       "      <td>NaN</td>\n",
       "      <td>NaN</td>\n",
       "      <td>NaN</td>\n",
       "      <td>NaN</td>\n",
       "      <td>NaN</td>\n",
       "      <td>NaN</td>\n",
       "      <td>NaN</td>\n",
       "      <td>NaN</td>\n",
       "      <td>NaN</td>\n",
       "      <td>NaN</td>\n",
       "      <td>NaN</td>\n",
       "      <td>114.0</td>\n",
       "    </tr>\n",
       "    <tr>\n",
       "      <th>400</th>\n",
       "      <td>42300.0</td>\n",
       "      <td>NaN</td>\n",
       "      <td>NaN</td>\n",
       "      <td>NaN</td>\n",
       "      <td>NaN</td>\n",
       "      <td>NaN</td>\n",
       "      <td>NaN</td>\n",
       "      <td>NaN</td>\n",
       "      <td>NaN</td>\n",
       "      <td>NaN</td>\n",
       "      <td>NaN</td>\n",
       "      <td>NaN</td>\n",
       "      <td>NaN</td>\n",
       "      <td>NaN</td>\n",
       "      <td>NaN</td>\n",
       "      <td>NaN</td>\n",
       "      <td>NaN</td>\n",
       "      <td>NaN</td>\n",
       "      <td>NaN</td>\n",
       "      <td>NaN</td>\n",
       "      <td>NaN</td>\n",
       "      <td>NaN</td>\n",
       "      <td>NaN</td>\n",
       "      <td>NaN</td>\n",
       "      <td>NaN</td>\n",
       "      <td>NaN</td>\n",
       "      <td>302.0</td>\n",
       "    </tr>\n",
       "    <tr>\n",
       "      <th>401</th>\n",
       "      <td>34800.0</td>\n",
       "      <td>NaN</td>\n",
       "      <td>NaN</td>\n",
       "      <td>NaN</td>\n",
       "      <td>NaN</td>\n",
       "      <td>NaN</td>\n",
       "      <td>NaN</td>\n",
       "      <td>NaN</td>\n",
       "      <td>NaN</td>\n",
       "      <td>NaN</td>\n",
       "      <td>NaN</td>\n",
       "      <td>NaN</td>\n",
       "      <td>NaN</td>\n",
       "      <td>NaN</td>\n",
       "      <td>NaN</td>\n",
       "      <td>NaN</td>\n",
       "      <td>NaN</td>\n",
       "      <td>NaN</td>\n",
       "      <td>NaN</td>\n",
       "      <td>NaN</td>\n",
       "      <td>NaN</td>\n",
       "      <td>NaN</td>\n",
       "      <td>NaN</td>\n",
       "      <td>NaN</td>\n",
       "      <td>NaN</td>\n",
       "      <td>NaN</td>\n",
       "      <td>333.0</td>\n",
       "    </tr>\n",
       "    <tr>\n",
       "      <th>402</th>\n",
       "      <td>38600.0</td>\n",
       "      <td>NaN</td>\n",
       "      <td>NaN</td>\n",
       "      <td>NaN</td>\n",
       "      <td>NaN</td>\n",
       "      <td>NaN</td>\n",
       "      <td>NaN</td>\n",
       "      <td>NaN</td>\n",
       "      <td>NaN</td>\n",
       "      <td>NaN</td>\n",
       "      <td>NaN</td>\n",
       "      <td>NaN</td>\n",
       "      <td>NaN</td>\n",
       "      <td>NaN</td>\n",
       "      <td>NaN</td>\n",
       "      <td>NaN</td>\n",
       "      <td>NaN</td>\n",
       "      <td>NaN</td>\n",
       "      <td>NaN</td>\n",
       "      <td>NaN</td>\n",
       "      <td>NaN</td>\n",
       "      <td>NaN</td>\n",
       "      <td>NaN</td>\n",
       "      <td>NaN</td>\n",
       "      <td>NaN</td>\n",
       "      <td>NaN</td>\n",
       "      <td>336.0</td>\n",
       "    </tr>\n",
       "    <tr>\n",
       "      <th>403</th>\n",
       "      <td>39800.0</td>\n",
       "      <td>NaN</td>\n",
       "      <td>NaN</td>\n",
       "      <td>NaN</td>\n",
       "      <td>NaN</td>\n",
       "      <td>NaN</td>\n",
       "      <td>NaN</td>\n",
       "      <td>NaN</td>\n",
       "      <td>NaN</td>\n",
       "      <td>NaN</td>\n",
       "      <td>NaN</td>\n",
       "      <td>NaN</td>\n",
       "      <td>NaN</td>\n",
       "      <td>NaN</td>\n",
       "      <td>NaN</td>\n",
       "      <td>NaN</td>\n",
       "      <td>NaN</td>\n",
       "      <td>NaN</td>\n",
       "      <td>NaN</td>\n",
       "      <td>NaN</td>\n",
       "      <td>NaN</td>\n",
       "      <td>NaN</td>\n",
       "      <td>NaN</td>\n",
       "      <td>NaN</td>\n",
       "      <td>NaN</td>\n",
       "      <td>NaN</td>\n",
       "      <td>325.0</td>\n",
       "    </tr>\n",
       "    <tr>\n",
       "      <th>404</th>\n",
       "      <td>39300.0</td>\n",
       "      <td>NaN</td>\n",
       "      <td>NaN</td>\n",
       "      <td>NaN</td>\n",
       "      <td>NaN</td>\n",
       "      <td>NaN</td>\n",
       "      <td>NaN</td>\n",
       "      <td>NaN</td>\n",
       "      <td>NaN</td>\n",
       "      <td>NaN</td>\n",
       "      <td>NaN</td>\n",
       "      <td>NaN</td>\n",
       "      <td>NaN</td>\n",
       "      <td>NaN</td>\n",
       "      <td>NaN</td>\n",
       "      <td>NaN</td>\n",
       "      <td>NaN</td>\n",
       "      <td>NaN</td>\n",
       "      <td>NaN</td>\n",
       "      <td>NaN</td>\n",
       "      <td>NaN</td>\n",
       "      <td>NaN</td>\n",
       "      <td>NaN</td>\n",
       "      <td>NaN</td>\n",
       "      <td>NaN</td>\n",
       "      <td>NaN</td>\n",
       "      <td>300.0</td>\n",
       "    </tr>\n",
       "    <tr>\n",
       "      <th>405</th>\n",
       "      <td>90000.0</td>\n",
       "      <td>NaN</td>\n",
       "      <td>NaN</td>\n",
       "      <td>NaN</td>\n",
       "      <td>NaN</td>\n",
       "      <td>NaN</td>\n",
       "      <td>NaN</td>\n",
       "      <td>NaN</td>\n",
       "      <td>NaN</td>\n",
       "      <td>NaN</td>\n",
       "      <td>NaN</td>\n",
       "      <td>NaN</td>\n",
       "      <td>NaN</td>\n",
       "      <td>NaN</td>\n",
       "      <td>NaN</td>\n",
       "      <td>NaN</td>\n",
       "      <td>NaN</td>\n",
       "      <td>NaN</td>\n",
       "      <td>NaN</td>\n",
       "      <td>NaN</td>\n",
       "      <td>NaN</td>\n",
       "      <td>NaN</td>\n",
       "      <td>NaN</td>\n",
       "      <td>NaN</td>\n",
       "      <td>NaN</td>\n",
       "      <td>NaN</td>\n",
       "      <td>222.0</td>\n",
       "    </tr>\n",
       "    <tr>\n",
       "      <th>406</th>\n",
       "      <td>83000.0</td>\n",
       "      <td>NaN</td>\n",
       "      <td>NaN</td>\n",
       "      <td>NaN</td>\n",
       "      <td>NaN</td>\n",
       "      <td>NaN</td>\n",
       "      <td>NaN</td>\n",
       "      <td>NaN</td>\n",
       "      <td>NaN</td>\n",
       "      <td>NaN</td>\n",
       "      <td>NaN</td>\n",
       "      <td>NaN</td>\n",
       "      <td>NaN</td>\n",
       "      <td>NaN</td>\n",
       "      <td>NaN</td>\n",
       "      <td>NaN</td>\n",
       "      <td>NaN</td>\n",
       "      <td>NaN</td>\n",
       "      <td>NaN</td>\n",
       "      <td>NaN</td>\n",
       "      <td>NaN</td>\n",
       "      <td>NaN</td>\n",
       "      <td>NaN</td>\n",
       "      <td>NaN</td>\n",
       "      <td>NaN</td>\n",
       "      <td>NaN</td>\n",
       "      <td>132.0</td>\n",
       "    </tr>\n",
       "  </tbody>\n",
       "</table>\n",
       "<p>407 rows × 27 columns</p>\n",
       "</div>"
      ],
      "text/plain": [
       "     BoroCT2010 BoroCode  BoroName CDEligibil  CT2010 CTLabel NTACode  \\\n",
       "0         501.0        3  Brooklyn          I  000501    5.01    BK09   \n",
       "1        4100.0        3  Brooklyn          I  004100      41    BK38   \n",
       "2        6500.0        3  Brooklyn          I  006500      65    BK33   \n",
       "3        6500.0        3  Brooklyn          I  006500      65    BK33   \n",
       "4        6700.0        3  Brooklyn          I  006700      67    BK33   \n",
       "5        6700.0        3  Brooklyn          I  006700      67    BK33   \n",
       "6        6900.0        3  Brooklyn          I  006900      69    BK38   \n",
       "7        6900.0        3  Brooklyn          I  006900      69    BK38   \n",
       "8        6900.0        3  Brooklyn          I  006900      69    BK38   \n",
       "9       11700.0        3  Brooklyn          I  011700     117    BK37   \n",
       "10      11700.0        3  Brooklyn          I  011700     117    BK37   \n",
       "11      12100.0        3  Brooklyn          I  012100     121    BK37   \n",
       "12      12100.0        3  Brooklyn          I  012100     121    BK37   \n",
       "13      13300.0        3  Brooklyn          I  013300     133    BK37   \n",
       "14      13300.0        3  Brooklyn          I  013300     133    BK37   \n",
       "15      13700.0        3  Brooklyn          I  013700     137    BK37   \n",
       "16      13700.0        3  Brooklyn          I  013700     137    BK37   \n",
       "17      13900.0        3  Brooklyn          E  013900     139    BK37   \n",
       "18      13900.0        3  Brooklyn          E  013900     139    BK37   \n",
       "19      15100.0        3  Brooklyn          I  015100     151    BK37   \n",
       "20      15300.0        3  Brooklyn          I  015300     153    BK37   \n",
       "21      15300.0        3  Brooklyn          I  015300     153    BK37   \n",
       "22      15500.0        3  Brooklyn          I  015500     155    BK37   \n",
       "23      15700.0        3  Brooklyn          I  015700     157    BK37   \n",
       "24      15700.0        3  Brooklyn          I  015700     157    BK37   \n",
       "25      19700.0        3  Brooklyn          I  019700     197    BK69   \n",
       "26      19700.0        3  Brooklyn          I  019700     197    BK69   \n",
       "27      20100.0        3  Brooklyn          I  020100     201    BK69   \n",
       "28      21900.0        3  Brooklyn          E  021900     219    BK61   \n",
       "29      21900.0        3  Brooklyn          E  021900     219    BK61   \n",
       "..          ...      ...       ...        ...     ...     ...     ...   \n",
       "377     14300.0      NaN       NaN        NaN     NaN     NaN     NaN   \n",
       "378     45000.0      NaN       NaN        NaN     NaN     NaN     NaN   \n",
       "379     50600.0      NaN       NaN        NaN     NaN     NaN     NaN   \n",
       "380     11200.0      NaN       NaN        NaN     NaN     NaN     NaN   \n",
       "381     40900.0      NaN       NaN        NaN     NaN     NaN     NaN   \n",
       "382    118000.0      NaN       NaN        NaN     NaN     NaN     NaN   \n",
       "383     91000.0      NaN       NaN        NaN     NaN     NaN     NaN   \n",
       "384     91000.0      NaN       NaN        NaN     NaN     NaN     NaN   \n",
       "385      8400.0      NaN       NaN        NaN     NaN     NaN     NaN   \n",
       "386     36200.0      NaN       NaN        NaN     NaN     NaN     NaN   \n",
       "387     36200.0      NaN       NaN        NaN     NaN     NaN     NaN   \n",
       "388     36900.0      NaN       NaN        NaN     NaN     NaN     NaN   \n",
       "389     50400.0      NaN       NaN        NaN     NaN     NaN     NaN   \n",
       "390     60600.0      NaN       NaN        NaN     NaN     NaN     NaN   \n",
       "391     35000.0      NaN       NaN        NaN     NaN     NaN     NaN   \n",
       "392     35400.0      NaN       NaN        NaN     NaN     NaN     NaN   \n",
       "393     31702.0      NaN       NaN        NaN     NaN     NaN     NaN   \n",
       "394     31900.0      NaN       NaN        NaN     NaN     NaN     NaN   \n",
       "395     45300.0      NaN       NaN        NaN     NaN     NaN     NaN   \n",
       "396     30800.0      NaN       NaN        NaN     NaN     NaN     NaN   \n",
       "397     30800.0      NaN       NaN        NaN     NaN     NaN     NaN   \n",
       "398    120200.0      NaN       NaN        NaN     NaN     NaN     NaN   \n",
       "399     79802.0      NaN       NaN        NaN     NaN     NaN     NaN   \n",
       "400     42300.0      NaN       NaN        NaN     NaN     NaN     NaN   \n",
       "401     34800.0      NaN       NaN        NaN     NaN     NaN     NaN   \n",
       "402     38600.0      NaN       NaN        NaN     NaN     NaN     NaN   \n",
       "403     39800.0      NaN       NaN        NaN     NaN     NaN     NaN   \n",
       "404     39300.0      NaN       NaN        NaN     NaN     NaN     NaN   \n",
       "405     90000.0      NaN       NaN        NaN     NaN     NaN     NaN   \n",
       "406     83000.0      NaN       NaN        NaN     NaN     NaN     NaN   \n",
       "\n",
       "                                              NTAName  PUMA    Shape_Area  \\\n",
       "0                        Brooklyn Heights-Cobble Hill  4004  9.015070e+05   \n",
       "1    DUMBO-Vinegar Hill-Downtown Brooklyn-Boerum Hill  4004  1.744094e+06   \n",
       "2            Carroll Gardens-Columbia Street-Red Hook  4005  2.685634e+06   \n",
       "3            Carroll Gardens-Columbia Street-Red Hook  4005  2.685634e+06   \n",
       "4            Carroll Gardens-Columbia Street-Red Hook  4005  1.680804e+06   \n",
       "5            Carroll Gardens-Columbia Street-Red Hook  4005  1.680804e+06   \n",
       "6    DUMBO-Vinegar Hill-Downtown Brooklyn-Boerum Hill  4004  1.927678e+06   \n",
       "7    DUMBO-Vinegar Hill-Downtown Brooklyn-Boerum Hill  4004  1.927678e+06   \n",
       "8    DUMBO-Vinegar Hill-Downtown Brooklyn-Boerum Hill  4004  1.927678e+06   \n",
       "9                                  Park Slope-Gowanus  4005  2.162689e+06   \n",
       "10                                 Park Slope-Gowanus  4005  2.162689e+06   \n",
       "11                                 Park Slope-Gowanus  4005  1.593259e+06   \n",
       "12                                 Park Slope-Gowanus  4005  1.593259e+06   \n",
       "13                                 Park Slope-Gowanus  4005  1.596011e+06   \n",
       "14                                 Park Slope-Gowanus  4005  1.596011e+06   \n",
       "15                                 Park Slope-Gowanus  4005  1.638366e+06   \n",
       "16                                 Park Slope-Gowanus  4005  1.638366e+06   \n",
       "17                                 Park Slope-Gowanus  4005  1.631337e+06   \n",
       "18                                 Park Slope-Gowanus  4005  1.631337e+06   \n",
       "19                                 Park Slope-Gowanus  4005  1.607114e+06   \n",
       "20                                 Park Slope-Gowanus  4005  1.619490e+06   \n",
       "21                                 Park Slope-Gowanus  4005  1.619490e+06   \n",
       "22                                 Park Slope-Gowanus  4005  1.610815e+06   \n",
       "23                                 Park Slope-Gowanus  4005  1.802056e+06   \n",
       "24                                 Park Slope-Gowanus  4005  1.802056e+06   \n",
       "25                                       Clinton Hill  4004  1.828072e+06   \n",
       "26                                       Clinton Hill  4004  1.828072e+06   \n",
       "27                                       Clinton Hill  4004  1.886003e+06   \n",
       "28                                Crown Heights North  4006  1.582742e+06   \n",
       "29                                Crown Heights North  4006  1.582742e+06   \n",
       "..                                                ...   ...           ...   \n",
       "377                                               NaN   NaN           NaN   \n",
       "378                                               NaN   NaN           NaN   \n",
       "379                                               NaN   NaN           NaN   \n",
       "380                                               NaN   NaN           NaN   \n",
       "381                                               NaN   NaN           NaN   \n",
       "382                                               NaN   NaN           NaN   \n",
       "383                                               NaN   NaN           NaN   \n",
       "384                                               NaN   NaN           NaN   \n",
       "385                                               NaN   NaN           NaN   \n",
       "386                                               NaN   NaN           NaN   \n",
       "387                                               NaN   NaN           NaN   \n",
       "388                                               NaN   NaN           NaN   \n",
       "389                                               NaN   NaN           NaN   \n",
       "390                                               NaN   NaN           NaN   \n",
       "391                                               NaN   NaN           NaN   \n",
       "392                                               NaN   NaN           NaN   \n",
       "393                                               NaN   NaN           NaN   \n",
       "394                                               NaN   NaN           NaN   \n",
       "395                                               NaN   NaN           NaN   \n",
       "396                                               NaN   NaN           NaN   \n",
       "397                                               NaN   NaN           NaN   \n",
       "398                                               NaN   NaN           NaN   \n",
       "399                                               NaN   NaN           NaN   \n",
       "400                                               NaN   NaN           NaN   \n",
       "401                                               NaN   NaN           NaN   \n",
       "402                                               NaN   NaN           NaN   \n",
       "403                                               NaN   NaN           NaN   \n",
       "404                                               NaN   NaN           NaN   \n",
       "405                                               NaN   NaN           NaN   \n",
       "406                                               NaN   NaN           NaN   \n",
       "\n",
       "      Shape_Leng                                           geometry  Borost  \\\n",
       "0    4828.170042  POLYGON ((986185.9869995115 193380.8801879325,...  000501   \n",
       "1    5283.856660  POLYGON ((989292.8179931643 189689.73638911, 9...  004100   \n",
       "2    7861.136622  POLYGON ((985301.6088256796 187646.6696166366,...  006500   \n",
       "3    7861.136622  POLYGON ((985301.6088256796 187646.6696166366,...  006500   \n",
       "4    5236.047804  POLYGON ((985800.8859863287 189005.3049926201,...  006700   \n",
       "5    5236.047804  POLYGON ((985800.8859863287 189005.3049926201,...  006700   \n",
       "6    5563.971321  POLYGON ((987497.9329833998 189157.106201112, ...  006900   \n",
       "7    5563.971321  POLYGON ((987497.9329833998 189157.106201112, ...  006900   \n",
       "8    5563.971321  POLYGON ((987497.9329833998 189157.106201112, ...  006900   \n",
       "9    5828.220774  POLYGON ((987101.2015991226 183065.1566161501,...  011700   \n",
       "10   5828.220774  POLYGON ((987101.2015991226 183065.1566161501,...  011700   \n",
       "11   5142.255127  POLYGON ((987657.6373901374 183942.3757933954,...  012100   \n",
       "12   5142.255127  POLYGON ((987657.6373901374 183942.3757933954,...  012100   \n",
       "13   5175.703270  POLYGON ((990363.5209960934 185357.4616088294,...  013300   \n",
       "14   5175.703270  POLYGON ((990363.5209960934 185357.4616088294,...  013300   \n",
       "15   5226.631819  POLYGON ((989263.5462036132 183539.4371947696,...  013700   \n",
       "16   5226.631819  POLYGON ((989263.5462036132 183539.4371947696,...  013700   \n",
       "17   5219.680479  POLYGON ((988704.4266357425 182658.4446410487,...  013900   \n",
       "18   5219.680479  POLYGON ((988704.4266357425 182658.4446410487,...  013900   \n",
       "19   5175.221646  POLYGON ((990013.4956054706 181827.5440062927,...  015100   \n",
       "20   5188.381441  POLYGON ((990572.8842163089 182708.8712157585,...  015300   \n",
       "21   5188.381441  POLYGON ((990572.8842163089 182708.8712157585,...  015300   \n",
       "22   5181.351516  POLYGON ((991130.6619873033 183586.3461913434,...  015500   \n",
       "23   5427.704575  POLYGON ((991751.9074096682 184647.3677977941,...  015700   \n",
       "24   5427.704575  POLYGON ((991751.9074096682 184647.3677977941,...  015700   \n",
       "25   6148.341528  POLYGON ((994556.7476196304 190137.70098871, 9...  019700   \n",
       "26   6148.341528  POLYGON ((994556.7476196304 190137.70098871, 9...  019700   \n",
       "27   6243.578554  POLYGON ((994880.6936035159 188001.4553832503,...  020100   \n",
       "28   5031.288126  POLYGON ((997304.9833984366 184680.1661986703,...  021900   \n",
       "29   5031.288126  POLYGON ((997304.9833984366 184680.1661986703,...  021900   \n",
       "..           ...                                                ...     ...   \n",
       "377          NaN                                                NaN     NaN   \n",
       "378          NaN                                                NaN     NaN   \n",
       "379          NaN                                                NaN     NaN   \n",
       "380          NaN                                                NaN     NaN   \n",
       "381          NaN                                                NaN     NaN   \n",
       "382          NaN                                                NaN     NaN   \n",
       "383          NaN                                                NaN     NaN   \n",
       "384          NaN                                                NaN     NaN   \n",
       "385          NaN                                                NaN     NaN   \n",
       "386          NaN                                                NaN     NaN   \n",
       "387          NaN                                                NaN     NaN   \n",
       "388          NaN                                                NaN     NaN   \n",
       "389          NaN                                                NaN     NaN   \n",
       "390          NaN                                                NaN     NaN   \n",
       "391          NaN                                                NaN     NaN   \n",
       "392          NaN                                                NaN     NaN   \n",
       "393          NaN                                                NaN     NaN   \n",
       "394          NaN                                                NaN     NaN   \n",
       "395          NaN                                                NaN     NaN   \n",
       "396          NaN                                                NaN     NaN   \n",
       "397          NaN                                                NaN     NaN   \n",
       "398          NaN                                                NaN     NaN   \n",
       "399          NaN                                                NaN     NaN   \n",
       "400          NaN                                                NaN     NaN   \n",
       "401          NaN                                                NaN     NaN   \n",
       "402          NaN                                                NaN     NaN   \n",
       "403          NaN                                                NaN     NaN   \n",
       "404          NaN                                                NaN     NaN   \n",
       "405          NaN                                                NaN     NaN   \n",
       "406          NaN                                                NaN     NaN   \n",
       "\n",
       "     index_right  capacity        lat        lon  \\\n",
       "0          148.0      31.0  40.697601 -73.993446   \n",
       "1          584.0      31.0  40.686444 -73.987591   \n",
       "2          571.0      25.0  40.678356 -74.000145   \n",
       "3          562.0      27.0  40.680959 -73.999057   \n",
       "4          564.0      25.0  40.682800 -73.999904   \n",
       "5          502.0      25.0  40.683116 -73.997853   \n",
       "6          485.0      25.0  40.684989 -73.994403   \n",
       "7          480.0      23.0  40.686371 -73.993833   \n",
       "8          583.0      35.0  40.686744 -73.990632   \n",
       "9          505.0      25.0  40.668546 -73.993333   \n",
       "10         503.0      25.0  40.668603 -73.990439   \n",
       "11         578.0      31.0  40.670513 -73.988766   \n",
       "12         576.0      19.0  40.672481 -73.993314   \n",
       "13         542.0      27.0  40.675162 -73.981483   \n",
       "14         514.0      28.0  40.677274 -73.982820   \n",
       "15         580.0      23.0  40.670484 -73.982090   \n",
       "16         579.0      27.0  40.670492 -73.985417   \n",
       "17         495.0      29.0  40.666318 -73.985462   \n",
       "18         498.0      24.0  40.668627 -73.987001   \n",
       "19         488.0      23.0  40.666208 -73.981999   \n",
       "20         486.0      27.0  40.668127 -73.983776   \n",
       "21         479.0      21.0  40.668663 -73.979881   \n",
       "22         543.0      27.0  40.670384 -73.978397   \n",
       "23         536.0      25.0  40.671198 -73.974841   \n",
       "24         539.0      23.0  40.674089 -73.978728   \n",
       "25         174.0      23.0  40.687645 -73.969689   \n",
       "26          48.0      23.0  40.689407 -73.968855   \n",
       "27         290.0      18.0  40.684880 -73.963040   \n",
       "28         722.0      42.0  40.670777 -73.957680   \n",
       "29         717.0      25.0  40.672695 -73.954131   \n",
       "..           ...       ...        ...        ...   \n",
       "377          NaN       NaN        NaN        NaN   \n",
       "378          NaN       NaN        NaN        NaN   \n",
       "379          NaN       NaN        NaN        NaN   \n",
       "380          NaN       NaN        NaN        NaN   \n",
       "381          NaN       NaN        NaN        NaN   \n",
       "382          NaN       NaN        NaN        NaN   \n",
       "383          NaN       NaN        NaN        NaN   \n",
       "384          NaN       NaN        NaN        NaN   \n",
       "385          NaN       NaN        NaN        NaN   \n",
       "386          NaN       NaN        NaN        NaN   \n",
       "387          NaN       NaN        NaN        NaN   \n",
       "388          NaN       NaN        NaN        NaN   \n",
       "389          NaN       NaN        NaN        NaN   \n",
       "390          NaN       NaN        NaN        NaN   \n",
       "391          NaN       NaN        NaN        NaN   \n",
       "392          NaN       NaN        NaN        NaN   \n",
       "393          NaN       NaN        NaN        NaN   \n",
       "394          NaN       NaN        NaN        NaN   \n",
       "395          NaN       NaN        NaN        NaN   \n",
       "396          NaN       NaN        NaN        NaN   \n",
       "397          NaN       NaN        NaN        NaN   \n",
       "398          NaN       NaN        NaN        NaN   \n",
       "399          NaN       NaN        NaN        NaN   \n",
       "400          NaN       NaN        NaN        NaN   \n",
       "401          NaN       NaN        NaN        NaN   \n",
       "402          NaN       NaN        NaN        NaN   \n",
       "403          NaN       NaN        NaN        NaN   \n",
       "404          NaN       NaN        NaN        NaN   \n",
       "405          NaN       NaN        NaN        NaN   \n",
       "406          NaN       NaN        NaN        NaN   \n",
       "\n",
       "                             name short_name  station_id  \\\n",
       "0             Clark St & Henry St    4789.03       391.0   \n",
       "1               Dean St & Hoyt St    4446.05      3410.0   \n",
       "2            Clinton St & 4 Place    4119.04      3396.0   \n",
       "3               1 Pl & Clinton St    4193.14      3386.0   \n",
       "4         President St & Henry St    4307.13      3388.0   \n",
       "5           Clinton St & Union St    4266.03      3321.0   \n",
       "6            Butler St & Court St    4339.01      3303.0   \n",
       "7            Warren St & Court St    4413.08      3298.0   \n",
       "8            Bergen St & Smith St    4446.01      3409.0   \n",
       "9                   3 Ave & 14 St    3850.03      3324.0   \n",
       "10                  12 St & 4 Ave    3882.01      3322.0   \n",
       "11                   4 Ave & 9 St    3955.05      3403.0   \n",
       "12                   2 Ave & 9 St    3996.04      3401.0   \n",
       "13             Carroll St & 5 Ave    4060.09      3364.0   \n",
       "14               Union St & 4 Ave    4175.15      3335.0   \n",
       "15                   5 St & 6 Ave    3874.01      3405.0   \n",
       "16                   7 St & 5 Ave    3914.02      3404.0   \n",
       "17                  6 Ave & 12 St    3803.05      3313.0   \n",
       "18                  10 St & 5 Ave    3842.08      3317.0   \n",
       "19                  10 St & 7 Ave    3762.08      3306.0   \n",
       "20                   6 Ave & 9 St    3803.09      3304.0   \n",
       "21                   6 St & 7 Ave    3834.10      3297.0   \n",
       "22                   3 St & 7 Ave    3905.15      3365.0   \n",
       "23            Garfield Pl & 8 Ave    3978.13      3358.0   \n",
       "24             Carroll St & 6 Ave    4019.06      3361.0   \n",
       "25   Clermont Ave & Lafayette Ave    4461.01       420.0   \n",
       "26    DeKalb Ave & Vanderbilt Ave    4461.04       258.0   \n",
       "27       Cambridge Pl & Gates Ave    4377.04      3049.0   \n",
       "28    Eastern Pkwy & Franklin Ave    3919.07      3584.0   \n",
       "29      Sterling Pl & Bedford Ave    3993.03      3579.0   \n",
       "..                            ...        ...         ...   \n",
       "377                           NaN        NaN         NaN   \n",
       "378                           NaN        NaN         NaN   \n",
       "379                           NaN        NaN         NaN   \n",
       "380                           NaN        NaN         NaN   \n",
       "381                           NaN        NaN         NaN   \n",
       "382                           NaN        NaN         NaN   \n",
       "383                           NaN        NaN         NaN   \n",
       "384                           NaN        NaN         NaN   \n",
       "385                           NaN        NaN         NaN   \n",
       "386                           NaN        NaN         NaN   \n",
       "387                           NaN        NaN         NaN   \n",
       "388                           NaN        NaN         NaN   \n",
       "389                           NaN        NaN         NaN   \n",
       "390                           NaN        NaN         NaN   \n",
       "391                           NaN        NaN         NaN   \n",
       "392                           NaN        NaN         NaN   \n",
       "393                           NaN        NaN         NaN   \n",
       "394                           NaN        NaN         NaN   \n",
       "395                           NaN        NaN         NaN   \n",
       "396                           NaN        NaN         NaN   \n",
       "397                           NaN        NaN         NaN   \n",
       "398                           NaN        NaN         NaN   \n",
       "399                           NaN        NaN         NaN   \n",
       "400                           NaN        NaN         NaN   \n",
       "401                           NaN        NaN         NaN   \n",
       "402                           NaN        NaN         NaN   \n",
       "403                           NaN        NaN         NaN   \n",
       "404                           NaN        NaN         NaN   \n",
       "405                           NaN        NaN         NaN   \n",
       "406                           NaN        NaN         NaN   \n",
       "\n",
       "                          latlon                       lonlat  boro_code  \\\n",
       "0    (-73.99344559, 40.69760127)  (-73.99344559, 40.69760127)        3.0   \n",
       "1     (-73.98759104, 40.6864442)   (-73.98759104, 40.6864442)        3.0   \n",
       "2     (-74.00014502, 40.6783563)   (-74.00014502, 40.6783563)        3.0   \n",
       "3     (-73.99905709, 40.6809591)   (-73.99905709, 40.6809591)        3.0   \n",
       "4     (-73.99990419, 40.6828003)   (-73.99990419, 40.6828003)        3.0   \n",
       "5     (-73.99785267, 40.6831164)   (-73.99785267, 40.6831164)        3.0   \n",
       "6     (-73.99440329, 40.6849894)   (-73.99440329, 40.6849894)        3.0   \n",
       "7      (-73.99383324, 40.686371)    (-73.99383324, 40.686371)        3.0   \n",
       "8     (-73.99063168, 40.6867443)   (-73.99063168, 40.6867443)        3.0   \n",
       "9     (-73.99333264, 40.6685455)   (-73.99333264, 40.6685455)        3.0   \n",
       "10      (-73.9904394, 40.668603)     (-73.9904394, 40.668603)        3.0   \n",
       "11    (-73.98876585, 40.6705135)   (-73.98876585, 40.6705135)        3.0   \n",
       "12    (-73.99331394, 40.6724811)   (-73.99331394, 40.6724811)        3.0   \n",
       "13     (-73.9814832, 40.6751622)    (-73.9814832, 40.6751622)        3.0   \n",
       "14    (-73.98282002, 40.6772744)   (-73.98282002, 40.6772744)        3.0   \n",
       "15    (-73.98208968, 40.6704836)   (-73.98208968, 40.6704836)        3.0   \n",
       "16    (-73.98541675, 40.6704922)   (-73.98541675, 40.6704922)        3.0   \n",
       "17     (-73.9854617, 40.6663181)    (-73.9854617, 40.6663181)        3.0   \n",
       "18    (-73.98700053, 40.6686273)   (-73.98700053, 40.6686273)        3.0   \n",
       "19    (-73.98199886, 40.6662078)   (-73.98199886, 40.6662078)        3.0   \n",
       "20     (-73.98377641, 40.668127)    (-73.98377641, 40.668127)        3.0   \n",
       "21    (-73.97988067, 40.6686627)   (-73.97988067, 40.6686627)        3.0   \n",
       "22    (-73.97839676, 40.6703837)   (-73.97839676, 40.6703837)        3.0   \n",
       "23    (-73.97484126, 40.6711978)   (-73.97484126, 40.6711978)        3.0   \n",
       "24     (-73.9787282, 40.6740886)    (-73.9787282, 40.6740886)        3.0   \n",
       "25   (-73.96968902, 40.68764484)  (-73.96968902, 40.68764484)        3.0   \n",
       "26   (-73.96885458, 40.68940747)  (-73.96885458, 40.68940747)        3.0   \n",
       "27         (-73.96304, 40.68488)        (-73.96304, 40.68488)        3.0   \n",
       "28     (-73.9576801, 40.6707767)    (-73.9576801, 40.6707767)        3.0   \n",
       "29       (-73.954131, 40.672695)      (-73.954131, 40.672695)        3.0   \n",
       "..                           ...                          ...        ...   \n",
       "377                          NaN                          NaN        NaN   \n",
       "378                          NaN                          NaN        NaN   \n",
       "379                          NaN                          NaN        NaN   \n",
       "380                          NaN                          NaN        NaN   \n",
       "381                          NaN                          NaN        NaN   \n",
       "382                          NaN                          NaN        NaN   \n",
       "383                          NaN                          NaN        NaN   \n",
       "384                          NaN                          NaN        NaN   \n",
       "385                          NaN                          NaN        NaN   \n",
       "386                          NaN                          NaN        NaN   \n",
       "387                          NaN                          NaN        NaN   \n",
       "388                          NaN                          NaN        NaN   \n",
       "389                          NaN                          NaN        NaN   \n",
       "390                          NaN                          NaN        NaN   \n",
       "391                          NaN                          NaN        NaN   \n",
       "392                          NaN                          NaN        NaN   \n",
       "393                          NaN                          NaN        NaN   \n",
       "394                          NaN                          NaN        NaN   \n",
       "395                          NaN                          NaN        NaN   \n",
       "396                          NaN                          NaN        NaN   \n",
       "397                          NaN                          NaN        NaN   \n",
       "398                          NaN                          NaN        NaN   \n",
       "399                          NaN                          NaN        NaN   \n",
       "400                          NaN                          NaN        NaN   \n",
       "401                          NaN                          NaN        NaN   \n",
       "402                          NaN                          NaN        NaN   \n",
       "403                          NaN                          NaN        NaN   \n",
       "404                          NaN                          NaN        NaN   \n",
       "405                          NaN                          NaN        NaN   \n",
       "406                          NaN                          NaN        NaN   \n",
       "\n",
       "    boro_name    shape_area     shape_leng  objectid  \n",
       "0    Brooklyn  1.937567e+09  739945.437431     446.0  \n",
       "1    Brooklyn  1.937567e+09  739945.437431     367.0  \n",
       "2    Brooklyn  1.937567e+09  739945.437431       NaN  \n",
       "3    Brooklyn  1.937567e+09  739945.437431       NaN  \n",
       "4    Brooklyn  1.937567e+09  739945.437431       NaN  \n",
       "5    Brooklyn  1.937567e+09  739945.437431       NaN  \n",
       "6    Brooklyn  1.937567e+09  739945.437431     376.0  \n",
       "7    Brooklyn  1.937567e+09  739945.437431     376.0  \n",
       "8    Brooklyn  1.937567e+09  739945.437431     376.0  \n",
       "9    Brooklyn  1.937567e+09  739945.437431       NaN  \n",
       "10   Brooklyn  1.937567e+09  739945.437431       NaN  \n",
       "11   Brooklyn  1.937567e+09  739945.437431     374.0  \n",
       "12   Brooklyn  1.937567e+09  739945.437431     374.0  \n",
       "13   Brooklyn  1.937567e+09  739945.437431       NaN  \n",
       "14   Brooklyn  1.937567e+09  739945.437431       NaN  \n",
       "15   Brooklyn  1.937567e+09  739945.437431     382.0  \n",
       "16   Brooklyn  1.937567e+09  739945.437431     382.0  \n",
       "17   Brooklyn  1.937567e+09  739945.437431       NaN  \n",
       "18   Brooklyn  1.937567e+09  739945.437431       NaN  \n",
       "19   Brooklyn  1.937567e+09  739945.437431     108.0  \n",
       "20   Brooklyn  1.937567e+09  739945.437431       NaN  \n",
       "21   Brooklyn  1.937567e+09  739945.437431       NaN  \n",
       "22   Brooklyn  1.937567e+09  739945.437431       NaN  \n",
       "23   Brooklyn  1.937567e+09  739945.437431       NaN  \n",
       "24   Brooklyn  1.937567e+09  739945.437431       NaN  \n",
       "25   Brooklyn  1.937567e+09  739945.437431     119.0  \n",
       "26   Brooklyn  1.937567e+09  739945.437431     119.0  \n",
       "27   Brooklyn  1.937567e+09  739945.437431       NaN  \n",
       "28   Brooklyn  1.937567e+09  739945.437431       NaN  \n",
       "29   Brooklyn  1.937567e+09  739945.437431       NaN  \n",
       "..        ...           ...            ...       ...  \n",
       "377       NaN           NaN            NaN     381.0  \n",
       "378       NaN           NaN            NaN     339.0  \n",
       "379       NaN           NaN            NaN     112.0  \n",
       "380       NaN           NaN            NaN     392.0  \n",
       "381       NaN           NaN            NaN      74.0  \n",
       "382       NaN           NaN            NaN     228.0  \n",
       "383       NaN           NaN            NaN     217.0  \n",
       "384       NaN           NaN            NaN     216.0  \n",
       "385       NaN           NaN            NaN     389.0  \n",
       "386       NaN           NaN            NaN     100.0  \n",
       "387       NaN           NaN            NaN     327.0  \n",
       "388       NaN           NaN            NaN      35.0  \n",
       "389       NaN           NaN            NaN     109.0  \n",
       "390       NaN           NaN            NaN     328.0  \n",
       "391       NaN           NaN            NaN     469.0  \n",
       "392       NaN           NaN            NaN     198.0  \n",
       "393       NaN           NaN            NaN     445.0  \n",
       "394       NaN           NaN            NaN     455.0  \n",
       "395       NaN           NaN            NaN     306.0  \n",
       "396       NaN           NaN            NaN     335.0  \n",
       "397       NaN           NaN            NaN     334.0  \n",
       "398       NaN           NaN            NaN     192.0  \n",
       "399       NaN           NaN            NaN     114.0  \n",
       "400       NaN           NaN            NaN     302.0  \n",
       "401       NaN           NaN            NaN     333.0  \n",
       "402       NaN           NaN            NaN     336.0  \n",
       "403       NaN           NaN            NaN     325.0  \n",
       "404       NaN           NaN            NaN     300.0  \n",
       "405       NaN           NaN            NaN     222.0  \n",
       "406       NaN           NaN            NaN     132.0  \n",
       "\n",
       "[407 rows x 27 columns]"
      ]
     },
     "execution_count": 950,
     "metadata": {},
     "output_type": "execute_result"
    }
   ],
   "source": [
    "CT_INTERSECTION_C"
   ]
  },
  {
   "cell_type": "code",
   "execution_count": 932,
   "metadata": {},
   "outputs": [],
   "source": [
    "# citibikegpd_Br2=CT_sub_Br.drop('index_right', axis=1)\n",
    "# subshp_Br2=subshp_Br.drop('index_right', axis=1)"
   ]
  },
  {
   "cell_type": "markdown",
   "metadata": {},
   "source": [
    "# The Citibike stations that do not have a subways and going to Manhattan:::"
   ]
  },
  {
   "cell_type": "code",
   "execution_count": 951,
   "metadata": {},
   "outputs": [],
   "source": [
    "CITIBIKE_BUT_NO_SUBWAY = CT_INTERSECTION_C[(np.isnan(CT_INTERSECTION_C.objectid))]"
   ]
  },
  {
   "cell_type": "code",
   "execution_count": 952,
   "metadata": {},
   "outputs": [],
   "source": [
    "# Select Census neighborhoods without Subway"
   ]
  },
  {
   "cell_type": "code",
   "execution_count": 953,
   "metadata": {
    "scrolled": true
   },
   "outputs": [
    {
     "data": {
      "text/plain": [
       "Index(['BoroCT2010', 'BoroCode', 'BoroName', 'CDEligibil', 'CT2010', 'CTLabel',\n",
       "       'NTACode', 'NTAName', 'PUMA', 'Shape_Area', 'Shape_Leng', 'geometry',\n",
       "       'Borost', 'index_right', 'capacity', 'lat', 'lon', 'name', 'short_name',\n",
       "       'station_id', 'latlon', 'lonlat', 'boro_code', 'boro_name',\n",
       "       'shape_area', 'shape_leng', 'objectid'],\n",
       "      dtype='object')"
      ]
     },
     "execution_count": 953,
     "metadata": {},
     "output_type": "execute_result"
    }
   ],
   "source": [
    "CITIBIKE_BUT_NO_SUBWAY.columns"
   ]
  },
  {
   "cell_type": "code",
   "execution_count": 944,
   "metadata": {},
   "outputs": [],
   "source": [
    "#cbnsgp = cbns.rename({'geometry_y': 'geometry'})"
   ]
  },
  {
   "cell_type": "code",
   "execution_count": 956,
   "metadata": {},
   "outputs": [],
   "source": [
    "cbnsgp1 = gpd.GeoDataFrame(CITIBIKE_BUT_NO_SUBWAY)"
   ]
  },
  {
   "cell_type": "code",
   "execution_count": 957,
   "metadata": {},
   "outputs": [
    {
     "name": "stdout",
     "output_type": "stream",
     "text": [
      "<class 'geopandas.geodataframe.GeoDataFrame'>\n"
     ]
    },
    {
     "data": {
      "text/html": [
       "<div>\n",
       "<table border=\"1\" class=\"dataframe\">\n",
       "  <thead>\n",
       "    <tr style=\"text-align: right;\">\n",
       "      <th></th>\n",
       "      <th>BoroCT2010</th>\n",
       "      <th>BoroCode</th>\n",
       "      <th>BoroName</th>\n",
       "      <th>CDEligibil</th>\n",
       "      <th>CT2010</th>\n",
       "      <th>CTLabel</th>\n",
       "      <th>NTACode</th>\n",
       "      <th>NTAName</th>\n",
       "      <th>PUMA</th>\n",
       "      <th>Shape_Area</th>\n",
       "      <th>Shape_Leng</th>\n",
       "      <th>geometry</th>\n",
       "      <th>Borost</th>\n",
       "      <th>index_right</th>\n",
       "      <th>capacity</th>\n",
       "      <th>lat</th>\n",
       "      <th>lon</th>\n",
       "      <th>name</th>\n",
       "      <th>short_name</th>\n",
       "      <th>station_id</th>\n",
       "      <th>latlon</th>\n",
       "      <th>lonlat</th>\n",
       "      <th>boro_code</th>\n",
       "      <th>boro_name</th>\n",
       "      <th>shape_area</th>\n",
       "      <th>shape_leng</th>\n",
       "      <th>objectid</th>\n",
       "    </tr>\n",
       "  </thead>\n",
       "  <tbody>\n",
       "    <tr>\n",
       "      <th>2</th>\n",
       "      <td>6500.0</td>\n",
       "      <td>3</td>\n",
       "      <td>Brooklyn</td>\n",
       "      <td>I</td>\n",
       "      <td>006500</td>\n",
       "      <td>65</td>\n",
       "      <td>BK33</td>\n",
       "      <td>Carroll Gardens-Columbia Street-Red Hook</td>\n",
       "      <td>4005</td>\n",
       "      <td>2.685634e+06</td>\n",
       "      <td>7861.136622</td>\n",
       "      <td>POLYGON ((985301.6088256796 187646.6696166366,...</td>\n",
       "      <td>006500</td>\n",
       "      <td>571.0</td>\n",
       "      <td>25.0</td>\n",
       "      <td>40.678356</td>\n",
       "      <td>-74.000145</td>\n",
       "      <td>Clinton St &amp; 4 Place</td>\n",
       "      <td>4119.04</td>\n",
       "      <td>3396.0</td>\n",
       "      <td>(-74.00014502, 40.6783563)</td>\n",
       "      <td>(-74.00014502, 40.6783563)</td>\n",
       "      <td>3.0</td>\n",
       "      <td>Brooklyn</td>\n",
       "      <td>1.937567e+09</td>\n",
       "      <td>739945.437431</td>\n",
       "      <td>NaN</td>\n",
       "    </tr>\n",
       "    <tr>\n",
       "      <th>3</th>\n",
       "      <td>6500.0</td>\n",
       "      <td>3</td>\n",
       "      <td>Brooklyn</td>\n",
       "      <td>I</td>\n",
       "      <td>006500</td>\n",
       "      <td>65</td>\n",
       "      <td>BK33</td>\n",
       "      <td>Carroll Gardens-Columbia Street-Red Hook</td>\n",
       "      <td>4005</td>\n",
       "      <td>2.685634e+06</td>\n",
       "      <td>7861.136622</td>\n",
       "      <td>POLYGON ((985301.6088256796 187646.6696166366,...</td>\n",
       "      <td>006500</td>\n",
       "      <td>562.0</td>\n",
       "      <td>27.0</td>\n",
       "      <td>40.680959</td>\n",
       "      <td>-73.999057</td>\n",
       "      <td>1 Pl &amp; Clinton St</td>\n",
       "      <td>4193.14</td>\n",
       "      <td>3386.0</td>\n",
       "      <td>(-73.99905709, 40.6809591)</td>\n",
       "      <td>(-73.99905709, 40.6809591)</td>\n",
       "      <td>3.0</td>\n",
       "      <td>Brooklyn</td>\n",
       "      <td>1.937567e+09</td>\n",
       "      <td>739945.437431</td>\n",
       "      <td>NaN</td>\n",
       "    </tr>\n",
       "  </tbody>\n",
       "</table>\n",
       "</div>"
      ],
      "text/plain": [
       "   BoroCT2010 BoroCode  BoroName CDEligibil  CT2010 CTLabel NTACode  \\\n",
       "2      6500.0        3  Brooklyn          I  006500      65    BK33   \n",
       "3      6500.0        3  Brooklyn          I  006500      65    BK33   \n",
       "\n",
       "                                    NTAName  PUMA    Shape_Area   Shape_Leng  \\\n",
       "2  Carroll Gardens-Columbia Street-Red Hook  4005  2.685634e+06  7861.136622   \n",
       "3  Carroll Gardens-Columbia Street-Red Hook  4005  2.685634e+06  7861.136622   \n",
       "\n",
       "                                            geometry  Borost  index_right  \\\n",
       "2  POLYGON ((985301.6088256796 187646.6696166366,...  006500        571.0   \n",
       "3  POLYGON ((985301.6088256796 187646.6696166366,...  006500        562.0   \n",
       "\n",
       "   capacity        lat        lon                  name short_name  \\\n",
       "2      25.0  40.678356 -74.000145  Clinton St & 4 Place    4119.04   \n",
       "3      27.0  40.680959 -73.999057     1 Pl & Clinton St    4193.14   \n",
       "\n",
       "   station_id                      latlon                      lonlat  \\\n",
       "2      3396.0  (-74.00014502, 40.6783563)  (-74.00014502, 40.6783563)   \n",
       "3      3386.0  (-73.99905709, 40.6809591)  (-73.99905709, 40.6809591)   \n",
       "\n",
       "   boro_code boro_name    shape_area     shape_leng  objectid  \n",
       "2        3.0  Brooklyn  1.937567e+09  739945.437431       NaN  \n",
       "3        3.0  Brooklyn  1.937567e+09  739945.437431       NaN  "
      ]
     },
     "execution_count": 957,
     "metadata": {},
     "output_type": "execute_result"
    }
   ],
   "source": [
    "print(type(cbnsgp1))\n",
    "cbnsgp1.head(2)"
   ]
  },
  {
   "cell_type": "code",
   "execution_count": 958,
   "metadata": {},
   "outputs": [],
   "source": [
    "cbnsgp1 = cbnsgp1.rename({'geometry_y': 'geometry'})"
   ]
  },
  {
   "cell_type": "code",
   "execution_count": 961,
   "metadata": {},
   "outputs": [
    {
     "data": {
      "text/plain": [
       "<matplotlib.axes._subplots.AxesSubplot at 0x7f171b46cda0>"
      ]
     },
     "execution_count": 961,
     "metadata": {},
     "output_type": "execute_result"
    },
    {
     "data": {
      "image/png": "[encoded data removed]",
      "text/plain": [
       "<matplotlib.figure.Figure at 0x7f171b1fff28>"
      ]
     },
     "metadata": {},
     "output_type": "display_data"
    }
   ],
   "source": [
    "cbnsgp1.plot()"
   ]
  },
  {
   "cell_type": "code",
   "execution_count": 962,
   "metadata": {},
   "outputs": [],
   "source": [
    "#cbnsgp1['geometry']=cbnsgp1[['geometry_y']].applymap(lambda x:shapely.geometry.Polygon(x))"
   ]
  },
  {
   "cell_type": "code",
   "execution_count": null,
   "metadata": {},
   "outputs": [],
   "source": []
  },
  {
   "cell_type": "code",
   "execution_count": 963,
   "metadata": {
    "scrolled": true
   },
   "outputs": [
    {
     "data": {
      "text/html": [
       "<div>\n",
       "<table border=\"1\" class=\"dataframe\">\n",
       "  <thead>\n",
       "    <tr style=\"text-align: right;\">\n",
       "      <th></th>\n",
       "      <th>BoroCT2010</th>\n",
       "      <th>BoroCode</th>\n",
       "      <th>BoroName</th>\n",
       "      <th>CDEligibil</th>\n",
       "      <th>CT2010</th>\n",
       "      <th>CTLabel</th>\n",
       "      <th>NTACode</th>\n",
       "      <th>NTAName</th>\n",
       "      <th>PUMA</th>\n",
       "      <th>Shape_Area</th>\n",
       "      <th>Shape_Leng</th>\n",
       "      <th>geometry</th>\n",
       "      <th>Borost</th>\n",
       "      <th>index_right</th>\n",
       "      <th>capacity</th>\n",
       "      <th>lat</th>\n",
       "      <th>lon</th>\n",
       "      <th>name</th>\n",
       "      <th>short_name</th>\n",
       "      <th>station_id</th>\n",
       "      <th>latlon</th>\n",
       "      <th>lonlat</th>\n",
       "      <th>boro_code</th>\n",
       "      <th>boro_name</th>\n",
       "      <th>shape_area</th>\n",
       "      <th>shape_leng</th>\n",
       "      <th>objectid</th>\n",
       "    </tr>\n",
       "  </thead>\n",
       "  <tbody>\n",
       "    <tr>\n",
       "      <th>2</th>\n",
       "      <td>6500.0</td>\n",
       "      <td>3</td>\n",
       "      <td>Brooklyn</td>\n",
       "      <td>I</td>\n",
       "      <td>006500</td>\n",
       "      <td>65</td>\n",
       "      <td>BK33</td>\n",
       "      <td>Carroll Gardens-Columbia Street-Red Hook</td>\n",
       "      <td>4005</td>\n",
       "      <td>2.685634e+06</td>\n",
       "      <td>7861.136622</td>\n",
       "      <td>POLYGON ((985301.6088256796 187646.6696166366,...</td>\n",
       "      <td>006500</td>\n",
       "      <td>571.0</td>\n",
       "      <td>25.0</td>\n",
       "      <td>40.678356</td>\n",
       "      <td>-74.000145</td>\n",
       "      <td>Clinton St &amp; 4 Place</td>\n",
       "      <td>4119.04</td>\n",
       "      <td>3396.0</td>\n",
       "      <td>(-74.00014502, 40.6783563)</td>\n",
       "      <td>(-74.00014502, 40.6783563)</td>\n",
       "      <td>3.0</td>\n",
       "      <td>Brooklyn</td>\n",
       "      <td>1.937567e+09</td>\n",
       "      <td>739945.437431</td>\n",
       "      <td>NaN</td>\n",
       "    </tr>\n",
       "  </tbody>\n",
       "</table>\n",
       "</div>"
      ],
      "text/plain": [
       "   BoroCT2010 BoroCode  BoroName CDEligibil  CT2010 CTLabel NTACode  \\\n",
       "2      6500.0        3  Brooklyn          I  006500      65    BK33   \n",
       "\n",
       "                                    NTAName  PUMA    Shape_Area   Shape_Leng  \\\n",
       "2  Carroll Gardens-Columbia Street-Red Hook  4005  2.685634e+06  7861.136622   \n",
       "\n",
       "                                            geometry  Borost  index_right  \\\n",
       "2  POLYGON ((985301.6088256796 187646.6696166366,...  006500        571.0   \n",
       "\n",
       "   capacity        lat        lon                  name short_name  \\\n",
       "2      25.0  40.678356 -74.000145  Clinton St & 4 Place    4119.04   \n",
       "\n",
       "   station_id                      latlon                      lonlat  \\\n",
       "2      3396.0  (-74.00014502, 40.6783563)  (-74.00014502, 40.6783563)   \n",
       "\n",
       "   boro_code boro_name    shape_area     shape_leng  objectid  \n",
       "2        3.0  Brooklyn  1.937567e+09  739945.437431       NaN  "
      ]
     },
     "execution_count": 963,
     "metadata": {},
     "output_type": "execute_result"
    }
   ],
   "source": [
    "cbnsgp1.head(1)"
   ]
  },
  {
   "cell_type": "code",
   "execution_count": 1013,
   "metadata": {},
   "outputs": [],
   "source": [
    "cb_Br_no_subway = cbnsgp1[['station_id']]"
   ]
  },
  {
   "cell_type": "code",
   "execution_count": 1014,
   "metadata": {},
   "outputs": [],
   "source": [
    "#### Historic Citike Data at neighbourhood with no subway"
   ]
  },
  {
   "cell_type": "code",
   "execution_count": 1015,
   "metadata": {},
   "outputs": [
    {
     "data": {
      "text/html": [
       "<div>\n",
       "<table border=\"1\" class=\"dataframe\">\n",
       "  <thead>\n",
       "    <tr style=\"text-align: right;\">\n",
       "      <th></th>\n",
       "      <th>Trip Duration</th>\n",
       "      <th>Start Time</th>\n",
       "      <th>Stop Time</th>\n",
       "      <th>Start Station ID</th>\n",
       "      <th>Start Station Name</th>\n",
       "      <th>Start Station Latitude</th>\n",
       "      <th>Start Station Longitude</th>\n",
       "      <th>End Station ID</th>\n",
       "      <th>End Station Name</th>\n",
       "      <th>End Station Latitude</th>\n",
       "      <th>End Station Longitude</th>\n",
       "      <th>Bike ID</th>\n",
       "      <th>User Type</th>\n",
       "      <th>Birth Year</th>\n",
       "      <th>Gender</th>\n",
       "      <th>date</th>\n",
       "      <th>To_Man</th>\n",
       "    </tr>\n",
       "  </thead>\n",
       "  <tbody>\n",
       "    <tr>\n",
       "      <th>0</th>\n",
       "      <td>528</td>\n",
       "      <td>2016-12-01 00:00:04</td>\n",
       "      <td>2016-12-01 00:08:52</td>\n",
       "      <td>499</td>\n",
       "      <td>Broadway &amp; W 60 St</td>\n",
       "      <td>40.769155</td>\n",
       "      <td>-73.981918</td>\n",
       "      <td>228</td>\n",
       "      <td>E 48 St &amp; 3 Ave</td>\n",
       "      <td>40.754601</td>\n",
       "      <td>-73.971879</td>\n",
       "      <td>26931</td>\n",
       "      <td>Subscriber</td>\n",
       "      <td>1964.0</td>\n",
       "      <td>1</td>\n",
       "      <td>2016-12-01 00:00:04</td>\n",
       "      <td>True</td>\n",
       "    </tr>\n",
       "  </tbody>\n",
       "</table>\n",
       "</div>"
      ],
      "text/plain": [
       "   Trip Duration           Start Time            Stop Time  Start Station ID  \\\n",
       "0            528  2016-12-01 00:00:04  2016-12-01 00:08:52               499   \n",
       "\n",
       "   Start Station Name  Start Station Latitude  Start Station Longitude  \\\n",
       "0  Broadway & W 60 St               40.769155               -73.981918   \n",
       "\n",
       "   End Station ID End Station Name  End Station Latitude  \\\n",
       "0             228  E 48 St & 3 Ave             40.754601   \n",
       "\n",
       "   End Station Longitude  Bike ID   User Type  Birth Year  Gender  \\\n",
       "0             -73.971879    26931  Subscriber      1964.0       1   \n",
       "\n",
       "                 date To_Man  \n",
       "0 2016-12-01 00:00:04   True  "
      ]
     },
     "execution_count": 1015,
     "metadata": {},
     "output_type": "execute_result"
    }
   ],
   "source": [
    "cb2016_to_Manhattan.head(1)"
   ]
  },
  {
   "cell_type": "code",
   "execution_count": 972,
   "metadata": {},
   "outputs": [
    {
     "data": {
      "text/plain": [
       "(619, 17)"
      ]
     },
     "execution_count": 972,
     "metadata": {},
     "output_type": "execute_result"
    }
   ],
   "source": [
    "cb2016_to_Manhattan.shape"
   ]
  },
  {
   "cell_type": "markdown",
   "metadata": {},
   "source": [
    "# The Citibike stations that do have a subways and going to Manhattan:::\n"
   ]
  },
  {
   "cell_type": "code",
   "execution_count": 978,
   "metadata": {},
   "outputs": [],
   "source": [
    "CITIBIKE_N_SUBWAY = CT_INTERSECTION_C[(~np.isnan(CT_INTERSECTION_C.objectid))]"
   ]
  },
  {
   "cell_type": "code",
   "execution_count": 982,
   "metadata": {},
   "outputs": [
    {
     "name": "stdout",
     "output_type": "stream",
     "text": [
      "<class 'geopandas.geodataframe.GeoDataFrame'>\n"
     ]
    },
    {
     "data": {
      "text/html": [
       "<div>\n",
       "<table border=\"1\" class=\"dataframe\">\n",
       "  <thead>\n",
       "    <tr style=\"text-align: right;\">\n",
       "      <th></th>\n",
       "      <th>BoroCT2010</th>\n",
       "      <th>BoroCode</th>\n",
       "      <th>BoroName</th>\n",
       "      <th>CDEligibil</th>\n",
       "      <th>CT2010</th>\n",
       "      <th>CTLabel</th>\n",
       "      <th>NTACode</th>\n",
       "      <th>NTAName</th>\n",
       "      <th>PUMA</th>\n",
       "      <th>Shape_Area</th>\n",
       "      <th>Shape_Leng</th>\n",
       "      <th>geometry</th>\n",
       "      <th>Borost</th>\n",
       "      <th>index_right</th>\n",
       "      <th>capacity</th>\n",
       "      <th>lat</th>\n",
       "      <th>lon</th>\n",
       "      <th>name</th>\n",
       "      <th>short_name</th>\n",
       "      <th>station_id</th>\n",
       "      <th>latlon</th>\n",
       "      <th>lonlat</th>\n",
       "      <th>boro_code</th>\n",
       "      <th>boro_name</th>\n",
       "      <th>shape_area</th>\n",
       "      <th>shape_leng</th>\n",
       "      <th>objectid</th>\n",
       "    </tr>\n",
       "  </thead>\n",
       "  <tbody>\n",
       "    <tr>\n",
       "      <th>0</th>\n",
       "      <td>501.0</td>\n",
       "      <td>3</td>\n",
       "      <td>Brooklyn</td>\n",
       "      <td>I</td>\n",
       "      <td>000501</td>\n",
       "      <td>5.01</td>\n",
       "      <td>BK09</td>\n",
       "      <td>Brooklyn Heights-Cobble Hill</td>\n",
       "      <td>4004</td>\n",
       "      <td>901506.992481</td>\n",
       "      <td>4828.170042</td>\n",
       "      <td>POLYGON ((986185.9869995115 193380.8801879325,...</td>\n",
       "      <td>000501</td>\n",
       "      <td>148.0</td>\n",
       "      <td>31.0</td>\n",
       "      <td>40.697601</td>\n",
       "      <td>-73.993446</td>\n",
       "      <td>Clark St &amp; Henry St</td>\n",
       "      <td>4789.03</td>\n",
       "      <td>391.0</td>\n",
       "      <td>(-73.99344559, 40.69760127)</td>\n",
       "      <td>(-73.99344559, 40.69760127)</td>\n",
       "      <td>3.0</td>\n",
       "      <td>Brooklyn</td>\n",
       "      <td>1.937567e+09</td>\n",
       "      <td>739945.437431</td>\n",
       "      <td>446.0</td>\n",
       "    </tr>\n",
       "  </tbody>\n",
       "</table>\n",
       "</div>"
      ],
      "text/plain": [
       "   BoroCT2010 BoroCode  BoroName CDEligibil  CT2010 CTLabel NTACode  \\\n",
       "0       501.0        3  Brooklyn          I  000501    5.01    BK09   \n",
       "\n",
       "                        NTAName  PUMA     Shape_Area   Shape_Leng  \\\n",
       "0  Brooklyn Heights-Cobble Hill  4004  901506.992481  4828.170042   \n",
       "\n",
       "                                            geometry  Borost  index_right  \\\n",
       "0  POLYGON ((986185.9869995115 193380.8801879325,...  000501        148.0   \n",
       "\n",
       "   capacity        lat        lon                 name short_name  station_id  \\\n",
       "0      31.0  40.697601 -73.993446  Clark St & Henry St    4789.03       391.0   \n",
       "\n",
       "                        latlon                       lonlat  boro_code  \\\n",
       "0  (-73.99344559, 40.69760127)  (-73.99344559, 40.69760127)        3.0   \n",
       "\n",
       "  boro_name    shape_area     shape_leng  objectid  \n",
       "0  Brooklyn  1.937567e+09  739945.437431     446.0  "
      ]
     },
     "execution_count": 982,
     "metadata": {},
     "output_type": "execute_result"
    }
   ],
   "source": [
    "cb_s_gp = gpd.GeoDataFrame(CITIBIKE_N_SUBWAY)\n",
    "print(type(cb_s_gp))\n",
    "cb_s_gp.head(1)"
   ]
  },
  {
   "cell_type": "code",
   "execution_count": 983,
   "metadata": {
    "scrolled": true
   },
   "outputs": [
    {
     "data": {
      "text/plain": [
       "<matplotlib.axes._subplots.AxesSubplot at 0x7f171b569940>"
      ]
     },
     "execution_count": 983,
     "metadata": {},
     "output_type": "execute_result"
    },
    {
     "data": {
      "image/png": "[encoded data removed]",
      "text/plain": [
       "<matplotlib.figure.Figure at 0x7f171b6b7ba8>"
      ]
     },
     "metadata": {},
     "output_type": "display_data"
    }
   ],
   "source": [
    "cb_s_gp1 = cb_s_gp.rename({'geometry_y': 'geometry'})\n",
    "cb_s_gp1.plot()"
   ]
  },
  {
   "cell_type": "code",
   "execution_count": 984,
   "metadata": {},
   "outputs": [],
   "source": [
    "cb_Br_subway = cb_s_gp1[['station_id']]"
   ]
  },
  {
   "cell_type": "markdown",
   "metadata": {},
   "source": [
    "### Compare citibike distributions for Subway and No Subway"
   ]
  },
  {
   "cell_type": "code",
   "execution_count": 990,
   "metadata": {},
   "outputs": [
    {
     "name": "stdout",
     "output_type": "stream",
     "text": [
      "Total Citibike trips in Dec 2016 were:  (813, 17)  while trips to Manhattan were: (619, 17)\n"
     ]
    },
    {
     "data": {
      "text/html": [
       "<div>\n",
       "<table border=\"1\" class=\"dataframe\">\n",
       "  <thead>\n",
       "    <tr style=\"text-align: right;\">\n",
       "      <th></th>\n",
       "      <th>Trip Duration</th>\n",
       "      <th>Start Time</th>\n",
       "      <th>Stop Time</th>\n",
       "      <th>Start Station ID</th>\n",
       "      <th>Start Station Name</th>\n",
       "      <th>Start Station Latitude</th>\n",
       "      <th>Start Station Longitude</th>\n",
       "      <th>End Station ID</th>\n",
       "      <th>End Station Name</th>\n",
       "      <th>End Station Latitude</th>\n",
       "      <th>End Station Longitude</th>\n",
       "      <th>Bike ID</th>\n",
       "      <th>User Type</th>\n",
       "      <th>Birth Year</th>\n",
       "      <th>Gender</th>\n",
       "      <th>date</th>\n",
       "      <th>To_Man</th>\n",
       "    </tr>\n",
       "  </thead>\n",
       "  <tbody>\n",
       "    <tr>\n",
       "      <th>0</th>\n",
       "      <td>528</td>\n",
       "      <td>2016-12-01 00:00:04</td>\n",
       "      <td>2016-12-01 00:08:52</td>\n",
       "      <td>499</td>\n",
       "      <td>Broadway &amp; W 60 St</td>\n",
       "      <td>40.769155</td>\n",
       "      <td>-73.981918</td>\n",
       "      <td>228</td>\n",
       "      <td>E 48 St &amp; 3 Ave</td>\n",
       "      <td>40.754601</td>\n",
       "      <td>-73.971879</td>\n",
       "      <td>26931</td>\n",
       "      <td>Subscriber</td>\n",
       "      <td>1964.0</td>\n",
       "      <td>1</td>\n",
       "      <td>2016-12-01 00:00:04</td>\n",
       "      <td>True</td>\n",
       "    </tr>\n",
       "    <tr>\n",
       "      <th>1000</th>\n",
       "      <td>1622</td>\n",
       "      <td>2016-12-01 06:23:06</td>\n",
       "      <td>2016-12-01 06:50:09</td>\n",
       "      <td>342</td>\n",
       "      <td>Columbia St &amp; Rivington St</td>\n",
       "      <td>40.717400</td>\n",
       "      <td>-73.980166</td>\n",
       "      <td>484</td>\n",
       "      <td>W 44 St &amp; 5 Ave</td>\n",
       "      <td>40.755003</td>\n",
       "      <td>-73.980144</td>\n",
       "      <td>24134</td>\n",
       "      <td>Subscriber</td>\n",
       "      <td>1953.0</td>\n",
       "      <td>2</td>\n",
       "      <td>2016-12-01 06:23:06</td>\n",
       "      <td>True</td>\n",
       "    </tr>\n",
       "  </tbody>\n",
       "</table>\n",
       "</div>"
      ],
      "text/plain": [
       "      Trip Duration           Start Time            Stop Time  \\\n",
       "0               528  2016-12-01 00:00:04  2016-12-01 00:08:52   \n",
       "1000           1622  2016-12-01 06:23:06  2016-12-01 06:50:09   \n",
       "\n",
       "      Start Station ID          Start Station Name  Start Station Latitude  \\\n",
       "0                  499          Broadway & W 60 St               40.769155   \n",
       "1000               342  Columbia St & Rivington St               40.717400   \n",
       "\n",
       "      Start Station Longitude  End Station ID End Station Name  \\\n",
       "0                  -73.981918             228  E 48 St & 3 Ave   \n",
       "1000               -73.980166             484  W 44 St & 5 Ave   \n",
       "\n",
       "      End Station Latitude  End Station Longitude  Bike ID   User Type  \\\n",
       "0                40.754601             -73.971879    26931  Subscriber   \n",
       "1000             40.755003             -73.980144    24134  Subscriber   \n",
       "\n",
       "      Birth Year  Gender                date To_Man  \n",
       "0         1964.0       1 2016-12-01 00:00:04   True  \n",
       "1000      1953.0       2 2016-12-01 06:23:06   True  "
      ]
     },
     "execution_count": 990,
     "metadata": {},
     "output_type": "execute_result"
    }
   ],
   "source": [
    "print(\"Total Citibike trips in Dec 2016 were: \",cb2016.shape,\" while trips to Manhattan were:\", cb2016_to_Manhattan.shape)\n",
    "cb2016_to_Manhattan.head(2)"
   ]
  },
  {
   "cell_type": "markdown",
   "metadata": {},
   "source": [
    "## Trips from Neighborhoods with No Subway"
   ]
  },
  {
   "cell_type": "code",
   "execution_count": 1016,
   "metadata": {},
   "outputs": [],
   "source": [
    "# Citibke Trips to Manhattan:\n",
    "#cb2016_to_Manhattan \n",
    "# Station ID from Brooklyn\n",
    "#cb_Br_no_subway\n",
    "# Census BT2010 ID to find total population\n",
    "#cbnsgp\n"
   ]
  },
  {
   "cell_type": "code",
   "execution_count": 1017,
   "metadata": {},
   "outputs": [
    {
     "name": "stdout",
     "output_type": "stream",
     "text": [
      "cb2016_to_Manhattan  change from  (619, 17)  to cb2016_to_Manhattan_Br_no_subway  (9, 18) cb_Br_subway shape changed from  (170, 1)\n"
     ]
    }
   ],
   "source": [
    "cb2016_to_Manhattan_Br_no_subway = cb2016_to_Manhattan.merge(cb_Br_no_subway,\\\n",
    "                                                             left_on = 'Start Station ID', right_on = 'station_id')\n",
    "print('cb2016_to_Manhattan  change from ',cb2016_to_Manhattan.shape,\\\n",
    "      ' to cb2016_to_Manhattan_Br_no_subway ' , cb2016_to_Manhattan_Br_no_subway.shape, \\\n",
    "      'cb_Br_subway shape changed from ' ,cb_Br_no_subway.shape)"
   ]
  },
  {
   "cell_type": "code",
   "execution_count": 1018,
   "metadata": {},
   "outputs": [
    {
     "data": {
      "text/html": [
       "<div>\n",
       "<table border=\"1\" class=\"dataframe\">\n",
       "  <thead>\n",
       "    <tr style=\"text-align: right;\">\n",
       "      <th></th>\n",
       "      <th>Trip Duration</th>\n",
       "      <th>Start Time</th>\n",
       "      <th>Stop Time</th>\n",
       "      <th>Start Station ID</th>\n",
       "      <th>Start Station Name</th>\n",
       "      <th>Start Station Latitude</th>\n",
       "      <th>Start Station Longitude</th>\n",
       "      <th>End Station ID</th>\n",
       "      <th>End Station Name</th>\n",
       "      <th>End Station Latitude</th>\n",
       "      <th>End Station Longitude</th>\n",
       "      <th>Bike ID</th>\n",
       "      <th>User Type</th>\n",
       "      <th>Birth Year</th>\n",
       "      <th>Gender</th>\n",
       "      <th>date</th>\n",
       "      <th>To_Man</th>\n",
       "      <th>station_id</th>\n",
       "    </tr>\n",
       "  </thead>\n",
       "  <tbody>\n",
       "    <tr>\n",
       "      <th>0</th>\n",
       "      <td>1096</td>\n",
       "      <td>2016-12-01 08:00:11</td>\n",
       "      <td>2016-12-01 08:18:28</td>\n",
       "      <td>3311</td>\n",
       "      <td>Columbia St &amp; Kane St</td>\n",
       "      <td>40.687632</td>\n",
       "      <td>-74.001626</td>\n",
       "      <td>417</td>\n",
       "      <td>Barclay St &amp; Church St</td>\n",
       "      <td>40.712912</td>\n",
       "      <td>-74.010202</td>\n",
       "      <td>23933</td>\n",
       "      <td>Subscriber</td>\n",
       "      <td>1964.0</td>\n",
       "      <td>1</td>\n",
       "      <td>2016-12-01 08:00:11</td>\n",
       "      <td>True</td>\n",
       "      <td>3311.0</td>\n",
       "    </tr>\n",
       "    <tr>\n",
       "      <th>1</th>\n",
       "      <td>1490</td>\n",
       "      <td>2016-12-01 09:34:58</td>\n",
       "      <td>2016-12-01 09:59:49</td>\n",
       "      <td>2002</td>\n",
       "      <td>Wythe Ave &amp; Metropolitan Ave</td>\n",
       "      <td>40.716887</td>\n",
       "      <td>-73.963198</td>\n",
       "      <td>330</td>\n",
       "      <td>Reade St &amp; Broadway</td>\n",
       "      <td>40.714505</td>\n",
       "      <td>-74.005628</td>\n",
       "      <td>23218</td>\n",
       "      <td>Subscriber</td>\n",
       "      <td>1966.0</td>\n",
       "      <td>2</td>\n",
       "      <td>2016-12-01 09:34:58</td>\n",
       "      <td>True</td>\n",
       "      <td>2002.0</td>\n",
       "    </tr>\n",
       "  </tbody>\n",
       "</table>\n",
       "</div>"
      ],
      "text/plain": [
       "   Trip Duration           Start Time            Stop Time  Start Station ID  \\\n",
       "0           1096  2016-12-01 08:00:11  2016-12-01 08:18:28              3311   \n",
       "1           1490  2016-12-01 09:34:58  2016-12-01 09:59:49              2002   \n",
       "\n",
       "             Start Station Name  Start Station Latitude  \\\n",
       "0         Columbia St & Kane St               40.687632   \n",
       "1  Wythe Ave & Metropolitan Ave               40.716887   \n",
       "\n",
       "   Start Station Longitude  End Station ID        End Station Name  \\\n",
       "0               -74.001626             417  Barclay St & Church St   \n",
       "1               -73.963198             330     Reade St & Broadway   \n",
       "\n",
       "   End Station Latitude  End Station Longitude  Bike ID   User Type  \\\n",
       "0             40.712912             -74.010202    23933  Subscriber   \n",
       "1             40.714505             -74.005628    23218  Subscriber   \n",
       "\n",
       "   Birth Year  Gender                date To_Man  station_id  \n",
       "0      1964.0       1 2016-12-01 08:00:11   True      3311.0  \n",
       "1      1966.0       2 2016-12-01 09:34:58   True      2002.0  "
      ]
     },
     "execution_count": 1018,
     "metadata": {},
     "output_type": "execute_result"
    }
   ],
   "source": [
    "cb2016_to_Manhattan_Br_no_subway.head(2)"
   ]
  },
  {
   "cell_type": "code",
   "execution_count": 1027,
   "metadata": {},
   "outputs": [
    {
     "name": "stdout",
     "output_type": "stream",
     "text": [
      "total trips with no subway: 9\n"
     ]
    }
   ],
   "source": [
    "total_no_subway = len(cb2016_to_Manhattan_Br_no_subway)\n",
    "print(\"total trips with no subway:\",total_no_subway)"
   ]
  },
  {
   "cell_type": "code",
   "execution_count": 1020,
   "metadata": {},
   "outputs": [],
   "source": [
    "# As a percentage of the population living in these neighbourhoods this account for X trips per 100 000 people."
   ]
  },
  {
   "cell_type": "code",
   "execution_count": 1028,
   "metadata": {},
   "outputs": [
    {
     "name": "stdout",
     "output_type": "stream",
     "text": [
      "(170, 2)\n"
     ]
    },
    {
     "data": {
      "text/html": [
       "<div>\n",
       "<table border=\"1\" class=\"dataframe\">\n",
       "  <thead>\n",
       "    <tr style=\"text-align: right;\">\n",
       "      <th></th>\n",
       "      <th>BoroCT2010</th>\n",
       "      <th>geometry_y</th>\n",
       "    </tr>\n",
       "  </thead>\n",
       "  <tbody>\n",
       "    <tr>\n",
       "      <th>237</th>\n",
       "      <td>6500.0</td>\n",
       "      <td>POLYGON ((985301.6088256796 187646.6696166366,...</td>\n",
       "    </tr>\n",
       "    <tr>\n",
       "      <th>238</th>\n",
       "      <td>6500.0</td>\n",
       "      <td>POLYGON ((985301.6088256796 187646.6696166366,...</td>\n",
       "    </tr>\n",
       "  </tbody>\n",
       "</table>\n",
       "</div>"
      ],
      "text/plain": [
       "     BoroCT2010                                         geometry_y\n",
       "237      6500.0  POLYGON ((985301.6088256796 187646.6696166366,...\n",
       "238      6500.0  POLYGON ((985301.6088256796 187646.6696166366,..."
      ]
     },
     "execution_count": 1028,
     "metadata": {},
     "output_type": "execute_result"
    }
   ],
   "source": [
    "print(cbnsgp.shape)\n",
    "cbnsgp.head(2)"
   ]
  },
  {
   "cell_type": "code",
   "execution_count": 1038,
   "metadata": {},
   "outputs": [
    {
     "data": {
      "text/html": [
       "<div>\n",
       "<table border=\"1\" class=\"dataframe\">\n",
       "  <thead>\n",
       "    <tr style=\"text-align: right;\">\n",
       "      <th></th>\n",
       "      <th>BoroCT2010</th>\n",
       "    </tr>\n",
       "  </thead>\n",
       "  <tbody>\n",
       "    <tr>\n",
       "      <th>237</th>\n",
       "      <td>6500.0</td>\n",
       "    </tr>\n",
       "    <tr>\n",
       "      <th>238</th>\n",
       "      <td>6500.0</td>\n",
       "    </tr>\n",
       "  </tbody>\n",
       "</table>\n",
       "</div>"
      ],
      "text/plain": [
       "     BoroCT2010\n",
       "237      6500.0\n",
       "238      6500.0"
      ]
     },
     "execution_count": 1038,
     "metadata": {},
     "output_type": "execute_result"
    }
   ],
   "source": [
    "cbnsgp_ = cbnsgp[['BoroCT2010']]\n",
    "cbnsgp_.head(2)"
   ]
  },
  {
   "cell_type": "code",
   "execution_count": 1058,
   "metadata": {},
   "outputs": [
    {
     "data": {
      "text/plain": [
       "(91, 1)"
      ]
     },
     "execution_count": 1058,
     "metadata": {},
     "output_type": "execute_result"
    }
   ],
   "source": [
    "uniquecbnsgp_ = pd.DataFrame(cbnsgp['BoroCT2010'].unique())\n",
    "uniquecbnsgp_.rename( columns={0: \"BoroCT2010\"}, inplace = True)\n",
    "uniquecbnsgp_.shape"
   ]
  },
  {
   "cell_type": "code",
   "execution_count": 1023,
   "metadata": {},
   "outputs": [],
   "source": [
    "## Find the total population in this area"
   ]
  },
  {
   "cell_type": "code",
   "execution_count": 1024,
   "metadata": {},
   "outputs": [
    {
     "data": {
      "text/html": [
       "<div>\n",
       "<table border=\"1\" class=\"dataframe\">\n",
       "  <thead>\n",
       "    <tr style=\"text-align: right;\">\n",
       "      <th></th>\n",
       "      <th>BoroCT2010</th>\n",
       "      <th>TotalPop</th>\n",
       "    </tr>\n",
       "  </thead>\n",
       "  <tbody>\n",
       "    <tr>\n",
       "      <th>0</th>\n",
       "      <td>200</td>\n",
       "      <td>1868</td>\n",
       "    </tr>\n",
       "    <tr>\n",
       "      <th>1</th>\n",
       "      <td>501</td>\n",
       "      <td>4759</td>\n",
       "    </tr>\n",
       "  </tbody>\n",
       "</table>\n",
       "</div>"
      ],
      "text/plain": [
       "   BoroCT2010  TotalPop\n",
       "0         200      1868\n",
       "1         501      4759"
      ]
     },
     "execution_count": 1024,
     "metadata": {},
     "output_type": "execute_result"
    }
   ],
   "source": [
    "ctszn_[['BoroCT2010','TotalPop']].head(2)"
   ]
  },
  {
   "cell_type": "code",
   "execution_count": null,
   "metadata": {},
   "outputs": [],
   "source": []
  },
  {
   "cell_type": "code",
   "execution_count": 1061,
   "metadata": {},
   "outputs": [
    {
     "name": "stdout",
     "output_type": "stream",
     "text": [
      "ctszn_  change from  (760, 17)  to cb2016_to_Manhattan_Br_no_subway  (91, 17) cb_Br_subway shape changed from  (237, 1)\n"
     ]
    }
   ],
   "source": [
    "cb2016_to_Manhattan_Br_no_subway = ctszn_.merge(uniquecbnsgp_,\\\n",
    "                                                             left_on = 'BoroCT2010', right_on = 'BoroCT2010')\n",
    "print('ctszn_  change from ',ctszn_.shape,\\\n",
    "      ' to cb2016_to_Manhattan_Br_no_subway ' , cb2016_to_Manhattan_Br_no_subway.shape, \\\n",
    "      'cb_Br_subway shape changed from ' ,cb_Br_subway.shape)"
   ]
  },
  {
   "cell_type": "code",
   "execution_count": 1066,
   "metadata": {},
   "outputs": [
    {
     "data": {
      "text/plain": [
       "Index(['BoroCT2010', 'BoroCode', 'BoroName', 'CDEligibil', 'CT2010', 'CTLabel',\n",
       "       'NTACode', 'NTAName', 'PUMA', 'Shape_Area', 'Shape_Leng', 'geometry',\n",
       "       'Borost_x', 'index', 'CensusTract', 'TotalPop', 'Borost_y'],\n",
       "      dtype='object')"
      ]
     },
     "execution_count": 1066,
     "metadata": {},
     "output_type": "execute_result"
    }
   ],
   "source": [
    "cb2016_to_Manhattan_Br_no_subway.columns"
   ]
  },
  {
   "cell_type": "code",
   "execution_count": 1067,
   "metadata": {},
   "outputs": [
    {
     "data": {
      "text/plain": [
       "(91, 17)"
      ]
     },
     "execution_count": 1067,
     "metadata": {},
     "output_type": "execute_result"
    }
   ],
   "source": [
    "cb2016_to_Manhattan_Br_no_subway.shape"
   ]
  },
  {
   "cell_type": "code",
   "execution_count": 1071,
   "metadata": {},
   "outputs": [
    {
     "data": {
      "text/plain": [
       "334073"
      ]
     },
     "execution_count": 1071,
     "metadata": {},
     "output_type": "execute_result"
    }
   ],
   "source": [
    "total_no_subway_Pop = cb2016_to_Manhattan_Br_no_subway.TotalPop.sum()\n",
    "total_no_subway_Pop"
   ]
  },
  {
   "cell_type": "code",
   "execution_count": null,
   "metadata": {},
   "outputs": [],
   "source": [
    "print(\"The total rides per 100 000 inhabitants is:\")"
   ]
  },
  {
   "cell_type": "code",
   "execution_count": 1074,
   "metadata": {},
   "outputs": [],
   "source": [
    "total_trips_in_no_subway_per_person = total_no_subway / total_no_subway_Pop \n"
   ]
  },
  {
   "cell_type": "code",
   "execution_count": 1075,
   "metadata": {
    "scrolled": true
   },
   "outputs": [
    {
     "name": "stdout",
     "output_type": "stream",
     "text": [
      "total_no_subway_per_1000000 is : 2.69402196526e-05\n"
     ]
    }
   ],
   "source": [
    "print(\"total_no_subway_per_1000000 is :\",total_no_subway_per_person)"
   ]
  },
  {
   "cell_type": "markdown",
   "metadata": {},
   "source": [
    "## Trips from Neighborhoods with Subway"
   ]
  },
  {
   "cell_type": "code",
   "execution_count": 1078,
   "metadata": {},
   "outputs": [],
   "source": [
    "# Citibke Trips to Manhattan:\n",
    "#cb2016_to_Manhattan \n",
    "# Station ID from Brooklyn\n",
    "#cb_Br_subway\n",
    "\n",
    "# Census BT2010 ID to find total population\n",
    "#cb_s_gp\n"
   ]
  },
  {
   "cell_type": "code",
   "execution_count": 1079,
   "metadata": {},
   "outputs": [
    {
     "name": "stdout",
     "output_type": "stream",
     "text": [
      "cb2016_to_Manhattan  change from  (619, 17)  to cb2016_to_Manhattan_Br_no_subway  (3, 18) cb_Br_subway shape changed from  (237, 1)\n"
     ]
    },
    {
     "data": {
      "text/html": [
       "<div>\n",
       "<table border=\"1\" class=\"dataframe\">\n",
       "  <thead>\n",
       "    <tr style=\"text-align: right;\">\n",
       "      <th></th>\n",
       "      <th>Trip Duration</th>\n",
       "      <th>Start Time</th>\n",
       "      <th>Stop Time</th>\n",
       "      <th>Start Station ID</th>\n",
       "      <th>Start Station Name</th>\n",
       "      <th>Start Station Latitude</th>\n",
       "      <th>Start Station Longitude</th>\n",
       "      <th>End Station ID</th>\n",
       "      <th>End Station Name</th>\n",
       "      <th>End Station Latitude</th>\n",
       "      <th>End Station Longitude</th>\n",
       "      <th>Bike ID</th>\n",
       "      <th>User Type</th>\n",
       "      <th>Birth Year</th>\n",
       "      <th>Gender</th>\n",
       "      <th>date</th>\n",
       "      <th>To_Man</th>\n",
       "      <th>station_id</th>\n",
       "    </tr>\n",
       "  </thead>\n",
       "  <tbody>\n",
       "    <tr>\n",
       "      <th>0</th>\n",
       "      <td>3249</td>\n",
       "      <td>2016-12-03 14:05:34</td>\n",
       "      <td>2016-12-03 14:59:43</td>\n",
       "      <td>232</td>\n",
       "      <td>Cadman Plaza E &amp; Tillary St</td>\n",
       "      <td>40.695977</td>\n",
       "      <td>-73.990149</td>\n",
       "      <td>505</td>\n",
       "      <td>6 Ave &amp; W 33 St</td>\n",
       "      <td>40.749013</td>\n",
       "      <td>-73.988484</td>\n",
       "      <td>26347</td>\n",
       "      <td>Customer</td>\n",
       "      <td>NaN</td>\n",
       "      <td>0</td>\n",
       "      <td>2016-12-03 14:05:34</td>\n",
       "      <td>True</td>\n",
       "      <td>232.0</td>\n",
       "    </tr>\n",
       "    <tr>\n",
       "      <th>1</th>\n",
       "      <td>3249</td>\n",
       "      <td>2016-12-03 14:05:34</td>\n",
       "      <td>2016-12-03 14:59:43</td>\n",
       "      <td>232</td>\n",
       "      <td>Cadman Plaza E &amp; Tillary St</td>\n",
       "      <td>40.695977</td>\n",
       "      <td>-73.990149</td>\n",
       "      <td>505</td>\n",
       "      <td>6 Ave &amp; W 33 St</td>\n",
       "      <td>40.749013</td>\n",
       "      <td>-73.988484</td>\n",
       "      <td>26347</td>\n",
       "      <td>Customer</td>\n",
       "      <td>NaN</td>\n",
       "      <td>0</td>\n",
       "      <td>2016-12-03 14:05:34</td>\n",
       "      <td>True</td>\n",
       "      <td>232.0</td>\n",
       "    </tr>\n",
       "  </tbody>\n",
       "</table>\n",
       "</div>"
      ],
      "text/plain": [
       "   Trip Duration           Start Time            Stop Time  Start Station ID  \\\n",
       "0           3249  2016-12-03 14:05:34  2016-12-03 14:59:43               232   \n",
       "1           3249  2016-12-03 14:05:34  2016-12-03 14:59:43               232   \n",
       "\n",
       "            Start Station Name  Start Station Latitude  \\\n",
       "0  Cadman Plaza E & Tillary St               40.695977   \n",
       "1  Cadman Plaza E & Tillary St               40.695977   \n",
       "\n",
       "   Start Station Longitude  End Station ID End Station Name  \\\n",
       "0               -73.990149             505  6 Ave & W 33 St   \n",
       "1               -73.990149             505  6 Ave & W 33 St   \n",
       "\n",
       "   End Station Latitude  End Station Longitude  Bike ID User Type  Birth Year  \\\n",
       "0             40.749013             -73.988484    26347  Customer         NaN   \n",
       "1             40.749013             -73.988484    26347  Customer         NaN   \n",
       "\n",
       "   Gender                date To_Man  station_id  \n",
       "0       0 2016-12-03 14:05:34   True       232.0  \n",
       "1       0 2016-12-03 14:05:34   True       232.0  "
      ]
     },
     "execution_count": 1079,
     "metadata": {},
     "output_type": "execute_result"
    }
   ],
   "source": [
    "cb2016_to_Manhattan_Br_subway = cb2016_to_Manhattan.merge(cb_Br_subway,\\\n",
    "                                                             left_on = 'Start Station ID', right_on = 'station_id')\n",
    "print('cb2016_to_Manhattan  change from ',cb2016_to_Manhattan.shape,\\\n",
    "      ' to cb2016_to_Manhattan_Br_no_subway ' , cb2016_to_Manhattan_Br_subway.shape, \\\n",
    "      'cb_Br_subway shape changed from ' ,cb_Br_subway.shape)\n",
    "cb2016_to_Manhattan_Br_subway.head(2)"
   ]
  },
  {
   "cell_type": "code",
   "execution_count": 1080,
   "metadata": {},
   "outputs": [
    {
     "name": "stdout",
     "output_type": "stream",
     "text": [
      "total trips with no subway: 3\n",
      "(170, 2)\n"
     ]
    }
   ],
   "source": [
    "\n",
    "total_subway = len(cb2016_to_Manhattan_Br_subway)\n",
    "print(\"total trips with no subway:\",total_subway)\n",
    "print(cbnsgp.shape)\n"
   ]
  },
  {
   "cell_type": "code",
   "execution_count": 1081,
   "metadata": {},
   "outputs": [
    {
     "data": {
      "text/html": [
       "<div>\n",
       "<table border=\"1\" class=\"dataframe\">\n",
       "  <thead>\n",
       "    <tr style=\"text-align: right;\">\n",
       "      <th></th>\n",
       "      <th>BoroCT2010</th>\n",
       "    </tr>\n",
       "  </thead>\n",
       "  <tbody>\n",
       "    <tr>\n",
       "      <th>0</th>\n",
       "      <td>501.0</td>\n",
       "    </tr>\n",
       "    <tr>\n",
       "      <th>1</th>\n",
       "      <td>4100.0</td>\n",
       "    </tr>\n",
       "  </tbody>\n",
       "</table>\n",
       "</div>"
      ],
      "text/plain": [
       "   BoroCT2010\n",
       "0       501.0\n",
       "1      4100.0"
      ]
     },
     "execution_count": 1081,
     "metadata": {},
     "output_type": "execute_result"
    }
   ],
   "source": [
    "cb_s_gp.head(2)\n",
    "cb_s_gp_ = cb_s_gp[['BoroCT2010']]\n",
    "cb_s_gp_.head(2)\n"
   ]
  },
  {
   "cell_type": "code",
   "execution_count": 1082,
   "metadata": {},
   "outputs": [
    {
     "data": {
      "text/plain": [
       "(146, 1)"
      ]
     },
     "execution_count": 1082,
     "metadata": {},
     "output_type": "execute_result"
    }
   ],
   "source": [
    "uniquecbnsgp_ns = pd.DataFrame(cb_s_gp_['BoroCT2010'].unique())\n",
    "uniquecbnsgp_ns.rename( columns={0: \"BoroCT2010\"}, inplace = True)\n",
    "uniquecbnsgp_ns.shape\n"
   ]
  },
  {
   "cell_type": "code",
   "execution_count": 1083,
   "metadata": {},
   "outputs": [],
   "source": [
    "ctszn_[['BoroCT2010','TotalPop']].head(2)\n",
    "cb2016_to_Manhattan_Br_subway = ctszn_.merge(uniquecbnsgp_ns,\\\n",
    "                                                             left_on = 'BoroCT2010', right_on = 'BoroCT2010')\n"
   ]
  },
  {
   "cell_type": "code",
   "execution_count": 1084,
   "metadata": {},
   "outputs": [
    {
     "name": "stdout",
     "output_type": "stream",
     "text": [
      "ctszn_  change from  (760, 17)  to cb2016_to_Manhattan_Br_no_subway  (146, 17) cb_Br_subway shape changed from  (237, 1)\n"
     ]
    }
   ],
   "source": [
    "print('ctszn_  change from ',ctszn_.shape,\\\n",
    "      ' to cb2016_to_Manhattan_Br_no_subway ' , cb2016_to_Manhattan_Br_subway.shape, \\\n",
    "      'cb_Br_subway shape changed from ' ,cb_Br_subway.shape)"
   ]
  },
  {
   "cell_type": "code",
   "execution_count": 1085,
   "metadata": {},
   "outputs": [
    {
     "name": "stdout",
     "output_type": "stream",
     "text": [
      "total_no_subway_Pop 334073\n"
     ]
    }
   ],
   "source": [
    "total_subway_Pop = cb2016_to_Manhattan_Br_subway.TotalPop.sum()\n",
    "print('total_no_subway_Pop', total_no_subway_Pop)"
   ]
  },
  {
   "cell_type": "code",
   "execution_count": 1086,
   "metadata": {},
   "outputs": [
    {
     "name": "stdout",
     "output_type": "stream",
     "text": [
      "total_no_subway_per_person is : 5.83957519037e-06\n"
     ]
    }
   ],
   "source": [
    "total_subway_per_person = total_subway / total_subway_Pop \n",
    "print(\"total_no_subway_per_person is :\",total_subway_per_person)\n"
   ]
  },
  {
   "cell_type": "markdown",
   "metadata": {},
   "source": [
    "# Results : 5.83957519037e-06 (Rides per person with SUBWAY), and 2.69402196526e-05 (Rides per person without SUBWAY).\n",
    "## It can be concluded that ridership is greater for locations without subway. Hence the closure of L-train will cause greater Citibike trips."
   ]
  },
  {
   "cell_type": "markdown",
   "metadata": {},
   "source": [
    "# Test of proportions can be used using a Chi-square test"
   ]
  },
  {
   "cell_type": "code",
   "execution_count": null,
   "metadata": {},
   "outputs": [],
   "source": []
  }
 ],
 "metadata": {
  "kernelspec": {
   "display_name": "PUI2016_Python3",
   "language": "python",
   "name": "pui2016_python3"
  },
  "language_info": {
   "codemirror_mode": {
    "name": "ipython",
    "version": 3
   },
   "file_extension": ".py",
   "mimetype": "text/x-python",
   "name": "python",
   "nbconvert_exporter": "python",
   "pygments_lexer": "ipython3",
   "version": "3.5.4"
  },
  "toc": {
   "colors": {
    "hover_highlight": "#DAA520",
    "running_highlight": "#FF0000",
    "selected_highlight": "#FFD700"
   },
   "moveMenuLeft": true,
   "nav_menu": {
    "height": "13px",
    "width": "251px"
   },
   "navigate_menu": true,
   "number_sections": true,
   "sideBar": true,
   "threshold": 4,
   "toc_cell": true,
   "toc_section_display": "block",
   "toc_window_display": true
  }
 },
 "nbformat": 4,
 "nbformat_minor": 2
}
